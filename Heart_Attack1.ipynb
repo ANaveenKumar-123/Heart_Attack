{
  "nbformat": 4,
  "nbformat_minor": 0,
  "metadata": {
    "colab": {
      "provenance": [],
      "gpuType": "T4"
    },
    "kernelspec": {
      "name": "python3",
      "display_name": "Python 3"
    },
    "language_info": {
      "name": "python"
    },
    "accelerator": "GPU"
  },
  "cells": [
    {
      "cell_type": "markdown",
      "source": [
        "## Import Usefull Libraries"
      ],
      "metadata": {
        "id": "pynqXva3CGhW"
      }
    },
    {
      "cell_type": "code",
      "execution_count": null,
      "metadata": {
        "id": "xuAGJdqyCEsL"
      },
      "outputs": [],
      "source": [
        "import pandas as pd\n",
        "import matplotlib.pyplot as plt\n",
        "import numpy as np\n",
        "import seaborn as sns\n",
        "import os\n",
        "import string\n",
        "import nltk\n",
        "from nltk.corpus  import stopwords\n",
        "from nltk.stem import PorterStemmer\n",
        "from sklearn.preprocessing import LabelEncoder\n",
        "from sklearn.preprocessing import OneHotEncoder"
      ]
    },
    {
      "cell_type": "code",
      "source": [
        "from google.colab import drive\n",
        "drive.mount(\"/content/drive/\")"
      ],
      "metadata": {
        "colab": {
          "base_uri": "https://localhost:8080/"
        },
        "id": "QWHHkGyqDBt5",
        "outputId": "29f5a74b-acc8-485a-9343-01a0cf8db412"
      },
      "execution_count": null,
      "outputs": [
        {
          "output_type": "stream",
          "name": "stdout",
          "text": [
            "Mounted at /content/drive/\n"
          ]
        }
      ]
    },
    {
      "cell_type": "code",
      "source": [
        "data = pd.read_csv(\"/content/drive/MyDrive/Archive.zip\")"
      ],
      "metadata": {
        "id": "3db7CTQBDfJi"
      },
      "execution_count": null,
      "outputs": []
    },
    {
      "cell_type": "code",
      "source": [
        "data.head()"
      ],
      "metadata": {
        "colab": {
          "base_uri": "https://localhost:8080/",
          "height": 330
        },
        "id": "i7MS8gR5ETqi",
        "outputId": "e8fab26c-f3b1-4e20-944b-9e1f41e02fbf"
      },
      "execution_count": null,
      "outputs": [
        {
          "output_type": "execute_result",
          "data": {
            "text/plain": [
              "   Age  Gender  Smoking  Alcohol_Consumption Physical_Activity_Level    BMI  \\\n",
              "0   69  Female        1                    0                Moderate  34.61   \n",
              "1   32    Male        0                    0                Moderate  22.75   \n",
              "2   89    Male        0                    1                Moderate  35.32   \n",
              "3   78    Male        0                    1                Moderate  18.23   \n",
              "4   38  Female        1                    0                Moderate  19.82   \n",
              "\n",
              "   Diabetes  Hypertension  Cholesterol_Level  Resting_BP  Heart_Rate  \\\n",
              "0         1             0              152.1         171          85   \n",
              "1         0             0              166.8         126         103   \n",
              "2         0             0              272.3         123         127   \n",
              "3         1             0              237.7         144         125   \n",
              "4         0             0              207.7         123         107   \n",
              "\n",
              "   Family_History Stress_Level Chest_Pain_Type        Thalassemia  \\\n",
              "0               0     Moderate     Non-anginal  Reversible defect   \n",
              "1               0          Low    Asymptomatic             Normal   \n",
              "2               0          Low         Typical  Reversible defect   \n",
              "3               0          Low         Typical       Fixed defect   \n",
              "4               0         High    Asymptomatic  Reversible defect   \n",
              "\n",
              "   Fasting_Blood_Sugar                   ECG_Results  Exercise_Induced_Angina  \\\n",
              "0                    0                        Normal                        0   \n",
              "1                    0              ST-T abnormality                        0   \n",
              "2                    0              ST-T abnormality                        0   \n",
              "3                    1  Left Ventricular Hypertrophy                        0   \n",
              "4                    0              ST-T abnormality                        0   \n",
              "\n",
              "   Max_Heart_Rate_Achieved Heart_Attack_Risk  \n",
              "0                      114               Low  \n",
              "1                      173          Moderate  \n",
              "2                      109               Low  \n",
              "3                      129               Low  \n",
              "4                      124          Moderate  "
            ],
            "text/html": [
              "\n",
              "  <div id=\"df-ad36dfcf-f3a3-405c-920d-552adee574a7\" class=\"colab-df-container\">\n",
              "    <div>\n",
              "<style scoped>\n",
              "    .dataframe tbody tr th:only-of-type {\n",
              "        vertical-align: middle;\n",
              "    }\n",
              "\n",
              "    .dataframe tbody tr th {\n",
              "        vertical-align: top;\n",
              "    }\n",
              "\n",
              "    .dataframe thead th {\n",
              "        text-align: right;\n",
              "    }\n",
              "</style>\n",
              "<table border=\"1\" class=\"dataframe\">\n",
              "  <thead>\n",
              "    <tr style=\"text-align: right;\">\n",
              "      <th></th>\n",
              "      <th>Age</th>\n",
              "      <th>Gender</th>\n",
              "      <th>Smoking</th>\n",
              "      <th>Alcohol_Consumption</th>\n",
              "      <th>Physical_Activity_Level</th>\n",
              "      <th>BMI</th>\n",
              "      <th>Diabetes</th>\n",
              "      <th>Hypertension</th>\n",
              "      <th>Cholesterol_Level</th>\n",
              "      <th>Resting_BP</th>\n",
              "      <th>Heart_Rate</th>\n",
              "      <th>Family_History</th>\n",
              "      <th>Stress_Level</th>\n",
              "      <th>Chest_Pain_Type</th>\n",
              "      <th>Thalassemia</th>\n",
              "      <th>Fasting_Blood_Sugar</th>\n",
              "      <th>ECG_Results</th>\n",
              "      <th>Exercise_Induced_Angina</th>\n",
              "      <th>Max_Heart_Rate_Achieved</th>\n",
              "      <th>Heart_Attack_Risk</th>\n",
              "    </tr>\n",
              "  </thead>\n",
              "  <tbody>\n",
              "    <tr>\n",
              "      <th>0</th>\n",
              "      <td>69</td>\n",
              "      <td>Female</td>\n",
              "      <td>1</td>\n",
              "      <td>0</td>\n",
              "      <td>Moderate</td>\n",
              "      <td>34.61</td>\n",
              "      <td>1</td>\n",
              "      <td>0</td>\n",
              "      <td>152.1</td>\n",
              "      <td>171</td>\n",
              "      <td>85</td>\n",
              "      <td>0</td>\n",
              "      <td>Moderate</td>\n",
              "      <td>Non-anginal</td>\n",
              "      <td>Reversible defect</td>\n",
              "      <td>0</td>\n",
              "      <td>Normal</td>\n",
              "      <td>0</td>\n",
              "      <td>114</td>\n",
              "      <td>Low</td>\n",
              "    </tr>\n",
              "    <tr>\n",
              "      <th>1</th>\n",
              "      <td>32</td>\n",
              "      <td>Male</td>\n",
              "      <td>0</td>\n",
              "      <td>0</td>\n",
              "      <td>Moderate</td>\n",
              "      <td>22.75</td>\n",
              "      <td>0</td>\n",
              "      <td>0</td>\n",
              "      <td>166.8</td>\n",
              "      <td>126</td>\n",
              "      <td>103</td>\n",
              "      <td>0</td>\n",
              "      <td>Low</td>\n",
              "      <td>Asymptomatic</td>\n",
              "      <td>Normal</td>\n",
              "      <td>0</td>\n",
              "      <td>ST-T abnormality</td>\n",
              "      <td>0</td>\n",
              "      <td>173</td>\n",
              "      <td>Moderate</td>\n",
              "    </tr>\n",
              "    <tr>\n",
              "      <th>2</th>\n",
              "      <td>89</td>\n",
              "      <td>Male</td>\n",
              "      <td>0</td>\n",
              "      <td>1</td>\n",
              "      <td>Moderate</td>\n",
              "      <td>35.32</td>\n",
              "      <td>0</td>\n",
              "      <td>0</td>\n",
              "      <td>272.3</td>\n",
              "      <td>123</td>\n",
              "      <td>127</td>\n",
              "      <td>0</td>\n",
              "      <td>Low</td>\n",
              "      <td>Typical</td>\n",
              "      <td>Reversible defect</td>\n",
              "      <td>0</td>\n",
              "      <td>ST-T abnormality</td>\n",
              "      <td>0</td>\n",
              "      <td>109</td>\n",
              "      <td>Low</td>\n",
              "    </tr>\n",
              "    <tr>\n",
              "      <th>3</th>\n",
              "      <td>78</td>\n",
              "      <td>Male</td>\n",
              "      <td>0</td>\n",
              "      <td>1</td>\n",
              "      <td>Moderate</td>\n",
              "      <td>18.23</td>\n",
              "      <td>1</td>\n",
              "      <td>0</td>\n",
              "      <td>237.7</td>\n",
              "      <td>144</td>\n",
              "      <td>125</td>\n",
              "      <td>0</td>\n",
              "      <td>Low</td>\n",
              "      <td>Typical</td>\n",
              "      <td>Fixed defect</td>\n",
              "      <td>1</td>\n",
              "      <td>Left Ventricular Hypertrophy</td>\n",
              "      <td>0</td>\n",
              "      <td>129</td>\n",
              "      <td>Low</td>\n",
              "    </tr>\n",
              "    <tr>\n",
              "      <th>4</th>\n",
              "      <td>38</td>\n",
              "      <td>Female</td>\n",
              "      <td>1</td>\n",
              "      <td>0</td>\n",
              "      <td>Moderate</td>\n",
              "      <td>19.82</td>\n",
              "      <td>0</td>\n",
              "      <td>0</td>\n",
              "      <td>207.7</td>\n",
              "      <td>123</td>\n",
              "      <td>107</td>\n",
              "      <td>0</td>\n",
              "      <td>High</td>\n",
              "      <td>Asymptomatic</td>\n",
              "      <td>Reversible defect</td>\n",
              "      <td>0</td>\n",
              "      <td>ST-T abnormality</td>\n",
              "      <td>0</td>\n",
              "      <td>124</td>\n",
              "      <td>Moderate</td>\n",
              "    </tr>\n",
              "  </tbody>\n",
              "</table>\n",
              "</div>\n",
              "    <div class=\"colab-df-buttons\">\n",
              "\n",
              "  <div class=\"colab-df-container\">\n",
              "    <button class=\"colab-df-convert\" onclick=\"convertToInteractive('df-ad36dfcf-f3a3-405c-920d-552adee574a7')\"\n",
              "            title=\"Convert this dataframe to an interactive table.\"\n",
              "            style=\"display:none;\">\n",
              "\n",
              "  <svg xmlns=\"http://www.w3.org/2000/svg\" height=\"24px\" viewBox=\"0 -960 960 960\">\n",
              "    <path d=\"M120-120v-720h720v720H120Zm60-500h600v-160H180v160Zm220 220h160v-160H400v160Zm0 220h160v-160H400v160ZM180-400h160v-160H180v160Zm440 0h160v-160H620v160ZM180-180h160v-160H180v160Zm440 0h160v-160H620v160Z\"/>\n",
              "  </svg>\n",
              "    </button>\n",
              "\n",
              "  <style>\n",
              "    .colab-df-container {\n",
              "      display:flex;\n",
              "      gap: 12px;\n",
              "    }\n",
              "\n",
              "    .colab-df-convert {\n",
              "      background-color: #E8F0FE;\n",
              "      border: none;\n",
              "      border-radius: 50%;\n",
              "      cursor: pointer;\n",
              "      display: none;\n",
              "      fill: #1967D2;\n",
              "      height: 32px;\n",
              "      padding: 0 0 0 0;\n",
              "      width: 32px;\n",
              "    }\n",
              "\n",
              "    .colab-df-convert:hover {\n",
              "      background-color: #E2EBFA;\n",
              "      box-shadow: 0px 1px 2px rgba(60, 64, 67, 0.3), 0px 1px 3px 1px rgba(60, 64, 67, 0.15);\n",
              "      fill: #174EA6;\n",
              "    }\n",
              "\n",
              "    .colab-df-buttons div {\n",
              "      margin-bottom: 4px;\n",
              "    }\n",
              "\n",
              "    [theme=dark] .colab-df-convert {\n",
              "      background-color: #3B4455;\n",
              "      fill: #D2E3FC;\n",
              "    }\n",
              "\n",
              "    [theme=dark] .colab-df-convert:hover {\n",
              "      background-color: #434B5C;\n",
              "      box-shadow: 0px 1px 3px 1px rgba(0, 0, 0, 0.15);\n",
              "      filter: drop-shadow(0px 1px 2px rgba(0, 0, 0, 0.3));\n",
              "      fill: #FFFFFF;\n",
              "    }\n",
              "  </style>\n",
              "\n",
              "    <script>\n",
              "      const buttonEl =\n",
              "        document.querySelector('#df-ad36dfcf-f3a3-405c-920d-552adee574a7 button.colab-df-convert');\n",
              "      buttonEl.style.display =\n",
              "        google.colab.kernel.accessAllowed ? 'block' : 'none';\n",
              "\n",
              "      async function convertToInteractive(key) {\n",
              "        const element = document.querySelector('#df-ad36dfcf-f3a3-405c-920d-552adee574a7');\n",
              "        const dataTable =\n",
              "          await google.colab.kernel.invokeFunction('convertToInteractive',\n",
              "                                                    [key], {});\n",
              "        if (!dataTable) return;\n",
              "\n",
              "        const docLinkHtml = 'Like what you see? Visit the ' +\n",
              "          '<a target=\"_blank\" href=https://colab.research.google.com/notebooks/data_table.ipynb>data table notebook</a>'\n",
              "          + ' to learn more about interactive tables.';\n",
              "        element.innerHTML = '';\n",
              "        dataTable['output_type'] = 'display_data';\n",
              "        await google.colab.output.renderOutput(dataTable, element);\n",
              "        const docLink = document.createElement('div');\n",
              "        docLink.innerHTML = docLinkHtml;\n",
              "        element.appendChild(docLink);\n",
              "      }\n",
              "    </script>\n",
              "  </div>\n",
              "\n",
              "\n",
              "<div id=\"df-2c756ca9-6902-4f44-8a3f-c2c961022c75\">\n",
              "  <button class=\"colab-df-quickchart\" onclick=\"quickchart('df-2c756ca9-6902-4f44-8a3f-c2c961022c75')\"\n",
              "            title=\"Suggest charts\"\n",
              "            style=\"display:none;\">\n",
              "\n",
              "<svg xmlns=\"http://www.w3.org/2000/svg\" height=\"24px\"viewBox=\"0 0 24 24\"\n",
              "     width=\"24px\">\n",
              "    <g>\n",
              "        <path d=\"M19 3H5c-1.1 0-2 .9-2 2v14c0 1.1.9 2 2 2h14c1.1 0 2-.9 2-2V5c0-1.1-.9-2-2-2zM9 17H7v-7h2v7zm4 0h-2V7h2v10zm4 0h-2v-4h2v4z\"/>\n",
              "    </g>\n",
              "</svg>\n",
              "  </button>\n",
              "\n",
              "<style>\n",
              "  .colab-df-quickchart {\n",
              "      --bg-color: #E8F0FE;\n",
              "      --fill-color: #1967D2;\n",
              "      --hover-bg-color: #E2EBFA;\n",
              "      --hover-fill-color: #174EA6;\n",
              "      --disabled-fill-color: #AAA;\n",
              "      --disabled-bg-color: #DDD;\n",
              "  }\n",
              "\n",
              "  [theme=dark] .colab-df-quickchart {\n",
              "      --bg-color: #3B4455;\n",
              "      --fill-color: #D2E3FC;\n",
              "      --hover-bg-color: #434B5C;\n",
              "      --hover-fill-color: #FFFFFF;\n",
              "      --disabled-bg-color: #3B4455;\n",
              "      --disabled-fill-color: #666;\n",
              "  }\n",
              "\n",
              "  .colab-df-quickchart {\n",
              "    background-color: var(--bg-color);\n",
              "    border: none;\n",
              "    border-radius: 50%;\n",
              "    cursor: pointer;\n",
              "    display: none;\n",
              "    fill: var(--fill-color);\n",
              "    height: 32px;\n",
              "    padding: 0;\n",
              "    width: 32px;\n",
              "  }\n",
              "\n",
              "  .colab-df-quickchart:hover {\n",
              "    background-color: var(--hover-bg-color);\n",
              "    box-shadow: 0 1px 2px rgba(60, 64, 67, 0.3), 0 1px 3px 1px rgba(60, 64, 67, 0.15);\n",
              "    fill: var(--button-hover-fill-color);\n",
              "  }\n",
              "\n",
              "  .colab-df-quickchart-complete:disabled,\n",
              "  .colab-df-quickchart-complete:disabled:hover {\n",
              "    background-color: var(--disabled-bg-color);\n",
              "    fill: var(--disabled-fill-color);\n",
              "    box-shadow: none;\n",
              "  }\n",
              "\n",
              "  .colab-df-spinner {\n",
              "    border: 2px solid var(--fill-color);\n",
              "    border-color: transparent;\n",
              "    border-bottom-color: var(--fill-color);\n",
              "    animation:\n",
              "      spin 1s steps(1) infinite;\n",
              "  }\n",
              "\n",
              "  @keyframes spin {\n",
              "    0% {\n",
              "      border-color: transparent;\n",
              "      border-bottom-color: var(--fill-color);\n",
              "      border-left-color: var(--fill-color);\n",
              "    }\n",
              "    20% {\n",
              "      border-color: transparent;\n",
              "      border-left-color: var(--fill-color);\n",
              "      border-top-color: var(--fill-color);\n",
              "    }\n",
              "    30% {\n",
              "      border-color: transparent;\n",
              "      border-left-color: var(--fill-color);\n",
              "      border-top-color: var(--fill-color);\n",
              "      border-right-color: var(--fill-color);\n",
              "    }\n",
              "    40% {\n",
              "      border-color: transparent;\n",
              "      border-right-color: var(--fill-color);\n",
              "      border-top-color: var(--fill-color);\n",
              "    }\n",
              "    60% {\n",
              "      border-color: transparent;\n",
              "      border-right-color: var(--fill-color);\n",
              "    }\n",
              "    80% {\n",
              "      border-color: transparent;\n",
              "      border-right-color: var(--fill-color);\n",
              "      border-bottom-color: var(--fill-color);\n",
              "    }\n",
              "    90% {\n",
              "      border-color: transparent;\n",
              "      border-bottom-color: var(--fill-color);\n",
              "    }\n",
              "  }\n",
              "</style>\n",
              "\n",
              "  <script>\n",
              "    async function quickchart(key) {\n",
              "      const quickchartButtonEl =\n",
              "        document.querySelector('#' + key + ' button');\n",
              "      quickchartButtonEl.disabled = true;  // To prevent multiple clicks.\n",
              "      quickchartButtonEl.classList.add('colab-df-spinner');\n",
              "      try {\n",
              "        const charts = await google.colab.kernel.invokeFunction(\n",
              "            'suggestCharts', [key], {});\n",
              "      } catch (error) {\n",
              "        console.error('Error during call to suggestCharts:', error);\n",
              "      }\n",
              "      quickchartButtonEl.classList.remove('colab-df-spinner');\n",
              "      quickchartButtonEl.classList.add('colab-df-quickchart-complete');\n",
              "    }\n",
              "    (() => {\n",
              "      let quickchartButtonEl =\n",
              "        document.querySelector('#df-2c756ca9-6902-4f44-8a3f-c2c961022c75 button');\n",
              "      quickchartButtonEl.style.display =\n",
              "        google.colab.kernel.accessAllowed ? 'block' : 'none';\n",
              "    })();\n",
              "  </script>\n",
              "</div>\n",
              "\n",
              "    </div>\n",
              "  </div>\n"
            ],
            "application/vnd.google.colaboratory.intrinsic+json": {
              "type": "dataframe",
              "variable_name": "data",
              "summary": "{\n  \"name\": \"data\",\n  \"rows\": 50000,\n  \"fields\": [\n    {\n      \"column\": \"Age\",\n      \"properties\": {\n        \"dtype\": \"number\",\n        \"std\": 20,\n        \"min\": 18,\n        \"max\": 89,\n        \"num_unique_values\": 72,\n        \"samples\": [\n          38,\n          85,\n          59\n        ],\n        \"semantic_type\": \"\",\n        \"description\": \"\"\n      }\n    },\n    {\n      \"column\": \"Gender\",\n      \"properties\": {\n        \"dtype\": \"category\",\n        \"num_unique_values\": 2,\n        \"samples\": [\n          \"Male\",\n          \"Female\"\n        ],\n        \"semantic_type\": \"\",\n        \"description\": \"\"\n      }\n    },\n    {\n      \"column\": \"Smoking\",\n      \"properties\": {\n        \"dtype\": \"number\",\n        \"std\": 0,\n        \"min\": 0,\n        \"max\": 1,\n        \"num_unique_values\": 2,\n        \"samples\": [\n          0,\n          1\n        ],\n        \"semantic_type\": \"\",\n        \"description\": \"\"\n      }\n    },\n    {\n      \"column\": \"Alcohol_Consumption\",\n      \"properties\": {\n        \"dtype\": \"number\",\n        \"std\": 0,\n        \"min\": 0,\n        \"max\": 1,\n        \"num_unique_values\": 2,\n        \"samples\": [\n          1,\n          0\n        ],\n        \"semantic_type\": \"\",\n        \"description\": \"\"\n      }\n    },\n    {\n      \"column\": \"Physical_Activity_Level\",\n      \"properties\": {\n        \"dtype\": \"category\",\n        \"num_unique_values\": 3,\n        \"samples\": [\n          \"Moderate\",\n          \"Low\"\n        ],\n        \"semantic_type\": \"\",\n        \"description\": \"\"\n      }\n    },\n    {\n      \"column\": \"BMI\",\n      \"properties\": {\n        \"dtype\": \"number\",\n        \"std\": 7.2251756027142955,\n        \"min\": 15.0,\n        \"max\": 40.0,\n        \"num_unique_values\": 2501,\n        \"samples\": [\n          16.16,\n          39.52\n        ],\n        \"semantic_type\": \"\",\n        \"description\": \"\"\n      }\n    },\n    {\n      \"column\": \"Diabetes\",\n      \"properties\": {\n        \"dtype\": \"number\",\n        \"std\": 0,\n        \"min\": 0,\n        \"max\": 1,\n        \"num_unique_values\": 2,\n        \"samples\": [\n          0,\n          1\n        ],\n        \"semantic_type\": \"\",\n        \"description\": \"\"\n      }\n    },\n    {\n      \"column\": \"Hypertension\",\n      \"properties\": {\n        \"dtype\": \"number\",\n        \"std\": 0,\n        \"min\": 0,\n        \"max\": 1,\n        \"num_unique_values\": 2,\n        \"samples\": [\n          1,\n          0\n        ],\n        \"semantic_type\": \"\",\n        \"description\": \"\"\n      }\n    },\n    {\n      \"column\": \"Cholesterol_Level\",\n      \"properties\": {\n        \"dtype\": \"number\",\n        \"std\": 43.317373107462714,\n        \"min\": 150.0,\n        \"max\": 300.0,\n        \"num_unique_values\": 1501,\n        \"samples\": [\n          245.8,\n          156.6\n        ],\n        \"semantic_type\": \"\",\n        \"description\": \"\"\n      }\n    },\n    {\n      \"column\": \"Resting_BP\",\n      \"properties\": {\n        \"dtype\": \"number\",\n        \"std\": 25,\n        \"min\": 90,\n        \"max\": 179,\n        \"num_unique_values\": 90,\n        \"samples\": [\n          96,\n          132\n        ],\n        \"semantic_type\": \"\",\n        \"description\": \"\"\n      }\n    },\n    {\n      \"column\": \"Heart_Rate\",\n      \"properties\": {\n        \"dtype\": \"number\",\n        \"std\": 20,\n        \"min\": 60,\n        \"max\": 129,\n        \"num_unique_values\": 70,\n        \"samples\": [\n          84,\n          85\n        ],\n        \"semantic_type\": \"\",\n        \"description\": \"\"\n      }\n    },\n    {\n      \"column\": \"Family_History\",\n      \"properties\": {\n        \"dtype\": \"number\",\n        \"std\": 0,\n        \"min\": 0,\n        \"max\": 1,\n        \"num_unique_values\": 2,\n        \"samples\": [\n          1,\n          0\n        ],\n        \"semantic_type\": \"\",\n        \"description\": \"\"\n      }\n    },\n    {\n      \"column\": \"Stress_Level\",\n      \"properties\": {\n        \"dtype\": \"category\",\n        \"num_unique_values\": 3,\n        \"samples\": [\n          \"Moderate\",\n          \"Low\"\n        ],\n        \"semantic_type\": \"\",\n        \"description\": \"\"\n      }\n    },\n    {\n      \"column\": \"Chest_Pain_Type\",\n      \"properties\": {\n        \"dtype\": \"category\",\n        \"num_unique_values\": 4,\n        \"samples\": [\n          \"Asymptomatic\",\n          \"Atypical\"\n        ],\n        \"semantic_type\": \"\",\n        \"description\": \"\"\n      }\n    },\n    {\n      \"column\": \"Thalassemia\",\n      \"properties\": {\n        \"dtype\": \"category\",\n        \"num_unique_values\": 3,\n        \"samples\": [\n          \"Reversible defect\",\n          \"Normal\"\n        ],\n        \"semantic_type\": \"\",\n        \"description\": \"\"\n      }\n    },\n    {\n      \"column\": \"Fasting_Blood_Sugar\",\n      \"properties\": {\n        \"dtype\": \"number\",\n        \"std\": 0,\n        \"min\": 0,\n        \"max\": 1,\n        \"num_unique_values\": 2,\n        \"samples\": [\n          1,\n          0\n        ],\n        \"semantic_type\": \"\",\n        \"description\": \"\"\n      }\n    },\n    {\n      \"column\": \"ECG_Results\",\n      \"properties\": {\n        \"dtype\": \"category\",\n        \"num_unique_values\": 3,\n        \"samples\": [\n          \"Normal\",\n          \"ST-T abnormality\"\n        ],\n        \"semantic_type\": \"\",\n        \"description\": \"\"\n      }\n    },\n    {\n      \"column\": \"Exercise_Induced_Angina\",\n      \"properties\": {\n        \"dtype\": \"number\",\n        \"std\": 0,\n        \"min\": 0,\n        \"max\": 1,\n        \"num_unique_values\": 2,\n        \"samples\": [\n          1,\n          0\n        ],\n        \"semantic_type\": \"\",\n        \"description\": \"\"\n      }\n    },\n    {\n      \"column\": \"Max_Heart_Rate_Achieved\",\n      \"properties\": {\n        \"dtype\": \"number\",\n        \"std\": 28,\n        \"min\": 100,\n        \"max\": 199,\n        \"num_unique_values\": 100,\n        \"samples\": [\n          197,\n          138\n        ],\n        \"semantic_type\": \"\",\n        \"description\": \"\"\n      }\n    },\n    {\n      \"column\": \"Heart_Attack_Risk\",\n      \"properties\": {\n        \"dtype\": \"category\",\n        \"num_unique_values\": 3,\n        \"samples\": [\n          \"Low\",\n          \"Moderate\"\n        ],\n        \"semantic_type\": \"\",\n        \"description\": \"\"\n      }\n    }\n  ]\n}"
            }
          },
          "metadata": {},
          "execution_count": 7
        }
      ]
    },
    {
      "cell_type": "code",
      "source": [
        "data.isnull().sum()"
      ],
      "metadata": {
        "colab": {
          "base_uri": "https://localhost:8080/",
          "height": 711
        },
        "id": "Ed3FO0orEVwx",
        "outputId": "85c18830-53ed-42c9-d8bf-0bc8489dc048"
      },
      "execution_count": null,
      "outputs": [
        {
          "output_type": "execute_result",
          "data": {
            "text/plain": [
              "Age                        0\n",
              "Gender                     0\n",
              "Smoking                    0\n",
              "Alcohol_Consumption        0\n",
              "Physical_Activity_Level    0\n",
              "BMI                        0\n",
              "Diabetes                   0\n",
              "Hypertension               0\n",
              "Cholesterol_Level          0\n",
              "Resting_BP                 0\n",
              "Heart_Rate                 0\n",
              "Family_History             0\n",
              "Stress_Level               0\n",
              "Chest_Pain_Type            0\n",
              "Thalassemia                0\n",
              "Fasting_Blood_Sugar        0\n",
              "ECG_Results                0\n",
              "Exercise_Induced_Angina    0\n",
              "Max_Heart_Rate_Achieved    0\n",
              "Heart_Attack_Risk          0\n",
              "dtype: int64"
            ],
            "text/html": [
              "<div>\n",
              "<style scoped>\n",
              "    .dataframe tbody tr th:only-of-type {\n",
              "        vertical-align: middle;\n",
              "    }\n",
              "\n",
              "    .dataframe tbody tr th {\n",
              "        vertical-align: top;\n",
              "    }\n",
              "\n",
              "    .dataframe thead th {\n",
              "        text-align: right;\n",
              "    }\n",
              "</style>\n",
              "<table border=\"1\" class=\"dataframe\">\n",
              "  <thead>\n",
              "    <tr style=\"text-align: right;\">\n",
              "      <th></th>\n",
              "      <th>0</th>\n",
              "    </tr>\n",
              "  </thead>\n",
              "  <tbody>\n",
              "    <tr>\n",
              "      <th>Age</th>\n",
              "      <td>0</td>\n",
              "    </tr>\n",
              "    <tr>\n",
              "      <th>Gender</th>\n",
              "      <td>0</td>\n",
              "    </tr>\n",
              "    <tr>\n",
              "      <th>Smoking</th>\n",
              "      <td>0</td>\n",
              "    </tr>\n",
              "    <tr>\n",
              "      <th>Alcohol_Consumption</th>\n",
              "      <td>0</td>\n",
              "    </tr>\n",
              "    <tr>\n",
              "      <th>Physical_Activity_Level</th>\n",
              "      <td>0</td>\n",
              "    </tr>\n",
              "    <tr>\n",
              "      <th>BMI</th>\n",
              "      <td>0</td>\n",
              "    </tr>\n",
              "    <tr>\n",
              "      <th>Diabetes</th>\n",
              "      <td>0</td>\n",
              "    </tr>\n",
              "    <tr>\n",
              "      <th>Hypertension</th>\n",
              "      <td>0</td>\n",
              "    </tr>\n",
              "    <tr>\n",
              "      <th>Cholesterol_Level</th>\n",
              "      <td>0</td>\n",
              "    </tr>\n",
              "    <tr>\n",
              "      <th>Resting_BP</th>\n",
              "      <td>0</td>\n",
              "    </tr>\n",
              "    <tr>\n",
              "      <th>Heart_Rate</th>\n",
              "      <td>0</td>\n",
              "    </tr>\n",
              "    <tr>\n",
              "      <th>Family_History</th>\n",
              "      <td>0</td>\n",
              "    </tr>\n",
              "    <tr>\n",
              "      <th>Stress_Level</th>\n",
              "      <td>0</td>\n",
              "    </tr>\n",
              "    <tr>\n",
              "      <th>Chest_Pain_Type</th>\n",
              "      <td>0</td>\n",
              "    </tr>\n",
              "    <tr>\n",
              "      <th>Thalassemia</th>\n",
              "      <td>0</td>\n",
              "    </tr>\n",
              "    <tr>\n",
              "      <th>Fasting_Blood_Sugar</th>\n",
              "      <td>0</td>\n",
              "    </tr>\n",
              "    <tr>\n",
              "      <th>ECG_Results</th>\n",
              "      <td>0</td>\n",
              "    </tr>\n",
              "    <tr>\n",
              "      <th>Exercise_Induced_Angina</th>\n",
              "      <td>0</td>\n",
              "    </tr>\n",
              "    <tr>\n",
              "      <th>Max_Heart_Rate_Achieved</th>\n",
              "      <td>0</td>\n",
              "    </tr>\n",
              "    <tr>\n",
              "      <th>Heart_Attack_Risk</th>\n",
              "      <td>0</td>\n",
              "    </tr>\n",
              "  </tbody>\n",
              "</table>\n",
              "</div><br><label><b>dtype:</b> int64</label>"
            ]
          },
          "metadata": {},
          "execution_count": 8
        }
      ]
    },
    {
      "cell_type": "code",
      "source": [
        "data.duplicated().sum()"
      ],
      "metadata": {
        "colab": {
          "base_uri": "https://localhost:8080/"
        },
        "id": "yLz2qLi5EYVA",
        "outputId": "29ebb143-956d-4f08-e646-950290748b70"
      },
      "execution_count": null,
      "outputs": [
        {
          "output_type": "execute_result",
          "data": {
            "text/plain": [
              "0"
            ]
          },
          "metadata": {},
          "execution_count": 9
        }
      ]
    },
    {
      "cell_type": "code",
      "source": [
        "data.shape"
      ],
      "metadata": {
        "colab": {
          "base_uri": "https://localhost:8080/"
        },
        "id": "RMmgjHO3Eazw",
        "outputId": "53a024f0-7fe7-4f8b-84fb-e07f54735228"
      },
      "execution_count": null,
      "outputs": [
        {
          "output_type": "execute_result",
          "data": {
            "text/plain": [
              "(50000, 20)"
            ]
          },
          "metadata": {},
          "execution_count": 10
        }
      ]
    },
    {
      "cell_type": "code",
      "source": [
        "data.info()"
      ],
      "metadata": {
        "colab": {
          "base_uri": "https://localhost:8080/"
        },
        "id": "3C7_ajjNEc6H",
        "outputId": "7d65fce7-8053-428d-89cd-fb5132522c1f"
      },
      "execution_count": null,
      "outputs": [
        {
          "output_type": "stream",
          "name": "stdout",
          "text": [
            "<class 'pandas.core.frame.DataFrame'>\n",
            "RangeIndex: 50000 entries, 0 to 49999\n",
            "Data columns (total 20 columns):\n",
            " #   Column                   Non-Null Count  Dtype  \n",
            "---  ------                   --------------  -----  \n",
            " 0   Age                      50000 non-null  int64  \n",
            " 1   Gender                   50000 non-null  object \n",
            " 2   Smoking                  50000 non-null  int64  \n",
            " 3   Alcohol_Consumption      50000 non-null  int64  \n",
            " 4   Physical_Activity_Level  50000 non-null  object \n",
            " 5   BMI                      50000 non-null  float64\n",
            " 6   Diabetes                 50000 non-null  int64  \n",
            " 7   Hypertension             50000 non-null  int64  \n",
            " 8   Cholesterol_Level        50000 non-null  float64\n",
            " 9   Resting_BP               50000 non-null  int64  \n",
            " 10  Heart_Rate               50000 non-null  int64  \n",
            " 11  Family_History           50000 non-null  int64  \n",
            " 12  Stress_Level             50000 non-null  object \n",
            " 13  Chest_Pain_Type          50000 non-null  object \n",
            " 14  Thalassemia              50000 non-null  object \n",
            " 15  Fasting_Blood_Sugar      50000 non-null  int64  \n",
            " 16  ECG_Results              50000 non-null  object \n",
            " 17  Exercise_Induced_Angina  50000 non-null  int64  \n",
            " 18  Max_Heart_Rate_Achieved  50000 non-null  int64  \n",
            " 19  Heart_Attack_Risk        50000 non-null  object \n",
            "dtypes: float64(2), int64(11), object(7)\n",
            "memory usage: 7.6+ MB\n"
          ]
        }
      ]
    },
    {
      "cell_type": "code",
      "source": [
        "Heart_Attack_Risk = data[\"Heart_Attack_Risk\"].value_counts().sort_values(ascending = False)[:10]"
      ],
      "metadata": {
        "id": "p0heK6wbEfHt"
      },
      "execution_count": null,
      "outputs": []
    },
    {
      "cell_type": "code",
      "source": [
        "Heart_Attack_Risk"
      ],
      "metadata": {
        "colab": {
          "base_uri": "https://localhost:8080/",
          "height": 209
        },
        "id": "ZY8aTmI7Exg5",
        "outputId": "efe8aaef-59dd-45be-f296-3b5c562de26e"
      },
      "execution_count": null,
      "outputs": [
        {
          "output_type": "execute_result",
          "data": {
            "text/plain": [
              "Heart_Attack_Risk\n",
              "Low         25024\n",
              "Moderate    14904\n",
              "High        10072\n",
              "Name: count, dtype: int64"
            ],
            "text/html": [
              "<div>\n",
              "<style scoped>\n",
              "    .dataframe tbody tr th:only-of-type {\n",
              "        vertical-align: middle;\n",
              "    }\n",
              "\n",
              "    .dataframe tbody tr th {\n",
              "        vertical-align: top;\n",
              "    }\n",
              "\n",
              "    .dataframe thead th {\n",
              "        text-align: right;\n",
              "    }\n",
              "</style>\n",
              "<table border=\"1\" class=\"dataframe\">\n",
              "  <thead>\n",
              "    <tr style=\"text-align: right;\">\n",
              "      <th></th>\n",
              "      <th>count</th>\n",
              "    </tr>\n",
              "    <tr>\n",
              "      <th>Heart_Attack_Risk</th>\n",
              "      <th></th>\n",
              "    </tr>\n",
              "  </thead>\n",
              "  <tbody>\n",
              "    <tr>\n",
              "      <th>Low</th>\n",
              "      <td>25024</td>\n",
              "    </tr>\n",
              "    <tr>\n",
              "      <th>Moderate</th>\n",
              "      <td>14904</td>\n",
              "    </tr>\n",
              "    <tr>\n",
              "      <th>High</th>\n",
              "      <td>10072</td>\n",
              "    </tr>\n",
              "  </tbody>\n",
              "</table>\n",
              "</div><br><label><b>dtype:</b> int64</label>"
            ]
          },
          "metadata": {},
          "execution_count": 13
        }
      ]
    },
    {
      "cell_type": "code",
      "source": [
        "# Define the values to filter\n",
        "valid_values = [\"High\", \"Medium\", \"Low\"]  # Example values to filter\n",
        "\n",
        "# Filter rows based on those values\n",
        "Heart_Attack_Risk = data.loc[data[\"Heart_Attack_Risk\"].isin(valid_values), :]\n",
        "\n",
        "print(Heart_Attack_Risk)"
      ],
      "metadata": {
        "colab": {
          "base_uri": "https://localhost:8080/"
        },
        "id": "6YlrtaLTEzrK",
        "outputId": "9fb256cd-96f8-4ffb-b5dd-36e1f93aa864"
      },
      "execution_count": null,
      "outputs": [
        {
          "output_type": "stream",
          "name": "stdout",
          "text": [
            "       Age  Gender  Smoking  Alcohol_Consumption Physical_Activity_Level  \\\n",
            "0       69  Female        1                    0                Moderate   \n",
            "2       89    Male        0                    1                Moderate   \n",
            "3       78    Male        0                    1                Moderate   \n",
            "5       41    Male        0                    1                Moderate   \n",
            "6       20    Male        1                    0                     Low   \n",
            "...    ...     ...      ...                  ...                     ...   \n",
            "49992   62  Female        0                    0                Moderate   \n",
            "49993   77  Female        0                    1                Moderate   \n",
            "49994   73    Male        0                    0                Moderate   \n",
            "49995   21    Male        0                    0                     Low   \n",
            "49997   46    Male        0                    1                    High   \n",
            "\n",
            "         BMI  Diabetes  Hypertension  Cholesterol_Level  Resting_BP  \\\n",
            "0      34.61         1             0              152.1         171   \n",
            "2      35.32         0             0              272.3         123   \n",
            "3      18.23         1             0              237.7         144   \n",
            "5      36.11         0             0              271.2         141   \n",
            "6      15.12         0             0              164.8         154   \n",
            "...      ...       ...           ...                ...         ...   \n",
            "49992  23.53         0             0              181.8          94   \n",
            "49993  36.89         0             0              196.7         154   \n",
            "49994  35.78         0             1              171.7         136   \n",
            "49995  39.93         0             0              269.9         171   \n",
            "49997  21.42         0             0              172.8         146   \n",
            "\n",
            "       Heart_Rate  Family_History Stress_Level Chest_Pain_Type  \\\n",
            "0              85               0     Moderate     Non-anginal   \n",
            "2             127               0          Low         Typical   \n",
            "3             125               0          Low         Typical   \n",
            "5             119               0          Low        Atypical   \n",
            "6              67               0          Low     Non-anginal   \n",
            "...           ...             ...          ...             ...   \n",
            "49992          93               1     Moderate     Non-anginal   \n",
            "49993         107               0     Moderate         Typical   \n",
            "49994         100               1     Moderate     Non-anginal   \n",
            "49995         113               0         High         Typical   \n",
            "49997          85               1          Low         Typical   \n",
            "\n",
            "             Thalassemia  Fasting_Blood_Sugar                   ECG_Results  \\\n",
            "0      Reversible defect                    0                        Normal   \n",
            "2      Reversible defect                    0              ST-T abnormality   \n",
            "3           Fixed defect                    1  Left Ventricular Hypertrophy   \n",
            "5           Fixed defect                    0                        Normal   \n",
            "6                 Normal                    0                        Normal   \n",
            "...                  ...                  ...                           ...   \n",
            "49992       Fixed defect                    0              ST-T abnormality   \n",
            "49993  Reversible defect                    0                        Normal   \n",
            "49994  Reversible defect                    0  Left Ventricular Hypertrophy   \n",
            "49995  Reversible defect                    0              ST-T abnormality   \n",
            "49997       Fixed defect                    0  Left Ventricular Hypertrophy   \n",
            "\n",
            "       Exercise_Induced_Angina  Max_Heart_Rate_Achieved Heart_Attack_Risk  \n",
            "0                            0                      114               Low  \n",
            "2                            0                      109               Low  \n",
            "3                            0                      129               Low  \n",
            "5                            0                      101              High  \n",
            "6                            0                      176               Low  \n",
            "...                        ...                      ...               ...  \n",
            "49992                        1                      104               Low  \n",
            "49993                        0                      101               Low  \n",
            "49994                        0                      101               Low  \n",
            "49995                        0                      122              High  \n",
            "49997                        0                      125               Low  \n",
            "\n",
            "[35096 rows x 20 columns]\n"
          ]
        }
      ]
    },
    {
      "cell_type": "code",
      "source": [
        "data.head()"
      ],
      "metadata": {
        "colab": {
          "base_uri": "https://localhost:8080/",
          "height": 330
        },
        "id": "fXYXe4qIE8Sm",
        "outputId": "34287a79-34bd-425a-87d1-ed0a4d79af25"
      },
      "execution_count": null,
      "outputs": [
        {
          "output_type": "execute_result",
          "data": {
            "text/plain": [
              "   Age  Gender  Smoking  Alcohol_Consumption Physical_Activity_Level    BMI  \\\n",
              "0   69  Female        1                    0                Moderate  34.61   \n",
              "1   32    Male        0                    0                Moderate  22.75   \n",
              "2   89    Male        0                    1                Moderate  35.32   \n",
              "3   78    Male        0                    1                Moderate  18.23   \n",
              "4   38  Female        1                    0                Moderate  19.82   \n",
              "\n",
              "   Diabetes  Hypertension  Cholesterol_Level  Resting_BP  Heart_Rate  \\\n",
              "0         1             0              152.1         171          85   \n",
              "1         0             0              166.8         126         103   \n",
              "2         0             0              272.3         123         127   \n",
              "3         1             0              237.7         144         125   \n",
              "4         0             0              207.7         123         107   \n",
              "\n",
              "   Family_History Stress_Level Chest_Pain_Type        Thalassemia  \\\n",
              "0               0     Moderate     Non-anginal  Reversible defect   \n",
              "1               0          Low    Asymptomatic             Normal   \n",
              "2               0          Low         Typical  Reversible defect   \n",
              "3               0          Low         Typical       Fixed defect   \n",
              "4               0         High    Asymptomatic  Reversible defect   \n",
              "\n",
              "   Fasting_Blood_Sugar                   ECG_Results  Exercise_Induced_Angina  \\\n",
              "0                    0                        Normal                        0   \n",
              "1                    0              ST-T abnormality                        0   \n",
              "2                    0              ST-T abnormality                        0   \n",
              "3                    1  Left Ventricular Hypertrophy                        0   \n",
              "4                    0              ST-T abnormality                        0   \n",
              "\n",
              "   Max_Heart_Rate_Achieved Heart_Attack_Risk  \n",
              "0                      114               Low  \n",
              "1                      173          Moderate  \n",
              "2                      109               Low  \n",
              "3                      129               Low  \n",
              "4                      124          Moderate  "
            ],
            "text/html": [
              "\n",
              "  <div id=\"df-60980521-6fe4-42f5-9746-cc4598a44435\" class=\"colab-df-container\">\n",
              "    <div>\n",
              "<style scoped>\n",
              "    .dataframe tbody tr th:only-of-type {\n",
              "        vertical-align: middle;\n",
              "    }\n",
              "\n",
              "    .dataframe tbody tr th {\n",
              "        vertical-align: top;\n",
              "    }\n",
              "\n",
              "    .dataframe thead th {\n",
              "        text-align: right;\n",
              "    }\n",
              "</style>\n",
              "<table border=\"1\" class=\"dataframe\">\n",
              "  <thead>\n",
              "    <tr style=\"text-align: right;\">\n",
              "      <th></th>\n",
              "      <th>Age</th>\n",
              "      <th>Gender</th>\n",
              "      <th>Smoking</th>\n",
              "      <th>Alcohol_Consumption</th>\n",
              "      <th>Physical_Activity_Level</th>\n",
              "      <th>BMI</th>\n",
              "      <th>Diabetes</th>\n",
              "      <th>Hypertension</th>\n",
              "      <th>Cholesterol_Level</th>\n",
              "      <th>Resting_BP</th>\n",
              "      <th>Heart_Rate</th>\n",
              "      <th>Family_History</th>\n",
              "      <th>Stress_Level</th>\n",
              "      <th>Chest_Pain_Type</th>\n",
              "      <th>Thalassemia</th>\n",
              "      <th>Fasting_Blood_Sugar</th>\n",
              "      <th>ECG_Results</th>\n",
              "      <th>Exercise_Induced_Angina</th>\n",
              "      <th>Max_Heart_Rate_Achieved</th>\n",
              "      <th>Heart_Attack_Risk</th>\n",
              "    </tr>\n",
              "  </thead>\n",
              "  <tbody>\n",
              "    <tr>\n",
              "      <th>0</th>\n",
              "      <td>69</td>\n",
              "      <td>Female</td>\n",
              "      <td>1</td>\n",
              "      <td>0</td>\n",
              "      <td>Moderate</td>\n",
              "      <td>34.61</td>\n",
              "      <td>1</td>\n",
              "      <td>0</td>\n",
              "      <td>152.1</td>\n",
              "      <td>171</td>\n",
              "      <td>85</td>\n",
              "      <td>0</td>\n",
              "      <td>Moderate</td>\n",
              "      <td>Non-anginal</td>\n",
              "      <td>Reversible defect</td>\n",
              "      <td>0</td>\n",
              "      <td>Normal</td>\n",
              "      <td>0</td>\n",
              "      <td>114</td>\n",
              "      <td>Low</td>\n",
              "    </tr>\n",
              "    <tr>\n",
              "      <th>1</th>\n",
              "      <td>32</td>\n",
              "      <td>Male</td>\n",
              "      <td>0</td>\n",
              "      <td>0</td>\n",
              "      <td>Moderate</td>\n",
              "      <td>22.75</td>\n",
              "      <td>0</td>\n",
              "      <td>0</td>\n",
              "      <td>166.8</td>\n",
              "      <td>126</td>\n",
              "      <td>103</td>\n",
              "      <td>0</td>\n",
              "      <td>Low</td>\n",
              "      <td>Asymptomatic</td>\n",
              "      <td>Normal</td>\n",
              "      <td>0</td>\n",
              "      <td>ST-T abnormality</td>\n",
              "      <td>0</td>\n",
              "      <td>173</td>\n",
              "      <td>Moderate</td>\n",
              "    </tr>\n",
              "    <tr>\n",
              "      <th>2</th>\n",
              "      <td>89</td>\n",
              "      <td>Male</td>\n",
              "      <td>0</td>\n",
              "      <td>1</td>\n",
              "      <td>Moderate</td>\n",
              "      <td>35.32</td>\n",
              "      <td>0</td>\n",
              "      <td>0</td>\n",
              "      <td>272.3</td>\n",
              "      <td>123</td>\n",
              "      <td>127</td>\n",
              "      <td>0</td>\n",
              "      <td>Low</td>\n",
              "      <td>Typical</td>\n",
              "      <td>Reversible defect</td>\n",
              "      <td>0</td>\n",
              "      <td>ST-T abnormality</td>\n",
              "      <td>0</td>\n",
              "      <td>109</td>\n",
              "      <td>Low</td>\n",
              "    </tr>\n",
              "    <tr>\n",
              "      <th>3</th>\n",
              "      <td>78</td>\n",
              "      <td>Male</td>\n",
              "      <td>0</td>\n",
              "      <td>1</td>\n",
              "      <td>Moderate</td>\n",
              "      <td>18.23</td>\n",
              "      <td>1</td>\n",
              "      <td>0</td>\n",
              "      <td>237.7</td>\n",
              "      <td>144</td>\n",
              "      <td>125</td>\n",
              "      <td>0</td>\n",
              "      <td>Low</td>\n",
              "      <td>Typical</td>\n",
              "      <td>Fixed defect</td>\n",
              "      <td>1</td>\n",
              "      <td>Left Ventricular Hypertrophy</td>\n",
              "      <td>0</td>\n",
              "      <td>129</td>\n",
              "      <td>Low</td>\n",
              "    </tr>\n",
              "    <tr>\n",
              "      <th>4</th>\n",
              "      <td>38</td>\n",
              "      <td>Female</td>\n",
              "      <td>1</td>\n",
              "      <td>0</td>\n",
              "      <td>Moderate</td>\n",
              "      <td>19.82</td>\n",
              "      <td>0</td>\n",
              "      <td>0</td>\n",
              "      <td>207.7</td>\n",
              "      <td>123</td>\n",
              "      <td>107</td>\n",
              "      <td>0</td>\n",
              "      <td>High</td>\n",
              "      <td>Asymptomatic</td>\n",
              "      <td>Reversible defect</td>\n",
              "      <td>0</td>\n",
              "      <td>ST-T abnormality</td>\n",
              "      <td>0</td>\n",
              "      <td>124</td>\n",
              "      <td>Moderate</td>\n",
              "    </tr>\n",
              "  </tbody>\n",
              "</table>\n",
              "</div>\n",
              "    <div class=\"colab-df-buttons\">\n",
              "\n",
              "  <div class=\"colab-df-container\">\n",
              "    <button class=\"colab-df-convert\" onclick=\"convertToInteractive('df-60980521-6fe4-42f5-9746-cc4598a44435')\"\n",
              "            title=\"Convert this dataframe to an interactive table.\"\n",
              "            style=\"display:none;\">\n",
              "\n",
              "  <svg xmlns=\"http://www.w3.org/2000/svg\" height=\"24px\" viewBox=\"0 -960 960 960\">\n",
              "    <path d=\"M120-120v-720h720v720H120Zm60-500h600v-160H180v160Zm220 220h160v-160H400v160Zm0 220h160v-160H400v160ZM180-400h160v-160H180v160Zm440 0h160v-160H620v160ZM180-180h160v-160H180v160Zm440 0h160v-160H620v160Z\"/>\n",
              "  </svg>\n",
              "    </button>\n",
              "\n",
              "  <style>\n",
              "    .colab-df-container {\n",
              "      display:flex;\n",
              "      gap: 12px;\n",
              "    }\n",
              "\n",
              "    .colab-df-convert {\n",
              "      background-color: #E8F0FE;\n",
              "      border: none;\n",
              "      border-radius: 50%;\n",
              "      cursor: pointer;\n",
              "      display: none;\n",
              "      fill: #1967D2;\n",
              "      height: 32px;\n",
              "      padding: 0 0 0 0;\n",
              "      width: 32px;\n",
              "    }\n",
              "\n",
              "    .colab-df-convert:hover {\n",
              "      background-color: #E2EBFA;\n",
              "      box-shadow: 0px 1px 2px rgba(60, 64, 67, 0.3), 0px 1px 3px 1px rgba(60, 64, 67, 0.15);\n",
              "      fill: #174EA6;\n",
              "    }\n",
              "\n",
              "    .colab-df-buttons div {\n",
              "      margin-bottom: 4px;\n",
              "    }\n",
              "\n",
              "    [theme=dark] .colab-df-convert {\n",
              "      background-color: #3B4455;\n",
              "      fill: #D2E3FC;\n",
              "    }\n",
              "\n",
              "    [theme=dark] .colab-df-convert:hover {\n",
              "      background-color: #434B5C;\n",
              "      box-shadow: 0px 1px 3px 1px rgba(0, 0, 0, 0.15);\n",
              "      filter: drop-shadow(0px 1px 2px rgba(0, 0, 0, 0.3));\n",
              "      fill: #FFFFFF;\n",
              "    }\n",
              "  </style>\n",
              "\n",
              "    <script>\n",
              "      const buttonEl =\n",
              "        document.querySelector('#df-60980521-6fe4-42f5-9746-cc4598a44435 button.colab-df-convert');\n",
              "      buttonEl.style.display =\n",
              "        google.colab.kernel.accessAllowed ? 'block' : 'none';\n",
              "\n",
              "      async function convertToInteractive(key) {\n",
              "        const element = document.querySelector('#df-60980521-6fe4-42f5-9746-cc4598a44435');\n",
              "        const dataTable =\n",
              "          await google.colab.kernel.invokeFunction('convertToInteractive',\n",
              "                                                    [key], {});\n",
              "        if (!dataTable) return;\n",
              "\n",
              "        const docLinkHtml = 'Like what you see? Visit the ' +\n",
              "          '<a target=\"_blank\" href=https://colab.research.google.com/notebooks/data_table.ipynb>data table notebook</a>'\n",
              "          + ' to learn more about interactive tables.';\n",
              "        element.innerHTML = '';\n",
              "        dataTable['output_type'] = 'display_data';\n",
              "        await google.colab.output.renderOutput(dataTable, element);\n",
              "        const docLink = document.createElement('div');\n",
              "        docLink.innerHTML = docLinkHtml;\n",
              "        element.appendChild(docLink);\n",
              "      }\n",
              "    </script>\n",
              "  </div>\n",
              "\n",
              "\n",
              "<div id=\"df-b53ed5a0-7812-4661-8fde-3dcd54256032\">\n",
              "  <button class=\"colab-df-quickchart\" onclick=\"quickchart('df-b53ed5a0-7812-4661-8fde-3dcd54256032')\"\n",
              "            title=\"Suggest charts\"\n",
              "            style=\"display:none;\">\n",
              "\n",
              "<svg xmlns=\"http://www.w3.org/2000/svg\" height=\"24px\"viewBox=\"0 0 24 24\"\n",
              "     width=\"24px\">\n",
              "    <g>\n",
              "        <path d=\"M19 3H5c-1.1 0-2 .9-2 2v14c0 1.1.9 2 2 2h14c1.1 0 2-.9 2-2V5c0-1.1-.9-2-2-2zM9 17H7v-7h2v7zm4 0h-2V7h2v10zm4 0h-2v-4h2v4z\"/>\n",
              "    </g>\n",
              "</svg>\n",
              "  </button>\n",
              "\n",
              "<style>\n",
              "  .colab-df-quickchart {\n",
              "      --bg-color: #E8F0FE;\n",
              "      --fill-color: #1967D2;\n",
              "      --hover-bg-color: #E2EBFA;\n",
              "      --hover-fill-color: #174EA6;\n",
              "      --disabled-fill-color: #AAA;\n",
              "      --disabled-bg-color: #DDD;\n",
              "  }\n",
              "\n",
              "  [theme=dark] .colab-df-quickchart {\n",
              "      --bg-color: #3B4455;\n",
              "      --fill-color: #D2E3FC;\n",
              "      --hover-bg-color: #434B5C;\n",
              "      --hover-fill-color: #FFFFFF;\n",
              "      --disabled-bg-color: #3B4455;\n",
              "      --disabled-fill-color: #666;\n",
              "  }\n",
              "\n",
              "  .colab-df-quickchart {\n",
              "    background-color: var(--bg-color);\n",
              "    border: none;\n",
              "    border-radius: 50%;\n",
              "    cursor: pointer;\n",
              "    display: none;\n",
              "    fill: var(--fill-color);\n",
              "    height: 32px;\n",
              "    padding: 0;\n",
              "    width: 32px;\n",
              "  }\n",
              "\n",
              "  .colab-df-quickchart:hover {\n",
              "    background-color: var(--hover-bg-color);\n",
              "    box-shadow: 0 1px 2px rgba(60, 64, 67, 0.3), 0 1px 3px 1px rgba(60, 64, 67, 0.15);\n",
              "    fill: var(--button-hover-fill-color);\n",
              "  }\n",
              "\n",
              "  .colab-df-quickchart-complete:disabled,\n",
              "  .colab-df-quickchart-complete:disabled:hover {\n",
              "    background-color: var(--disabled-bg-color);\n",
              "    fill: var(--disabled-fill-color);\n",
              "    box-shadow: none;\n",
              "  }\n",
              "\n",
              "  .colab-df-spinner {\n",
              "    border: 2px solid var(--fill-color);\n",
              "    border-color: transparent;\n",
              "    border-bottom-color: var(--fill-color);\n",
              "    animation:\n",
              "      spin 1s steps(1) infinite;\n",
              "  }\n",
              "\n",
              "  @keyframes spin {\n",
              "    0% {\n",
              "      border-color: transparent;\n",
              "      border-bottom-color: var(--fill-color);\n",
              "      border-left-color: var(--fill-color);\n",
              "    }\n",
              "    20% {\n",
              "      border-color: transparent;\n",
              "      border-left-color: var(--fill-color);\n",
              "      border-top-color: var(--fill-color);\n",
              "    }\n",
              "    30% {\n",
              "      border-color: transparent;\n",
              "      border-left-color: var(--fill-color);\n",
              "      border-top-color: var(--fill-color);\n",
              "      border-right-color: var(--fill-color);\n",
              "    }\n",
              "    40% {\n",
              "      border-color: transparent;\n",
              "      border-right-color: var(--fill-color);\n",
              "      border-top-color: var(--fill-color);\n",
              "    }\n",
              "    60% {\n",
              "      border-color: transparent;\n",
              "      border-right-color: var(--fill-color);\n",
              "    }\n",
              "    80% {\n",
              "      border-color: transparent;\n",
              "      border-right-color: var(--fill-color);\n",
              "      border-bottom-color: var(--fill-color);\n",
              "    }\n",
              "    90% {\n",
              "      border-color: transparent;\n",
              "      border-bottom-color: var(--fill-color);\n",
              "    }\n",
              "  }\n",
              "</style>\n",
              "\n",
              "  <script>\n",
              "    async function quickchart(key) {\n",
              "      const quickchartButtonEl =\n",
              "        document.querySelector('#' + key + ' button');\n",
              "      quickchartButtonEl.disabled = true;  // To prevent multiple clicks.\n",
              "      quickchartButtonEl.classList.add('colab-df-spinner');\n",
              "      try {\n",
              "        const charts = await google.colab.kernel.invokeFunction(\n",
              "            'suggestCharts', [key], {});\n",
              "      } catch (error) {\n",
              "        console.error('Error during call to suggestCharts:', error);\n",
              "      }\n",
              "      quickchartButtonEl.classList.remove('colab-df-spinner');\n",
              "      quickchartButtonEl.classList.add('colab-df-quickchart-complete');\n",
              "    }\n",
              "    (() => {\n",
              "      let quickchartButtonEl =\n",
              "        document.querySelector('#df-b53ed5a0-7812-4661-8fde-3dcd54256032 button');\n",
              "      quickchartButtonEl.style.display =\n",
              "        google.colab.kernel.accessAllowed ? 'block' : 'none';\n",
              "    })();\n",
              "  </script>\n",
              "</div>\n",
              "\n",
              "    </div>\n",
              "  </div>\n"
            ],
            "application/vnd.google.colaboratory.intrinsic+json": {
              "type": "dataframe",
              "variable_name": "data",
              "summary": "{\n  \"name\": \"data\",\n  \"rows\": 50000,\n  \"fields\": [\n    {\n      \"column\": \"Age\",\n      \"properties\": {\n        \"dtype\": \"number\",\n        \"std\": 20,\n        \"min\": 18,\n        \"max\": 89,\n        \"num_unique_values\": 72,\n        \"samples\": [\n          38,\n          85,\n          59\n        ],\n        \"semantic_type\": \"\",\n        \"description\": \"\"\n      }\n    },\n    {\n      \"column\": \"Gender\",\n      \"properties\": {\n        \"dtype\": \"category\",\n        \"num_unique_values\": 2,\n        \"samples\": [\n          \"Male\",\n          \"Female\"\n        ],\n        \"semantic_type\": \"\",\n        \"description\": \"\"\n      }\n    },\n    {\n      \"column\": \"Smoking\",\n      \"properties\": {\n        \"dtype\": \"number\",\n        \"std\": 0,\n        \"min\": 0,\n        \"max\": 1,\n        \"num_unique_values\": 2,\n        \"samples\": [\n          0,\n          1\n        ],\n        \"semantic_type\": \"\",\n        \"description\": \"\"\n      }\n    },\n    {\n      \"column\": \"Alcohol_Consumption\",\n      \"properties\": {\n        \"dtype\": \"number\",\n        \"std\": 0,\n        \"min\": 0,\n        \"max\": 1,\n        \"num_unique_values\": 2,\n        \"samples\": [\n          1,\n          0\n        ],\n        \"semantic_type\": \"\",\n        \"description\": \"\"\n      }\n    },\n    {\n      \"column\": \"Physical_Activity_Level\",\n      \"properties\": {\n        \"dtype\": \"category\",\n        \"num_unique_values\": 3,\n        \"samples\": [\n          \"Moderate\",\n          \"Low\"\n        ],\n        \"semantic_type\": \"\",\n        \"description\": \"\"\n      }\n    },\n    {\n      \"column\": \"BMI\",\n      \"properties\": {\n        \"dtype\": \"number\",\n        \"std\": 7.2251756027142955,\n        \"min\": 15.0,\n        \"max\": 40.0,\n        \"num_unique_values\": 2501,\n        \"samples\": [\n          16.16,\n          39.52\n        ],\n        \"semantic_type\": \"\",\n        \"description\": \"\"\n      }\n    },\n    {\n      \"column\": \"Diabetes\",\n      \"properties\": {\n        \"dtype\": \"number\",\n        \"std\": 0,\n        \"min\": 0,\n        \"max\": 1,\n        \"num_unique_values\": 2,\n        \"samples\": [\n          0,\n          1\n        ],\n        \"semantic_type\": \"\",\n        \"description\": \"\"\n      }\n    },\n    {\n      \"column\": \"Hypertension\",\n      \"properties\": {\n        \"dtype\": \"number\",\n        \"std\": 0,\n        \"min\": 0,\n        \"max\": 1,\n        \"num_unique_values\": 2,\n        \"samples\": [\n          1,\n          0\n        ],\n        \"semantic_type\": \"\",\n        \"description\": \"\"\n      }\n    },\n    {\n      \"column\": \"Cholesterol_Level\",\n      \"properties\": {\n        \"dtype\": \"number\",\n        \"std\": 43.317373107462714,\n        \"min\": 150.0,\n        \"max\": 300.0,\n        \"num_unique_values\": 1501,\n        \"samples\": [\n          245.8,\n          156.6\n        ],\n        \"semantic_type\": \"\",\n        \"description\": \"\"\n      }\n    },\n    {\n      \"column\": \"Resting_BP\",\n      \"properties\": {\n        \"dtype\": \"number\",\n        \"std\": 25,\n        \"min\": 90,\n        \"max\": 179,\n        \"num_unique_values\": 90,\n        \"samples\": [\n          96,\n          132\n        ],\n        \"semantic_type\": \"\",\n        \"description\": \"\"\n      }\n    },\n    {\n      \"column\": \"Heart_Rate\",\n      \"properties\": {\n        \"dtype\": \"number\",\n        \"std\": 20,\n        \"min\": 60,\n        \"max\": 129,\n        \"num_unique_values\": 70,\n        \"samples\": [\n          84,\n          85\n        ],\n        \"semantic_type\": \"\",\n        \"description\": \"\"\n      }\n    },\n    {\n      \"column\": \"Family_History\",\n      \"properties\": {\n        \"dtype\": \"number\",\n        \"std\": 0,\n        \"min\": 0,\n        \"max\": 1,\n        \"num_unique_values\": 2,\n        \"samples\": [\n          1,\n          0\n        ],\n        \"semantic_type\": \"\",\n        \"description\": \"\"\n      }\n    },\n    {\n      \"column\": \"Stress_Level\",\n      \"properties\": {\n        \"dtype\": \"category\",\n        \"num_unique_values\": 3,\n        \"samples\": [\n          \"Moderate\",\n          \"Low\"\n        ],\n        \"semantic_type\": \"\",\n        \"description\": \"\"\n      }\n    },\n    {\n      \"column\": \"Chest_Pain_Type\",\n      \"properties\": {\n        \"dtype\": \"category\",\n        \"num_unique_values\": 4,\n        \"samples\": [\n          \"Asymptomatic\",\n          \"Atypical\"\n        ],\n        \"semantic_type\": \"\",\n        \"description\": \"\"\n      }\n    },\n    {\n      \"column\": \"Thalassemia\",\n      \"properties\": {\n        \"dtype\": \"category\",\n        \"num_unique_values\": 3,\n        \"samples\": [\n          \"Reversible defect\",\n          \"Normal\"\n        ],\n        \"semantic_type\": \"\",\n        \"description\": \"\"\n      }\n    },\n    {\n      \"column\": \"Fasting_Blood_Sugar\",\n      \"properties\": {\n        \"dtype\": \"number\",\n        \"std\": 0,\n        \"min\": 0,\n        \"max\": 1,\n        \"num_unique_values\": 2,\n        \"samples\": [\n          1,\n          0\n        ],\n        \"semantic_type\": \"\",\n        \"description\": \"\"\n      }\n    },\n    {\n      \"column\": \"ECG_Results\",\n      \"properties\": {\n        \"dtype\": \"category\",\n        \"num_unique_values\": 3,\n        \"samples\": [\n          \"Normal\",\n          \"ST-T abnormality\"\n        ],\n        \"semantic_type\": \"\",\n        \"description\": \"\"\n      }\n    },\n    {\n      \"column\": \"Exercise_Induced_Angina\",\n      \"properties\": {\n        \"dtype\": \"number\",\n        \"std\": 0,\n        \"min\": 0,\n        \"max\": 1,\n        \"num_unique_values\": 2,\n        \"samples\": [\n          1,\n          0\n        ],\n        \"semantic_type\": \"\",\n        \"description\": \"\"\n      }\n    },\n    {\n      \"column\": \"Max_Heart_Rate_Achieved\",\n      \"properties\": {\n        \"dtype\": \"number\",\n        \"std\": 28,\n        \"min\": 100,\n        \"max\": 199,\n        \"num_unique_values\": 100,\n        \"samples\": [\n          197,\n          138\n        ],\n        \"semantic_type\": \"\",\n        \"description\": \"\"\n      }\n    },\n    {\n      \"column\": \"Heart_Attack_Risk\",\n      \"properties\": {\n        \"dtype\": \"category\",\n        \"num_unique_values\": 3,\n        \"samples\": [\n          \"Low\",\n          \"Moderate\"\n        ],\n        \"semantic_type\": \"\",\n        \"description\": \"\"\n      }\n    }\n  ]\n}"
            }
          },
          "metadata": {},
          "execution_count": 15
        }
      ]
    },
    {
      "cell_type": "markdown",
      "source": [
        "## LabelEncoder"
      ],
      "metadata": {
        "id": "j-Oa1LkWGVGf"
      }
    },
    {
      "cell_type": "code",
      "source": [
        "from sklearn.preprocessing import LabelEncoder\n",
        "le = LabelEncoder()\n",
        "data[\"Physical_Activity_Level\"] = le.fit_transform(data[\"Physical_Activity_Level\"])\n",
        "data[\"Stress_Level\"] = le.fit_transform(data[\"Stress_Level\"])\n",
        "data[\"Chest_Pain_Type\"] = le.fit_transform(data[\"Chest_Pain_Type\"])\n",
        "data[\"Thalassemia\"] = le.fit_transform(data[\"Thalassemia\"])\n",
        "data[\"ECG_Results\"] = le.fit_transform(data[\"ECG_Results\"])\n",
        "data[\"Heart_Attack_Risk\"] = le.fit_transform(data[\"Heart_Attack_Risk\"])\n"
      ],
      "metadata": {
        "id": "aNUw5pw6FC3K"
      },
      "execution_count": null,
      "outputs": []
    },
    {
      "cell_type": "code",
      "source": [
        "le = LabelEncoder()\n",
        "le_columns = [\"Physical_Activity_Level\", \"Stress_Level\", \"Chest_Pain_Type\", \"Thalassemia\", \"ECG_Results\", \"Heart_Attack_Risk\"]\n",
        "for column in le_columns:\n",
        "  data[column] = le.fit_transform(data[column])"
      ],
      "metadata": {
        "id": "7Ezv1KpPGYsV"
      },
      "execution_count": null,
      "outputs": []
    },
    {
      "cell_type": "code",
      "source": [
        "data.head()"
      ],
      "metadata": {
        "colab": {
          "base_uri": "https://localhost:8080/",
          "height": 226
        },
        "id": "MwmkxADwGcAo",
        "outputId": "e6f4519c-ac31-4b83-b77e-2618511db2f2"
      },
      "execution_count": null,
      "outputs": [
        {
          "output_type": "execute_result",
          "data": {
            "text/plain": [
              "   Age  Gender  Smoking  Alcohol_Consumption  Physical_Activity_Level    BMI  \\\n",
              "0   69  Female        1                    0                        2  34.61   \n",
              "1   32    Male        0                    0                        2  22.75   \n",
              "2   89    Male        0                    1                        2  35.32   \n",
              "3   78    Male        0                    1                        2  18.23   \n",
              "4   38  Female        1                    0                        2  19.82   \n",
              "\n",
              "   Diabetes  Hypertension  Cholesterol_Level  Resting_BP  Heart_Rate  \\\n",
              "0         1             0              152.1         171          85   \n",
              "1         0             0              166.8         126         103   \n",
              "2         0             0              272.3         123         127   \n",
              "3         1             0              237.7         144         125   \n",
              "4         0             0              207.7         123         107   \n",
              "\n",
              "   Family_History  Stress_Level  Chest_Pain_Type  Thalassemia  \\\n",
              "0               0             2                2            2   \n",
              "1               0             1                0            1   \n",
              "2               0             1                3            2   \n",
              "3               0             1                3            0   \n",
              "4               0             0                0            2   \n",
              "\n",
              "   Fasting_Blood_Sugar  ECG_Results  Exercise_Induced_Angina  \\\n",
              "0                    0            1                        0   \n",
              "1                    0            2                        0   \n",
              "2                    0            2                        0   \n",
              "3                    1            0                        0   \n",
              "4                    0            2                        0   \n",
              "\n",
              "   Max_Heart_Rate_Achieved  Heart_Attack_Risk  \n",
              "0                      114                  1  \n",
              "1                      173                  2  \n",
              "2                      109                  1  \n",
              "3                      129                  1  \n",
              "4                      124                  2  "
            ],
            "text/html": [
              "\n",
              "  <div id=\"df-078da08f-9ee6-488a-8e5d-50b661d465c1\" class=\"colab-df-container\">\n",
              "    <div>\n",
              "<style scoped>\n",
              "    .dataframe tbody tr th:only-of-type {\n",
              "        vertical-align: middle;\n",
              "    }\n",
              "\n",
              "    .dataframe tbody tr th {\n",
              "        vertical-align: top;\n",
              "    }\n",
              "\n",
              "    .dataframe thead th {\n",
              "        text-align: right;\n",
              "    }\n",
              "</style>\n",
              "<table border=\"1\" class=\"dataframe\">\n",
              "  <thead>\n",
              "    <tr style=\"text-align: right;\">\n",
              "      <th></th>\n",
              "      <th>Age</th>\n",
              "      <th>Gender</th>\n",
              "      <th>Smoking</th>\n",
              "      <th>Alcohol_Consumption</th>\n",
              "      <th>Physical_Activity_Level</th>\n",
              "      <th>BMI</th>\n",
              "      <th>Diabetes</th>\n",
              "      <th>Hypertension</th>\n",
              "      <th>Cholesterol_Level</th>\n",
              "      <th>Resting_BP</th>\n",
              "      <th>Heart_Rate</th>\n",
              "      <th>Family_History</th>\n",
              "      <th>Stress_Level</th>\n",
              "      <th>Chest_Pain_Type</th>\n",
              "      <th>Thalassemia</th>\n",
              "      <th>Fasting_Blood_Sugar</th>\n",
              "      <th>ECG_Results</th>\n",
              "      <th>Exercise_Induced_Angina</th>\n",
              "      <th>Max_Heart_Rate_Achieved</th>\n",
              "      <th>Heart_Attack_Risk</th>\n",
              "    </tr>\n",
              "  </thead>\n",
              "  <tbody>\n",
              "    <tr>\n",
              "      <th>0</th>\n",
              "      <td>69</td>\n",
              "      <td>Female</td>\n",
              "      <td>1</td>\n",
              "      <td>0</td>\n",
              "      <td>2</td>\n",
              "      <td>34.61</td>\n",
              "      <td>1</td>\n",
              "      <td>0</td>\n",
              "      <td>152.1</td>\n",
              "      <td>171</td>\n",
              "      <td>85</td>\n",
              "      <td>0</td>\n",
              "      <td>2</td>\n",
              "      <td>2</td>\n",
              "      <td>2</td>\n",
              "      <td>0</td>\n",
              "      <td>1</td>\n",
              "      <td>0</td>\n",
              "      <td>114</td>\n",
              "      <td>1</td>\n",
              "    </tr>\n",
              "    <tr>\n",
              "      <th>1</th>\n",
              "      <td>32</td>\n",
              "      <td>Male</td>\n",
              "      <td>0</td>\n",
              "      <td>0</td>\n",
              "      <td>2</td>\n",
              "      <td>22.75</td>\n",
              "      <td>0</td>\n",
              "      <td>0</td>\n",
              "      <td>166.8</td>\n",
              "      <td>126</td>\n",
              "      <td>103</td>\n",
              "      <td>0</td>\n",
              "      <td>1</td>\n",
              "      <td>0</td>\n",
              "      <td>1</td>\n",
              "      <td>0</td>\n",
              "      <td>2</td>\n",
              "      <td>0</td>\n",
              "      <td>173</td>\n",
              "      <td>2</td>\n",
              "    </tr>\n",
              "    <tr>\n",
              "      <th>2</th>\n",
              "      <td>89</td>\n",
              "      <td>Male</td>\n",
              "      <td>0</td>\n",
              "      <td>1</td>\n",
              "      <td>2</td>\n",
              "      <td>35.32</td>\n",
              "      <td>0</td>\n",
              "      <td>0</td>\n",
              "      <td>272.3</td>\n",
              "      <td>123</td>\n",
              "      <td>127</td>\n",
              "      <td>0</td>\n",
              "      <td>1</td>\n",
              "      <td>3</td>\n",
              "      <td>2</td>\n",
              "      <td>0</td>\n",
              "      <td>2</td>\n",
              "      <td>0</td>\n",
              "      <td>109</td>\n",
              "      <td>1</td>\n",
              "    </tr>\n",
              "    <tr>\n",
              "      <th>3</th>\n",
              "      <td>78</td>\n",
              "      <td>Male</td>\n",
              "      <td>0</td>\n",
              "      <td>1</td>\n",
              "      <td>2</td>\n",
              "      <td>18.23</td>\n",
              "      <td>1</td>\n",
              "      <td>0</td>\n",
              "      <td>237.7</td>\n",
              "      <td>144</td>\n",
              "      <td>125</td>\n",
              "      <td>0</td>\n",
              "      <td>1</td>\n",
              "      <td>3</td>\n",
              "      <td>0</td>\n",
              "      <td>1</td>\n",
              "      <td>0</td>\n",
              "      <td>0</td>\n",
              "      <td>129</td>\n",
              "      <td>1</td>\n",
              "    </tr>\n",
              "    <tr>\n",
              "      <th>4</th>\n",
              "      <td>38</td>\n",
              "      <td>Female</td>\n",
              "      <td>1</td>\n",
              "      <td>0</td>\n",
              "      <td>2</td>\n",
              "      <td>19.82</td>\n",
              "      <td>0</td>\n",
              "      <td>0</td>\n",
              "      <td>207.7</td>\n",
              "      <td>123</td>\n",
              "      <td>107</td>\n",
              "      <td>0</td>\n",
              "      <td>0</td>\n",
              "      <td>0</td>\n",
              "      <td>2</td>\n",
              "      <td>0</td>\n",
              "      <td>2</td>\n",
              "      <td>0</td>\n",
              "      <td>124</td>\n",
              "      <td>2</td>\n",
              "    </tr>\n",
              "  </tbody>\n",
              "</table>\n",
              "</div>\n",
              "    <div class=\"colab-df-buttons\">\n",
              "\n",
              "  <div class=\"colab-df-container\">\n",
              "    <button class=\"colab-df-convert\" onclick=\"convertToInteractive('df-078da08f-9ee6-488a-8e5d-50b661d465c1')\"\n",
              "            title=\"Convert this dataframe to an interactive table.\"\n",
              "            style=\"display:none;\">\n",
              "\n",
              "  <svg xmlns=\"http://www.w3.org/2000/svg\" height=\"24px\" viewBox=\"0 -960 960 960\">\n",
              "    <path d=\"M120-120v-720h720v720H120Zm60-500h600v-160H180v160Zm220 220h160v-160H400v160Zm0 220h160v-160H400v160ZM180-400h160v-160H180v160Zm440 0h160v-160H620v160ZM180-180h160v-160H180v160Zm440 0h160v-160H620v160Z\"/>\n",
              "  </svg>\n",
              "    </button>\n",
              "\n",
              "  <style>\n",
              "    .colab-df-container {\n",
              "      display:flex;\n",
              "      gap: 12px;\n",
              "    }\n",
              "\n",
              "    .colab-df-convert {\n",
              "      background-color: #E8F0FE;\n",
              "      border: none;\n",
              "      border-radius: 50%;\n",
              "      cursor: pointer;\n",
              "      display: none;\n",
              "      fill: #1967D2;\n",
              "      height: 32px;\n",
              "      padding: 0 0 0 0;\n",
              "      width: 32px;\n",
              "    }\n",
              "\n",
              "    .colab-df-convert:hover {\n",
              "      background-color: #E2EBFA;\n",
              "      box-shadow: 0px 1px 2px rgba(60, 64, 67, 0.3), 0px 1px 3px 1px rgba(60, 64, 67, 0.15);\n",
              "      fill: #174EA6;\n",
              "    }\n",
              "\n",
              "    .colab-df-buttons div {\n",
              "      margin-bottom: 4px;\n",
              "    }\n",
              "\n",
              "    [theme=dark] .colab-df-convert {\n",
              "      background-color: #3B4455;\n",
              "      fill: #D2E3FC;\n",
              "    }\n",
              "\n",
              "    [theme=dark] .colab-df-convert:hover {\n",
              "      background-color: #434B5C;\n",
              "      box-shadow: 0px 1px 3px 1px rgba(0, 0, 0, 0.15);\n",
              "      filter: drop-shadow(0px 1px 2px rgba(0, 0, 0, 0.3));\n",
              "      fill: #FFFFFF;\n",
              "    }\n",
              "  </style>\n",
              "\n",
              "    <script>\n",
              "      const buttonEl =\n",
              "        document.querySelector('#df-078da08f-9ee6-488a-8e5d-50b661d465c1 button.colab-df-convert');\n",
              "      buttonEl.style.display =\n",
              "        google.colab.kernel.accessAllowed ? 'block' : 'none';\n",
              "\n",
              "      async function convertToInteractive(key) {\n",
              "        const element = document.querySelector('#df-078da08f-9ee6-488a-8e5d-50b661d465c1');\n",
              "        const dataTable =\n",
              "          await google.colab.kernel.invokeFunction('convertToInteractive',\n",
              "                                                    [key], {});\n",
              "        if (!dataTable) return;\n",
              "\n",
              "        const docLinkHtml = 'Like what you see? Visit the ' +\n",
              "          '<a target=\"_blank\" href=https://colab.research.google.com/notebooks/data_table.ipynb>data table notebook</a>'\n",
              "          + ' to learn more about interactive tables.';\n",
              "        element.innerHTML = '';\n",
              "        dataTable['output_type'] = 'display_data';\n",
              "        await google.colab.output.renderOutput(dataTable, element);\n",
              "        const docLink = document.createElement('div');\n",
              "        docLink.innerHTML = docLinkHtml;\n",
              "        element.appendChild(docLink);\n",
              "      }\n",
              "    </script>\n",
              "  </div>\n",
              "\n",
              "\n",
              "<div id=\"df-485b05e1-2ee0-4117-b60a-9e77c9ac9b46\">\n",
              "  <button class=\"colab-df-quickchart\" onclick=\"quickchart('df-485b05e1-2ee0-4117-b60a-9e77c9ac9b46')\"\n",
              "            title=\"Suggest charts\"\n",
              "            style=\"display:none;\">\n",
              "\n",
              "<svg xmlns=\"http://www.w3.org/2000/svg\" height=\"24px\"viewBox=\"0 0 24 24\"\n",
              "     width=\"24px\">\n",
              "    <g>\n",
              "        <path d=\"M19 3H5c-1.1 0-2 .9-2 2v14c0 1.1.9 2 2 2h14c1.1 0 2-.9 2-2V5c0-1.1-.9-2-2-2zM9 17H7v-7h2v7zm4 0h-2V7h2v10zm4 0h-2v-4h2v4z\"/>\n",
              "    </g>\n",
              "</svg>\n",
              "  </button>\n",
              "\n",
              "<style>\n",
              "  .colab-df-quickchart {\n",
              "      --bg-color: #E8F0FE;\n",
              "      --fill-color: #1967D2;\n",
              "      --hover-bg-color: #E2EBFA;\n",
              "      --hover-fill-color: #174EA6;\n",
              "      --disabled-fill-color: #AAA;\n",
              "      --disabled-bg-color: #DDD;\n",
              "  }\n",
              "\n",
              "  [theme=dark] .colab-df-quickchart {\n",
              "      --bg-color: #3B4455;\n",
              "      --fill-color: #D2E3FC;\n",
              "      --hover-bg-color: #434B5C;\n",
              "      --hover-fill-color: #FFFFFF;\n",
              "      --disabled-bg-color: #3B4455;\n",
              "      --disabled-fill-color: #666;\n",
              "  }\n",
              "\n",
              "  .colab-df-quickchart {\n",
              "    background-color: var(--bg-color);\n",
              "    border: none;\n",
              "    border-radius: 50%;\n",
              "    cursor: pointer;\n",
              "    display: none;\n",
              "    fill: var(--fill-color);\n",
              "    height: 32px;\n",
              "    padding: 0;\n",
              "    width: 32px;\n",
              "  }\n",
              "\n",
              "  .colab-df-quickchart:hover {\n",
              "    background-color: var(--hover-bg-color);\n",
              "    box-shadow: 0 1px 2px rgba(60, 64, 67, 0.3), 0 1px 3px 1px rgba(60, 64, 67, 0.15);\n",
              "    fill: var(--button-hover-fill-color);\n",
              "  }\n",
              "\n",
              "  .colab-df-quickchart-complete:disabled,\n",
              "  .colab-df-quickchart-complete:disabled:hover {\n",
              "    background-color: var(--disabled-bg-color);\n",
              "    fill: var(--disabled-fill-color);\n",
              "    box-shadow: none;\n",
              "  }\n",
              "\n",
              "  .colab-df-spinner {\n",
              "    border: 2px solid var(--fill-color);\n",
              "    border-color: transparent;\n",
              "    border-bottom-color: var(--fill-color);\n",
              "    animation:\n",
              "      spin 1s steps(1) infinite;\n",
              "  }\n",
              "\n",
              "  @keyframes spin {\n",
              "    0% {\n",
              "      border-color: transparent;\n",
              "      border-bottom-color: var(--fill-color);\n",
              "      border-left-color: var(--fill-color);\n",
              "    }\n",
              "    20% {\n",
              "      border-color: transparent;\n",
              "      border-left-color: var(--fill-color);\n",
              "      border-top-color: var(--fill-color);\n",
              "    }\n",
              "    30% {\n",
              "      border-color: transparent;\n",
              "      border-left-color: var(--fill-color);\n",
              "      border-top-color: var(--fill-color);\n",
              "      border-right-color: var(--fill-color);\n",
              "    }\n",
              "    40% {\n",
              "      border-color: transparent;\n",
              "      border-right-color: var(--fill-color);\n",
              "      border-top-color: var(--fill-color);\n",
              "    }\n",
              "    60% {\n",
              "      border-color: transparent;\n",
              "      border-right-color: var(--fill-color);\n",
              "    }\n",
              "    80% {\n",
              "      border-color: transparent;\n",
              "      border-right-color: var(--fill-color);\n",
              "      border-bottom-color: var(--fill-color);\n",
              "    }\n",
              "    90% {\n",
              "      border-color: transparent;\n",
              "      border-bottom-color: var(--fill-color);\n",
              "    }\n",
              "  }\n",
              "</style>\n",
              "\n",
              "  <script>\n",
              "    async function quickchart(key) {\n",
              "      const quickchartButtonEl =\n",
              "        document.querySelector('#' + key + ' button');\n",
              "      quickchartButtonEl.disabled = true;  // To prevent multiple clicks.\n",
              "      quickchartButtonEl.classList.add('colab-df-spinner');\n",
              "      try {\n",
              "        const charts = await google.colab.kernel.invokeFunction(\n",
              "            'suggestCharts', [key], {});\n",
              "      } catch (error) {\n",
              "        console.error('Error during call to suggestCharts:', error);\n",
              "      }\n",
              "      quickchartButtonEl.classList.remove('colab-df-spinner');\n",
              "      quickchartButtonEl.classList.add('colab-df-quickchart-complete');\n",
              "    }\n",
              "    (() => {\n",
              "      let quickchartButtonEl =\n",
              "        document.querySelector('#df-485b05e1-2ee0-4117-b60a-9e77c9ac9b46 button');\n",
              "      quickchartButtonEl.style.display =\n",
              "        google.colab.kernel.accessAllowed ? 'block' : 'none';\n",
              "    })();\n",
              "  </script>\n",
              "</div>\n",
              "\n",
              "    </div>\n",
              "  </div>\n"
            ],
            "application/vnd.google.colaboratory.intrinsic+json": {
              "type": "dataframe",
              "variable_name": "data",
              "summary": "{\n  \"name\": \"data\",\n  \"rows\": 50000,\n  \"fields\": [\n    {\n      \"column\": \"Age\",\n      \"properties\": {\n        \"dtype\": \"number\",\n        \"std\": 20,\n        \"min\": 18,\n        \"max\": 89,\n        \"num_unique_values\": 72,\n        \"samples\": [\n          38,\n          85,\n          59\n        ],\n        \"semantic_type\": \"\",\n        \"description\": \"\"\n      }\n    },\n    {\n      \"column\": \"Gender\",\n      \"properties\": {\n        \"dtype\": \"category\",\n        \"num_unique_values\": 2,\n        \"samples\": [\n          \"Male\",\n          \"Female\"\n        ],\n        \"semantic_type\": \"\",\n        \"description\": \"\"\n      }\n    },\n    {\n      \"column\": \"Smoking\",\n      \"properties\": {\n        \"dtype\": \"number\",\n        \"std\": 0,\n        \"min\": 0,\n        \"max\": 1,\n        \"num_unique_values\": 2,\n        \"samples\": [\n          0,\n          1\n        ],\n        \"semantic_type\": \"\",\n        \"description\": \"\"\n      }\n    },\n    {\n      \"column\": \"Alcohol_Consumption\",\n      \"properties\": {\n        \"dtype\": \"number\",\n        \"std\": 0,\n        \"min\": 0,\n        \"max\": 1,\n        \"num_unique_values\": 2,\n        \"samples\": [\n          1,\n          0\n        ],\n        \"semantic_type\": \"\",\n        \"description\": \"\"\n      }\n    },\n    {\n      \"column\": \"Physical_Activity_Level\",\n      \"properties\": {\n        \"dtype\": \"number\",\n        \"std\": 0,\n        \"min\": 0,\n        \"max\": 2,\n        \"num_unique_values\": 3,\n        \"samples\": [\n          2,\n          1\n        ],\n        \"semantic_type\": \"\",\n        \"description\": \"\"\n      }\n    },\n    {\n      \"column\": \"BMI\",\n      \"properties\": {\n        \"dtype\": \"number\",\n        \"std\": 7.2251756027142955,\n        \"min\": 15.0,\n        \"max\": 40.0,\n        \"num_unique_values\": 2501,\n        \"samples\": [\n          16.16,\n          39.52\n        ],\n        \"semantic_type\": \"\",\n        \"description\": \"\"\n      }\n    },\n    {\n      \"column\": \"Diabetes\",\n      \"properties\": {\n        \"dtype\": \"number\",\n        \"std\": 0,\n        \"min\": 0,\n        \"max\": 1,\n        \"num_unique_values\": 2,\n        \"samples\": [\n          0,\n          1\n        ],\n        \"semantic_type\": \"\",\n        \"description\": \"\"\n      }\n    },\n    {\n      \"column\": \"Hypertension\",\n      \"properties\": {\n        \"dtype\": \"number\",\n        \"std\": 0,\n        \"min\": 0,\n        \"max\": 1,\n        \"num_unique_values\": 2,\n        \"samples\": [\n          1,\n          0\n        ],\n        \"semantic_type\": \"\",\n        \"description\": \"\"\n      }\n    },\n    {\n      \"column\": \"Cholesterol_Level\",\n      \"properties\": {\n        \"dtype\": \"number\",\n        \"std\": 43.317373107462714,\n        \"min\": 150.0,\n        \"max\": 300.0,\n        \"num_unique_values\": 1501,\n        \"samples\": [\n          245.8,\n          156.6\n        ],\n        \"semantic_type\": \"\",\n        \"description\": \"\"\n      }\n    },\n    {\n      \"column\": \"Resting_BP\",\n      \"properties\": {\n        \"dtype\": \"number\",\n        \"std\": 25,\n        \"min\": 90,\n        \"max\": 179,\n        \"num_unique_values\": 90,\n        \"samples\": [\n          96,\n          132\n        ],\n        \"semantic_type\": \"\",\n        \"description\": \"\"\n      }\n    },\n    {\n      \"column\": \"Heart_Rate\",\n      \"properties\": {\n        \"dtype\": \"number\",\n        \"std\": 20,\n        \"min\": 60,\n        \"max\": 129,\n        \"num_unique_values\": 70,\n        \"samples\": [\n          84,\n          85\n        ],\n        \"semantic_type\": \"\",\n        \"description\": \"\"\n      }\n    },\n    {\n      \"column\": \"Family_History\",\n      \"properties\": {\n        \"dtype\": \"number\",\n        \"std\": 0,\n        \"min\": 0,\n        \"max\": 1,\n        \"num_unique_values\": 2,\n        \"samples\": [\n          1,\n          0\n        ],\n        \"semantic_type\": \"\",\n        \"description\": \"\"\n      }\n    },\n    {\n      \"column\": \"Stress_Level\",\n      \"properties\": {\n        \"dtype\": \"number\",\n        \"std\": 0,\n        \"min\": 0,\n        \"max\": 2,\n        \"num_unique_values\": 3,\n        \"samples\": [\n          2,\n          1\n        ],\n        \"semantic_type\": \"\",\n        \"description\": \"\"\n      }\n    },\n    {\n      \"column\": \"Chest_Pain_Type\",\n      \"properties\": {\n        \"dtype\": \"number\",\n        \"std\": 1,\n        \"min\": 0,\n        \"max\": 3,\n        \"num_unique_values\": 4,\n        \"samples\": [\n          0,\n          1\n        ],\n        \"semantic_type\": \"\",\n        \"description\": \"\"\n      }\n    },\n    {\n      \"column\": \"Thalassemia\",\n      \"properties\": {\n        \"dtype\": \"number\",\n        \"std\": 0,\n        \"min\": 0,\n        \"max\": 2,\n        \"num_unique_values\": 3,\n        \"samples\": [\n          2,\n          1\n        ],\n        \"semantic_type\": \"\",\n        \"description\": \"\"\n      }\n    },\n    {\n      \"column\": \"Fasting_Blood_Sugar\",\n      \"properties\": {\n        \"dtype\": \"number\",\n        \"std\": 0,\n        \"min\": 0,\n        \"max\": 1,\n        \"num_unique_values\": 2,\n        \"samples\": [\n          1,\n          0\n        ],\n        \"semantic_type\": \"\",\n        \"description\": \"\"\n      }\n    },\n    {\n      \"column\": \"ECG_Results\",\n      \"properties\": {\n        \"dtype\": \"number\",\n        \"std\": 0,\n        \"min\": 0,\n        \"max\": 2,\n        \"num_unique_values\": 3,\n        \"samples\": [\n          1,\n          2\n        ],\n        \"semantic_type\": \"\",\n        \"description\": \"\"\n      }\n    },\n    {\n      \"column\": \"Exercise_Induced_Angina\",\n      \"properties\": {\n        \"dtype\": \"number\",\n        \"std\": 0,\n        \"min\": 0,\n        \"max\": 1,\n        \"num_unique_values\": 2,\n        \"samples\": [\n          1,\n          0\n        ],\n        \"semantic_type\": \"\",\n        \"description\": \"\"\n      }\n    },\n    {\n      \"column\": \"Max_Heart_Rate_Achieved\",\n      \"properties\": {\n        \"dtype\": \"number\",\n        \"std\": 28,\n        \"min\": 100,\n        \"max\": 199,\n        \"num_unique_values\": 100,\n        \"samples\": [\n          197,\n          138\n        ],\n        \"semantic_type\": \"\",\n        \"description\": \"\"\n      }\n    },\n    {\n      \"column\": \"Heart_Attack_Risk\",\n      \"properties\": {\n        \"dtype\": \"number\",\n        \"std\": 0,\n        \"min\": 0,\n        \"max\": 2,\n        \"num_unique_values\": 3,\n        \"samples\": [\n          1,\n          2\n        ],\n        \"semantic_type\": \"\",\n        \"description\": \"\"\n      }\n    }\n  ]\n}"
            }
          },
          "metadata": {},
          "execution_count": 18
        }
      ]
    },
    {
      "cell_type": "markdown",
      "source": [
        "## BALANCING-DATA"
      ],
      "metadata": {
        "id": "cCnk_ddtGlp9"
      }
    },
    {
      "cell_type": "code",
      "source": [
        "\n",
        "balanced_data = pd.DataFrame()\n",
        "\n",
        "for class_con in data['Heart_Attack_Risk'].unique() :\n",
        "  class_data = data[data['Heart_Attack_Risk'] == class_con]\n",
        "  if len(class_data) > 12000 :\n",
        "    sample_data = class_data.sample(n = 12000, random_state = 42, replace = False)\n",
        "  else :\n",
        "    sample_data = class_data.sample(n = 12000, random_state = 42, replace = True)\n",
        "  balanced_data = pd.concat([balanced_data, sample_data])"
      ],
      "metadata": {
        "id": "7dPWfq6wGiDm"
      },
      "execution_count": null,
      "outputs": []
    },
    {
      "cell_type": "code",
      "source": [
        "balanced_data[\"Heart_Attack_Risk\"].value_counts()"
      ],
      "metadata": {
        "colab": {
          "base_uri": "https://localhost:8080/",
          "height": 209
        },
        "id": "I0Mr77pIGuuN",
        "outputId": "2a6903c4-3f26-4799-83c7-65d6d4c2b082"
      },
      "execution_count": null,
      "outputs": [
        {
          "output_type": "execute_result",
          "data": {
            "text/plain": [
              "Heart_Attack_Risk\n",
              "1    12000\n",
              "2    12000\n",
              "0    12000\n",
              "Name: count, dtype: int64"
            ],
            "text/html": [
              "<div>\n",
              "<style scoped>\n",
              "    .dataframe tbody tr th:only-of-type {\n",
              "        vertical-align: middle;\n",
              "    }\n",
              "\n",
              "    .dataframe tbody tr th {\n",
              "        vertical-align: top;\n",
              "    }\n",
              "\n",
              "    .dataframe thead th {\n",
              "        text-align: right;\n",
              "    }\n",
              "</style>\n",
              "<table border=\"1\" class=\"dataframe\">\n",
              "  <thead>\n",
              "    <tr style=\"text-align: right;\">\n",
              "      <th></th>\n",
              "      <th>count</th>\n",
              "    </tr>\n",
              "    <tr>\n",
              "      <th>Heart_Attack_Risk</th>\n",
              "      <th></th>\n",
              "    </tr>\n",
              "  </thead>\n",
              "  <tbody>\n",
              "    <tr>\n",
              "      <th>1</th>\n",
              "      <td>12000</td>\n",
              "    </tr>\n",
              "    <tr>\n",
              "      <th>2</th>\n",
              "      <td>12000</td>\n",
              "    </tr>\n",
              "    <tr>\n",
              "      <th>0</th>\n",
              "      <td>12000</td>\n",
              "    </tr>\n",
              "  </tbody>\n",
              "</table>\n",
              "</div><br><label><b>dtype:</b> int64</label>"
            ]
          },
          "metadata": {},
          "execution_count": 20
        }
      ]
    },
    {
      "cell_type": "code",
      "source": [
        "data = balanced_data\n",
        "final_data = data.reset_index()"
      ],
      "metadata": {
        "id": "9b12wfhpGxkg"
      },
      "execution_count": null,
      "outputs": []
    },
    {
      "cell_type": "code",
      "source": [
        "final_data = data.sample(frac = 1)\n",
        "final_data.head()"
      ],
      "metadata": {
        "colab": {
          "base_uri": "https://localhost:8080/",
          "height": 226
        },
        "id": "USwJm9UAG2YX",
        "outputId": "dc001954-87d2-4594-950f-9aee17a7a627"
      },
      "execution_count": null,
      "outputs": [
        {
          "output_type": "execute_result",
          "data": {
            "text/plain": [
              "       Age  Gender  Smoking  Alcohol_Consumption  Physical_Activity_Level  \\\n",
              "25595   34  Female        0                    1                        1   \n",
              "44541   72    Male        0                    0                        0   \n",
              "2849    64    Male        1                    1                        2   \n",
              "4968    36  Female        0                    1                        1   \n",
              "49049   35    Male        0                    1                        2   \n",
              "\n",
              "         BMI  Diabetes  Hypertension  Cholesterol_Level  Resting_BP  \\\n",
              "25595  19.85         0             0              294.2         135   \n",
              "44541  33.77         0             0              225.7         110   \n",
              "2849   39.82         0             0              205.7         137   \n",
              "4968   35.99         0             1              296.2         152   \n",
              "49049  29.57         0             0              150.2         151   \n",
              "\n",
              "       Heart_Rate  Family_History  Stress_Level  Chest_Pain_Type  Thalassemia  \\\n",
              "25595          91               0             2                3            2   \n",
              "44541         104               0             2                0            0   \n",
              "2849           77               1             0                0            0   \n",
              "4968           73               1             2                3            2   \n",
              "49049          91               0             2                0            1   \n",
              "\n",
              "       Fasting_Blood_Sugar  ECG_Results  Exercise_Induced_Angina  \\\n",
              "25595                    0            1                        0   \n",
              "44541                    0            1                        0   \n",
              "2849                     0            0                        0   \n",
              "4968                     0            2                        0   \n",
              "49049                    0            2                        0   \n",
              "\n",
              "       Max_Heart_Rate_Achieved  Heart_Attack_Risk  \n",
              "25595                      152                  0  \n",
              "44541                      194                  0  \n",
              "2849                       165                  1  \n",
              "4968                       115                  0  \n",
              "49049                      128                  2  "
            ],
            "text/html": [
              "\n",
              "  <div id=\"df-06ea7405-d3c1-4e2f-ba7f-d5c4d549f980\" class=\"colab-df-container\">\n",
              "    <div>\n",
              "<style scoped>\n",
              "    .dataframe tbody tr th:only-of-type {\n",
              "        vertical-align: middle;\n",
              "    }\n",
              "\n",
              "    .dataframe tbody tr th {\n",
              "        vertical-align: top;\n",
              "    }\n",
              "\n",
              "    .dataframe thead th {\n",
              "        text-align: right;\n",
              "    }\n",
              "</style>\n",
              "<table border=\"1\" class=\"dataframe\">\n",
              "  <thead>\n",
              "    <tr style=\"text-align: right;\">\n",
              "      <th></th>\n",
              "      <th>Age</th>\n",
              "      <th>Gender</th>\n",
              "      <th>Smoking</th>\n",
              "      <th>Alcohol_Consumption</th>\n",
              "      <th>Physical_Activity_Level</th>\n",
              "      <th>BMI</th>\n",
              "      <th>Diabetes</th>\n",
              "      <th>Hypertension</th>\n",
              "      <th>Cholesterol_Level</th>\n",
              "      <th>Resting_BP</th>\n",
              "      <th>Heart_Rate</th>\n",
              "      <th>Family_History</th>\n",
              "      <th>Stress_Level</th>\n",
              "      <th>Chest_Pain_Type</th>\n",
              "      <th>Thalassemia</th>\n",
              "      <th>Fasting_Blood_Sugar</th>\n",
              "      <th>ECG_Results</th>\n",
              "      <th>Exercise_Induced_Angina</th>\n",
              "      <th>Max_Heart_Rate_Achieved</th>\n",
              "      <th>Heart_Attack_Risk</th>\n",
              "    </tr>\n",
              "  </thead>\n",
              "  <tbody>\n",
              "    <tr>\n",
              "      <th>25595</th>\n",
              "      <td>34</td>\n",
              "      <td>Female</td>\n",
              "      <td>0</td>\n",
              "      <td>1</td>\n",
              "      <td>1</td>\n",
              "      <td>19.85</td>\n",
              "      <td>0</td>\n",
              "      <td>0</td>\n",
              "      <td>294.2</td>\n",
              "      <td>135</td>\n",
              "      <td>91</td>\n",
              "      <td>0</td>\n",
              "      <td>2</td>\n",
              "      <td>3</td>\n",
              "      <td>2</td>\n",
              "      <td>0</td>\n",
              "      <td>1</td>\n",
              "      <td>0</td>\n",
              "      <td>152</td>\n",
              "      <td>0</td>\n",
              "    </tr>\n",
              "    <tr>\n",
              "      <th>44541</th>\n",
              "      <td>72</td>\n",
              "      <td>Male</td>\n",
              "      <td>0</td>\n",
              "      <td>0</td>\n",
              "      <td>0</td>\n",
              "      <td>33.77</td>\n",
              "      <td>0</td>\n",
              "      <td>0</td>\n",
              "      <td>225.7</td>\n",
              "      <td>110</td>\n",
              "      <td>104</td>\n",
              "      <td>0</td>\n",
              "      <td>2</td>\n",
              "      <td>0</td>\n",
              "      <td>0</td>\n",
              "      <td>0</td>\n",
              "      <td>1</td>\n",
              "      <td>0</td>\n",
              "      <td>194</td>\n",
              "      <td>0</td>\n",
              "    </tr>\n",
              "    <tr>\n",
              "      <th>2849</th>\n",
              "      <td>64</td>\n",
              "      <td>Male</td>\n",
              "      <td>1</td>\n",
              "      <td>1</td>\n",
              "      <td>2</td>\n",
              "      <td>39.82</td>\n",
              "      <td>0</td>\n",
              "      <td>0</td>\n",
              "      <td>205.7</td>\n",
              "      <td>137</td>\n",
              "      <td>77</td>\n",
              "      <td>1</td>\n",
              "      <td>0</td>\n",
              "      <td>0</td>\n",
              "      <td>0</td>\n",
              "      <td>0</td>\n",
              "      <td>0</td>\n",
              "      <td>0</td>\n",
              "      <td>165</td>\n",
              "      <td>1</td>\n",
              "    </tr>\n",
              "    <tr>\n",
              "      <th>4968</th>\n",
              "      <td>36</td>\n",
              "      <td>Female</td>\n",
              "      <td>0</td>\n",
              "      <td>1</td>\n",
              "      <td>1</td>\n",
              "      <td>35.99</td>\n",
              "      <td>0</td>\n",
              "      <td>1</td>\n",
              "      <td>296.2</td>\n",
              "      <td>152</td>\n",
              "      <td>73</td>\n",
              "      <td>1</td>\n",
              "      <td>2</td>\n",
              "      <td>3</td>\n",
              "      <td>2</td>\n",
              "      <td>0</td>\n",
              "      <td>2</td>\n",
              "      <td>0</td>\n",
              "      <td>115</td>\n",
              "      <td>0</td>\n",
              "    </tr>\n",
              "    <tr>\n",
              "      <th>49049</th>\n",
              "      <td>35</td>\n",
              "      <td>Male</td>\n",
              "      <td>0</td>\n",
              "      <td>1</td>\n",
              "      <td>2</td>\n",
              "      <td>29.57</td>\n",
              "      <td>0</td>\n",
              "      <td>0</td>\n",
              "      <td>150.2</td>\n",
              "      <td>151</td>\n",
              "      <td>91</td>\n",
              "      <td>0</td>\n",
              "      <td>2</td>\n",
              "      <td>0</td>\n",
              "      <td>1</td>\n",
              "      <td>0</td>\n",
              "      <td>2</td>\n",
              "      <td>0</td>\n",
              "      <td>128</td>\n",
              "      <td>2</td>\n",
              "    </tr>\n",
              "  </tbody>\n",
              "</table>\n",
              "</div>\n",
              "    <div class=\"colab-df-buttons\">\n",
              "\n",
              "  <div class=\"colab-df-container\">\n",
              "    <button class=\"colab-df-convert\" onclick=\"convertToInteractive('df-06ea7405-d3c1-4e2f-ba7f-d5c4d549f980')\"\n",
              "            title=\"Convert this dataframe to an interactive table.\"\n",
              "            style=\"display:none;\">\n",
              "\n",
              "  <svg xmlns=\"http://www.w3.org/2000/svg\" height=\"24px\" viewBox=\"0 -960 960 960\">\n",
              "    <path d=\"M120-120v-720h720v720H120Zm60-500h600v-160H180v160Zm220 220h160v-160H400v160Zm0 220h160v-160H400v160ZM180-400h160v-160H180v160Zm440 0h160v-160H620v160ZM180-180h160v-160H180v160Zm440 0h160v-160H620v160Z\"/>\n",
              "  </svg>\n",
              "    </button>\n",
              "\n",
              "  <style>\n",
              "    .colab-df-container {\n",
              "      display:flex;\n",
              "      gap: 12px;\n",
              "    }\n",
              "\n",
              "    .colab-df-convert {\n",
              "      background-color: #E8F0FE;\n",
              "      border: none;\n",
              "      border-radius: 50%;\n",
              "      cursor: pointer;\n",
              "      display: none;\n",
              "      fill: #1967D2;\n",
              "      height: 32px;\n",
              "      padding: 0 0 0 0;\n",
              "      width: 32px;\n",
              "    }\n",
              "\n",
              "    .colab-df-convert:hover {\n",
              "      background-color: #E2EBFA;\n",
              "      box-shadow: 0px 1px 2px rgba(60, 64, 67, 0.3), 0px 1px 3px 1px rgba(60, 64, 67, 0.15);\n",
              "      fill: #174EA6;\n",
              "    }\n",
              "\n",
              "    .colab-df-buttons div {\n",
              "      margin-bottom: 4px;\n",
              "    }\n",
              "\n",
              "    [theme=dark] .colab-df-convert {\n",
              "      background-color: #3B4455;\n",
              "      fill: #D2E3FC;\n",
              "    }\n",
              "\n",
              "    [theme=dark] .colab-df-convert:hover {\n",
              "      background-color: #434B5C;\n",
              "      box-shadow: 0px 1px 3px 1px rgba(0, 0, 0, 0.15);\n",
              "      filter: drop-shadow(0px 1px 2px rgba(0, 0, 0, 0.3));\n",
              "      fill: #FFFFFF;\n",
              "    }\n",
              "  </style>\n",
              "\n",
              "    <script>\n",
              "      const buttonEl =\n",
              "        document.querySelector('#df-06ea7405-d3c1-4e2f-ba7f-d5c4d549f980 button.colab-df-convert');\n",
              "      buttonEl.style.display =\n",
              "        google.colab.kernel.accessAllowed ? 'block' : 'none';\n",
              "\n",
              "      async function convertToInteractive(key) {\n",
              "        const element = document.querySelector('#df-06ea7405-d3c1-4e2f-ba7f-d5c4d549f980');\n",
              "        const dataTable =\n",
              "          await google.colab.kernel.invokeFunction('convertToInteractive',\n",
              "                                                    [key], {});\n",
              "        if (!dataTable) return;\n",
              "\n",
              "        const docLinkHtml = 'Like what you see? Visit the ' +\n",
              "          '<a target=\"_blank\" href=https://colab.research.google.com/notebooks/data_table.ipynb>data table notebook</a>'\n",
              "          + ' to learn more about interactive tables.';\n",
              "        element.innerHTML = '';\n",
              "        dataTable['output_type'] = 'display_data';\n",
              "        await google.colab.output.renderOutput(dataTable, element);\n",
              "        const docLink = document.createElement('div');\n",
              "        docLink.innerHTML = docLinkHtml;\n",
              "        element.appendChild(docLink);\n",
              "      }\n",
              "    </script>\n",
              "  </div>\n",
              "\n",
              "\n",
              "<div id=\"df-0d246fde-764f-49e1-b766-02f1ad241043\">\n",
              "  <button class=\"colab-df-quickchart\" onclick=\"quickchart('df-0d246fde-764f-49e1-b766-02f1ad241043')\"\n",
              "            title=\"Suggest charts\"\n",
              "            style=\"display:none;\">\n",
              "\n",
              "<svg xmlns=\"http://www.w3.org/2000/svg\" height=\"24px\"viewBox=\"0 0 24 24\"\n",
              "     width=\"24px\">\n",
              "    <g>\n",
              "        <path d=\"M19 3H5c-1.1 0-2 .9-2 2v14c0 1.1.9 2 2 2h14c1.1 0 2-.9 2-2V5c0-1.1-.9-2-2-2zM9 17H7v-7h2v7zm4 0h-2V7h2v10zm4 0h-2v-4h2v4z\"/>\n",
              "    </g>\n",
              "</svg>\n",
              "  </button>\n",
              "\n",
              "<style>\n",
              "  .colab-df-quickchart {\n",
              "      --bg-color: #E8F0FE;\n",
              "      --fill-color: #1967D2;\n",
              "      --hover-bg-color: #E2EBFA;\n",
              "      --hover-fill-color: #174EA6;\n",
              "      --disabled-fill-color: #AAA;\n",
              "      --disabled-bg-color: #DDD;\n",
              "  }\n",
              "\n",
              "  [theme=dark] .colab-df-quickchart {\n",
              "      --bg-color: #3B4455;\n",
              "      --fill-color: #D2E3FC;\n",
              "      --hover-bg-color: #434B5C;\n",
              "      --hover-fill-color: #FFFFFF;\n",
              "      --disabled-bg-color: #3B4455;\n",
              "      --disabled-fill-color: #666;\n",
              "  }\n",
              "\n",
              "  .colab-df-quickchart {\n",
              "    background-color: var(--bg-color);\n",
              "    border: none;\n",
              "    border-radius: 50%;\n",
              "    cursor: pointer;\n",
              "    display: none;\n",
              "    fill: var(--fill-color);\n",
              "    height: 32px;\n",
              "    padding: 0;\n",
              "    width: 32px;\n",
              "  }\n",
              "\n",
              "  .colab-df-quickchart:hover {\n",
              "    background-color: var(--hover-bg-color);\n",
              "    box-shadow: 0 1px 2px rgba(60, 64, 67, 0.3), 0 1px 3px 1px rgba(60, 64, 67, 0.15);\n",
              "    fill: var(--button-hover-fill-color);\n",
              "  }\n",
              "\n",
              "  .colab-df-quickchart-complete:disabled,\n",
              "  .colab-df-quickchart-complete:disabled:hover {\n",
              "    background-color: var(--disabled-bg-color);\n",
              "    fill: var(--disabled-fill-color);\n",
              "    box-shadow: none;\n",
              "  }\n",
              "\n",
              "  .colab-df-spinner {\n",
              "    border: 2px solid var(--fill-color);\n",
              "    border-color: transparent;\n",
              "    border-bottom-color: var(--fill-color);\n",
              "    animation:\n",
              "      spin 1s steps(1) infinite;\n",
              "  }\n",
              "\n",
              "  @keyframes spin {\n",
              "    0% {\n",
              "      border-color: transparent;\n",
              "      border-bottom-color: var(--fill-color);\n",
              "      border-left-color: var(--fill-color);\n",
              "    }\n",
              "    20% {\n",
              "      border-color: transparent;\n",
              "      border-left-color: var(--fill-color);\n",
              "      border-top-color: var(--fill-color);\n",
              "    }\n",
              "    30% {\n",
              "      border-color: transparent;\n",
              "      border-left-color: var(--fill-color);\n",
              "      border-top-color: var(--fill-color);\n",
              "      border-right-color: var(--fill-color);\n",
              "    }\n",
              "    40% {\n",
              "      border-color: transparent;\n",
              "      border-right-color: var(--fill-color);\n",
              "      border-top-color: var(--fill-color);\n",
              "    }\n",
              "    60% {\n",
              "      border-color: transparent;\n",
              "      border-right-color: var(--fill-color);\n",
              "    }\n",
              "    80% {\n",
              "      border-color: transparent;\n",
              "      border-right-color: var(--fill-color);\n",
              "      border-bottom-color: var(--fill-color);\n",
              "    }\n",
              "    90% {\n",
              "      border-color: transparent;\n",
              "      border-bottom-color: var(--fill-color);\n",
              "    }\n",
              "  }\n",
              "</style>\n",
              "\n",
              "  <script>\n",
              "    async function quickchart(key) {\n",
              "      const quickchartButtonEl =\n",
              "        document.querySelector('#' + key + ' button');\n",
              "      quickchartButtonEl.disabled = true;  // To prevent multiple clicks.\n",
              "      quickchartButtonEl.classList.add('colab-df-spinner');\n",
              "      try {\n",
              "        const charts = await google.colab.kernel.invokeFunction(\n",
              "            'suggestCharts', [key], {});\n",
              "      } catch (error) {\n",
              "        console.error('Error during call to suggestCharts:', error);\n",
              "      }\n",
              "      quickchartButtonEl.classList.remove('colab-df-spinner');\n",
              "      quickchartButtonEl.classList.add('colab-df-quickchart-complete');\n",
              "    }\n",
              "    (() => {\n",
              "      let quickchartButtonEl =\n",
              "        document.querySelector('#df-0d246fde-764f-49e1-b766-02f1ad241043 button');\n",
              "      quickchartButtonEl.style.display =\n",
              "        google.colab.kernel.accessAllowed ? 'block' : 'none';\n",
              "    })();\n",
              "  </script>\n",
              "</div>\n",
              "\n",
              "    </div>\n",
              "  </div>\n"
            ],
            "application/vnd.google.colaboratory.intrinsic+json": {
              "type": "dataframe",
              "variable_name": "final_data",
              "summary": "{\n  \"name\": \"final_data\",\n  \"rows\": 36000,\n  \"fields\": [\n    {\n      \"column\": \"Age\",\n      \"properties\": {\n        \"dtype\": \"number\",\n        \"std\": 20,\n        \"min\": 18,\n        \"max\": 89,\n        \"num_unique_values\": 72,\n        \"samples\": [\n          35,\n          45,\n          77\n        ],\n        \"semantic_type\": \"\",\n        \"description\": \"\"\n      }\n    },\n    {\n      \"column\": \"Gender\",\n      \"properties\": {\n        \"dtype\": \"category\",\n        \"num_unique_values\": 2,\n        \"samples\": [\n          \"Male\",\n          \"Female\"\n        ],\n        \"semantic_type\": \"\",\n        \"description\": \"\"\n      }\n    },\n    {\n      \"column\": \"Smoking\",\n      \"properties\": {\n        \"dtype\": \"number\",\n        \"std\": 0,\n        \"min\": 0,\n        \"max\": 1,\n        \"num_unique_values\": 2,\n        \"samples\": [\n          1,\n          0\n        ],\n        \"semantic_type\": \"\",\n        \"description\": \"\"\n      }\n    },\n    {\n      \"column\": \"Alcohol_Consumption\",\n      \"properties\": {\n        \"dtype\": \"number\",\n        \"std\": 0,\n        \"min\": 0,\n        \"max\": 1,\n        \"num_unique_values\": 2,\n        \"samples\": [\n          0,\n          1\n        ],\n        \"semantic_type\": \"\",\n        \"description\": \"\"\n      }\n    },\n    {\n      \"column\": \"Physical_Activity_Level\",\n      \"properties\": {\n        \"dtype\": \"number\",\n        \"std\": 0,\n        \"min\": 0,\n        \"max\": 2,\n        \"num_unique_values\": 3,\n        \"samples\": [\n          1,\n          0\n        ],\n        \"semantic_type\": \"\",\n        \"description\": \"\"\n      }\n    },\n    {\n      \"column\": \"BMI\",\n      \"properties\": {\n        \"dtype\": \"number\",\n        \"std\": 7.199758420819808,\n        \"min\": 15.0,\n        \"max\": 40.0,\n        \"num_unique_values\": 2501,\n        \"samples\": [\n          39.88,\n          39.08\n        ],\n        \"semantic_type\": \"\",\n        \"description\": \"\"\n      }\n    },\n    {\n      \"column\": \"Diabetes\",\n      \"properties\": {\n        \"dtype\": \"number\",\n        \"std\": 0,\n        \"min\": 0,\n        \"max\": 1,\n        \"num_unique_values\": 2,\n        \"samples\": [\n          1,\n          0\n        ],\n        \"semantic_type\": \"\",\n        \"description\": \"\"\n      }\n    },\n    {\n      \"column\": \"Hypertension\",\n      \"properties\": {\n        \"dtype\": \"number\",\n        \"std\": 0,\n        \"min\": 0,\n        \"max\": 1,\n        \"num_unique_values\": 2,\n        \"samples\": [\n          1,\n          0\n        ],\n        \"semantic_type\": \"\",\n        \"description\": \"\"\n      }\n    },\n    {\n      \"column\": \"Cholesterol_Level\",\n      \"properties\": {\n        \"dtype\": \"number\",\n        \"std\": 43.43557497922072,\n        \"min\": 150.0,\n        \"max\": 300.0,\n        \"num_unique_values\": 1501,\n        \"samples\": [\n          162.6,\n          232.3\n        ],\n        \"semantic_type\": \"\",\n        \"description\": \"\"\n      }\n    },\n    {\n      \"column\": \"Resting_BP\",\n      \"properties\": {\n        \"dtype\": \"number\",\n        \"std\": 25,\n        \"min\": 90,\n        \"max\": 179,\n        \"num_unique_values\": 90,\n        \"samples\": [\n          119,\n          98\n        ],\n        \"semantic_type\": \"\",\n        \"description\": \"\"\n      }\n    },\n    {\n      \"column\": \"Heart_Rate\",\n      \"properties\": {\n        \"dtype\": \"number\",\n        \"std\": 20,\n        \"min\": 60,\n        \"max\": 129,\n        \"num_unique_values\": 70,\n        \"samples\": [\n          87,\n          91\n        ],\n        \"semantic_type\": \"\",\n        \"description\": \"\"\n      }\n    },\n    {\n      \"column\": \"Family_History\",\n      \"properties\": {\n        \"dtype\": \"number\",\n        \"std\": 0,\n        \"min\": 0,\n        \"max\": 1,\n        \"num_unique_values\": 2,\n        \"samples\": [\n          1,\n          0\n        ],\n        \"semantic_type\": \"\",\n        \"description\": \"\"\n      }\n    },\n    {\n      \"column\": \"Stress_Level\",\n      \"properties\": {\n        \"dtype\": \"number\",\n        \"std\": 0,\n        \"min\": 0,\n        \"max\": 2,\n        \"num_unique_values\": 3,\n        \"samples\": [\n          2,\n          0\n        ],\n        \"semantic_type\": \"\",\n        \"description\": \"\"\n      }\n    },\n    {\n      \"column\": \"Chest_Pain_Type\",\n      \"properties\": {\n        \"dtype\": \"number\",\n        \"std\": 1,\n        \"min\": 0,\n        \"max\": 3,\n        \"num_unique_values\": 4,\n        \"samples\": [\n          0,\n          1\n        ],\n        \"semantic_type\": \"\",\n        \"description\": \"\"\n      }\n    },\n    {\n      \"column\": \"Thalassemia\",\n      \"properties\": {\n        \"dtype\": \"number\",\n        \"std\": 0,\n        \"min\": 0,\n        \"max\": 2,\n        \"num_unique_values\": 3,\n        \"samples\": [\n          2,\n          0\n        ],\n        \"semantic_type\": \"\",\n        \"description\": \"\"\n      }\n    },\n    {\n      \"column\": \"Fasting_Blood_Sugar\",\n      \"properties\": {\n        \"dtype\": \"number\",\n        \"std\": 0,\n        \"min\": 0,\n        \"max\": 1,\n        \"num_unique_values\": 2,\n        \"samples\": [\n          1,\n          0\n        ],\n        \"semantic_type\": \"\",\n        \"description\": \"\"\n      }\n    },\n    {\n      \"column\": \"ECG_Results\",\n      \"properties\": {\n        \"dtype\": \"number\",\n        \"std\": 0,\n        \"min\": 0,\n        \"max\": 2,\n        \"num_unique_values\": 3,\n        \"samples\": [\n          1,\n          0\n        ],\n        \"semantic_type\": \"\",\n        \"description\": \"\"\n      }\n    },\n    {\n      \"column\": \"Exercise_Induced_Angina\",\n      \"properties\": {\n        \"dtype\": \"number\",\n        \"std\": 0,\n        \"min\": 0,\n        \"max\": 1,\n        \"num_unique_values\": 2,\n        \"samples\": [\n          1,\n          0\n        ],\n        \"semantic_type\": \"\",\n        \"description\": \"\"\n      }\n    },\n    {\n      \"column\": \"Max_Heart_Rate_Achieved\",\n      \"properties\": {\n        \"dtype\": \"number\",\n        \"std\": 28,\n        \"min\": 100,\n        \"max\": 199,\n        \"num_unique_values\": 100,\n        \"samples\": [\n          104,\n          176\n        ],\n        \"semantic_type\": \"\",\n        \"description\": \"\"\n      }\n    },\n    {\n      \"column\": \"Heart_Attack_Risk\",\n      \"properties\": {\n        \"dtype\": \"number\",\n        \"std\": 0,\n        \"min\": 0,\n        \"max\": 2,\n        \"num_unique_values\": 3,\n        \"samples\": [\n          0,\n          1\n        ],\n        \"semantic_type\": \"\",\n        \"description\": \"\"\n      }\n    }\n  ]\n}"
            }
          },
          "metadata": {},
          "execution_count": 22
        }
      ]
    },
    {
      "cell_type": "markdown",
      "source": [
        "## DATA-SPLITTING"
      ],
      "metadata": {
        "id": "McuO0-iaG-MP"
      }
    },
    {
      "cell_type": "code",
      "source": [
        "\n",
        "\n",
        "\n",
        "from sklearn.model_selection import train_test_split\n",
        "from scipy.sparse import hstack\n",
        "from sklearn.metrics import accuracy_score,precision_score,recall_score\n",
        "import math\n",
        "from sklearn.metrics import confusion_matrix\n",
        "from sklearn.naive_bayes import MultinomialNB\n",
        "\n",
        "y = final_data[\"Heart_Attack_Risk\"]\n",
        "X = final_data[[\"Age\", \"Gender\", \"Smoking\", \"Alcohol_Consumption\", \"Physical_Activity_Level\", \"BMI\", \"Diabetes\", \"Hypertension\", \"Cholesterol_Level\", \"Resting_BP\", \"Heart_Rate\", \"Family_History\", \"Stress_Level\", \"Chest_Pain_Type\", \"Thalassemia\",\n",
        "                \"Fasting_Blood_Sugar\", \"ECG_Results\", \"Exercise_Induced_Angina\", \"Max_Heart_Rate_Achieved\", \"Heart_Attack_Risk\"]] # Use square brackets to select columns\n",
        "\n",
        "X_train,X_temp,y_train,y_temp = train_test_split(X, y, test_size = 0.4, stratify = y, random_state= 42)\n",
        "X_test,X_cv,y_test,y_cv = train_test_split(X_temp,y_temp, test_size = 0.5, stratify = y_temp, random_state = 42)\n",
        "\n",
        "print(\"Training Set Size : \", X_train.shape)\n",
        "print(\"Testing Set Size : \", X_test.shape)\n",
        "print(\"CV Set Size : \", X_cv.shape)"
      ],
      "metadata": {
        "colab": {
          "base_uri": "https://localhost:8080/"
        },
        "id": "ki9YfwqLG6bZ",
        "outputId": "44d73502-3875-4c42-e3bf-0c3fbed5af06"
      },
      "execution_count": null,
      "outputs": [
        {
          "output_type": "stream",
          "name": "stdout",
          "text": [
            "Training Set Size :  (21600, 20)\n",
            "Testing Set Size :  (7200, 20)\n",
            "CV Set Size :  (7200, 20)\n"
          ]
        }
      ]
    },
    {
      "cell_type": "markdown",
      "source": [
        "## KNN WITHOUT OPTIMAL-K"
      ],
      "metadata": {
        "id": "jbzIwRlrHHKG"
      }
    },
    {
      "cell_type": "code",
      "source": [
        "\n",
        "from sklearn.neighbors import KNeighborsClassifier\n",
        "from sklearn.metrics import accuracy_score,precision_score,recall_score\n",
        "from sklearn.preprocessing import LabelEncoder\n",
        "\n",
        "# Create a LabelEncoder object\n",
        "le = LabelEncoder()\n",
        "\n",
        "# Fit and transform the 'Gender' column in both training and testing sets\n",
        "X_train['Gender'] = le.fit_transform(X_train['Gender'])\n",
        "X_test['Gender'] = le.transform(X_test['Gender'])\n",
        "X_cv['Gender'] = le.transform(X_cv['Gender'])\n",
        "# ... (apply similar transformations to other categorical features if needed)\n",
        "#Fit the KNN Model\n",
        "knn=KNeighborsClassifier(n_neighbors=7)\n",
        "knn.fit(X_train,y_train)\n",
        "y_test_pred=knn.predict(X_test)\n",
        "y_cv_pred=knn.predict(X_cv)\n",
        "\n",
        "print(\"Test Accuracy is:\",accuracy_score(y_test,y_test_pred))\n",
        "print(\"Cv Accuracy is:\",accuracy_score(y_cv,y_cv_pred))"
      ],
      "metadata": {
        "colab": {
          "base_uri": "https://localhost:8080/"
        },
        "id": "yRPoesmfHC-2",
        "outputId": "85e17fa5-77e1-47af-c621-5c20e21ad5f9"
      },
      "execution_count": null,
      "outputs": [
        {
          "output_type": "stream",
          "name": "stdout",
          "text": [
            "Test Accuracy is: 0.38166666666666665\n",
            "Cv Accuracy is: 0.3863888888888889\n"
          ]
        }
      ]
    },
    {
      "cell_type": "markdown",
      "source": [
        "## FIND OPTIMAL-K"
      ],
      "metadata": {
        "id": "VAhSd54GJKdf"
      }
    },
    {
      "cell_type": "code",
      "source": [
        "import math\n",
        "\n",
        "k=list(range(1,50,2))\n",
        "\n",
        "train_accuracy=[]\n",
        "cv_accuracy=[]\n",
        "\n",
        "for i in k:\n",
        "  clf=KNeighborsClassifier(n_neighbors=i)\n",
        "  clf.fit(X_train,y_train)\n",
        "  y_train_pred=clf.predict(X_train)\n",
        "  y_cv_pred=clf.predict(X_cv)\n",
        "\n",
        "  train_accuracy.append(accuracy_score(y_train,y_train_pred))\n",
        "  cv_accuracy.append(accuracy_score(y_cv,y_cv_pred))\n",
        "\n",
        "optimal_k=k[cv_accuracy.index(max(cv_accuracy))]\n",
        "print(\"Optimal-k for knn is:\",optimal_k)\n",
        "\n",
        "log_k=[math.log(x) for x in k]\n",
        "\n",
        "plt.plot(log_k,train_accuracy,label=\"Train Accuracy\")\n",
        "plt.plot(log_k,cv_accuracy,label=\"CV Accuracy\")\n",
        "plt.title('Accuracy vs Hyperparameter (k)')\n",
        "plt.xlabel(\"log_k\")\n",
        "plt.ylabel(\"Accuracy\")\n",
        "plt.legend()"
      ],
      "metadata": {
        "colab": {
          "base_uri": "https://localhost:8080/",
          "height": 508
        },
        "id": "qLPixionI7BK",
        "outputId": "ea722460-1f1b-40a6-a014-8358f679c77b"
      },
      "execution_count": null,
      "outputs": [
        {
          "output_type": "stream",
          "name": "stdout",
          "text": [
            "Optimal-k for knn is: 1\n"
          ]
        },
        {
          "output_type": "execute_result",
          "data": {
            "text/plain": [
              "<matplotlib.legend.Legend at 0x7898c9b01c50>"
            ]
          },
          "metadata": {},
          "execution_count": 25
        },
        {
          "output_type": "display_data",
          "data": {
            "text/plain": [
              "<Figure size 640x480 with 1 Axes>"
            ],
            "image/png": "[encoded data removed]"
          },
          "metadata": {}
        }
      ]
    },
    {
      "cell_type": "markdown",
      "source": [
        "## KNN BY USING OPTIMAL-K"
      ],
      "metadata": {
        "id": "2aYkWJkBIK4k"
      }
    },
    {
      "cell_type": "code",
      "source": [
        "knn=KNeighborsClassifier(n_neighbors=optimal_k)\n",
        "knn.fit(X_train,y_train)\n",
        "y_test_pred=knn.predict(X_test)\n",
        "y_cv_pred=knn.predict(X_cv)\n",
        "\n",
        "y_test_accuracy=accuracy_score(y_test,y_test_pred)\n",
        "y_cv_accuracy=accuracy_score(y_cv,y_cv_pred)\n",
        "\n",
        "y_test_precision=precision_score(y_test,y_test_pred,average=\"macro\")\n",
        "y_cv_precision=precision_score(y_cv,y_cv_pred,average=\"macro\")\n",
        "\n",
        "y_test_recall=recall_score(y_test,y_test_pred,average=\"macro\")\n",
        "y_cv_recall=recall_score(y_cv,y_cv_pred,average=\"macro\")\n",
        "\n",
        "print(\"Acuuracy Score:\")\n",
        "print(f\"Test accuracy score is:{y_test_accuracy:.4f}\")\n",
        "print(f\"CV accuracy score is:{y_cv_accuracy:.4f}\")\n",
        "\n",
        "print(\"Precision Score:\")\n",
        "print(f\"Test Precision score is:{y_test_precision:.4f}\")\n",
        "print(f\"CV Precision score is:{y_cv_precision:.4f}\")\n",
        "\n",
        "print(\"Recall Score:\")\n",
        "print(f\"Test Recall score is:{y_test_recall:.4f}\")\n",
        "print(f\"CV Recall score is:{y_cv_recall:.4f}\")\n",
        "\n",
        "col=[\"Model\",\"Test Accuracy\",\"CV Accuracy\",\"Test Presision\",\"CV Precision\",\"Test Recall\",\"CV Recall\"]\n",
        "\n",
        "batch1=pd.DataFrame([[\"KNN\",y_test_accuracy,y_cv_accuracy,y_test_precision,y_cv_precision,y_test_recall,y_cv_recall]],columns=col)"
      ],
      "metadata": {
        "colab": {
          "base_uri": "https://localhost:8080/"
        },
        "id": "-AcvrOVbJk78",
        "outputId": "b2dbed10-587f-4519-c9d5-e6163b7f613a"
      },
      "execution_count": null,
      "outputs": [
        {
          "output_type": "stream",
          "name": "stdout",
          "text": [
            "Acuuracy Score:\n",
            "Test accuracy score is:0.4644\n",
            "CV accuracy score is:0.4592\n",
            "Precision Score:\n",
            "Test Precision score is:0.4569\n",
            "CV Precision score is:0.4503\n",
            "Recall Score:\n",
            "Test Recall score is:0.4644\n",
            "CV Recall score is:0.4592\n"
          ]
        }
      ]
    },
    {
      "cell_type": "markdown",
      "source": [
        "## CONFUSION MATRIX"
      ],
      "metadata": {
        "id": "A-6dCmaVJqZM"
      }
    },
    {
      "cell_type": "code",
      "source": [
        "import matplotlib.pyplot as plt\n",
        "import seaborn as sns\n",
        "\n",
        "from sklearn.metrics import confusion_matrix\n",
        "cm=confusion_matrix(y_test,y_test_pred)\n",
        "sns.heatmap(cm,annot=True,fmt=\"d\")\n",
        "plt.title(\"Confusion-Matrix\")\n",
        "plt.xlabel(\"Actual values\")\n",
        "plt.ylabel(\"predicted Values\")"
      ],
      "metadata": {
        "colab": {
          "base_uri": "https://localhost:8080/",
          "height": 490
        },
        "id": "tFOfN0HwJlwF",
        "outputId": "5c038a56-f0e4-4a40-f880-5a73c202d8bc"
      },
      "execution_count": null,
      "outputs": [
        {
          "output_type": "execute_result",
          "data": {
            "text/plain": [
              "Text(50.722222222222214, 0.5, 'predicted Values')"
            ]
          },
          "metadata": {},
          "execution_count": 27
        },
        {
          "output_type": "display_data",
          "data": {
            "text/plain": [
              "<Figure size 640x480 with 2 Axes>"
            ],
            "image/png": "[encoded data removed]"
          },
          "metadata": {}
        }
      ]
    },
    {
      "cell_type": "markdown",
      "source": [
        "## NAVIE BAYES WITHOUT OPTIMAL-K"
      ],
      "metadata": {
        "id": "r1fSzsAzJ32f"
      }
    },
    {
      "cell_type": "code",
      "source": [
        "from sklearn.naive_bayes import MultinomialNB\n",
        "nb=MultinomialNB()\n",
        "\n",
        "nb.fit(X_train,y_train)\n",
        "y_test_pred=nb.predict(X_test)\n",
        "y_cv_pred=nb.predict(X_cv)\n",
        "\n",
        "print(\"Test Accuracy score is:\",accuracy_score(y_test,y_test_pred))\n",
        "print(\"CV Accuracy score is:\",accuracy_score(y_cv,y_cv_pred))"
      ],
      "metadata": {
        "colab": {
          "base_uri": "https://localhost:8080/"
        },
        "id": "YwcBZ7WdJ80_",
        "outputId": "cd82c3de-a8e3-49e7-96cd-1a7843e772fc"
      },
      "execution_count": null,
      "outputs": [
        {
          "output_type": "stream",
          "name": "stdout",
          "text": [
            "Test Accuracy score is: 0.9533333333333334\n",
            "CV Accuracy score is: 0.9491666666666667\n"
          ]
        }
      ]
    },
    {
      "cell_type": "markdown",
      "source": [
        "## FIND OPTIMAL ALPHA"
      ],
      "metadata": {
        "id": "UQNjvNHwKBqE"
      }
    },
    {
      "cell_type": "code",
      "source": [
        "alpha=[10000,1000,100,10,1,0.1,0.01,0.0001,0.00001]\n",
        "\n",
        "train_accuracy=[]\n",
        "cv_accuracy=[]\n",
        "\n",
        "for i in alpha:\n",
        "  clf=MultinomialNB(alpha=i)\n",
        "  clf.fit(X_train,y_train)\n",
        "  y_train_pred=clf.predict(X_train)\n",
        "  y_cv_pred=clf.predict(X_cv)\n",
        "\n",
        "  train_accuracy.append(accuracy_score(y_train,y_train_pred))\n",
        "  cv_accuracy.append(accuracy_score(y_cv,y_cv_pred))\n",
        "\n",
        "optimal_alpha=alpha[cv_accuracy.index(max(cv_accuracy))]\n",
        "print(\"optimal_alpha is:\",optimal_alpha)\n",
        "\n",
        "log_alpha=[math.log(x) for x in alpha]\n",
        "plt.plot(log_alpha,train_accuracy,label=\"Train Accuracy\")\n",
        "plt.plot(log_alpha,cv_accuracy,label=\"CV Accuracy\")\n",
        "plt.title(\"Accuracy vs Hyperparameter(Alpha)\")\n",
        "plt.xlabel(\"log_alpha\")\n",
        "plt.ylabel(\"Accuracy\")"
      ],
      "metadata": {
        "colab": {
          "base_uri": "https://localhost:8080/",
          "height": 508
        },
        "id": "fkRoV6WVKERx",
        "outputId": "5f0f213a-5a92-42ad-a5b1-4b32abc882c7"
      },
      "execution_count": null,
      "outputs": [
        {
          "output_type": "stream",
          "name": "stdout",
          "text": [
            "optimal_alpha is: 10\n"
          ]
        },
        {
          "output_type": "execute_result",
          "data": {
            "text/plain": [
              "Text(0, 0.5, 'Accuracy')"
            ]
          },
          "metadata": {},
          "execution_count": 29
        },
        {
          "output_type": "display_data",
          "data": {
            "text/plain": [
              "<Figure size 640x480 with 1 Axes>"
            ],
            "image/png": "[encoded data removed]"
          },
          "metadata": {}
        }
      ]
    },
    {
      "cell_type": "markdown",
      "source": [
        "## NAVIE BAYES BY USING HYPERPARAMETER ALPHA"
      ],
      "metadata": {
        "id": "ubxiKYlsKH7_"
      }
    },
    {
      "cell_type": "code",
      "source": [
        "from sklearn.naive_bayes import MultinomialNB\n",
        "nb=MultinomialNB(alpha=optimal_alpha)\n",
        "\n",
        "nb.fit(X_train,y_train)\n",
        "y_test_pred=nb.predict(X_test)\n",
        "y_cv_pred=nb.predict(X_cv)\n",
        "\n",
        "y_test_accuracy=accuracy_score(y_test,y_test_pred)\n",
        "y_cv_accuracy=accuracy_score(y_cv,y_cv_pred)\n",
        "\n",
        "y_test_precision=precision_score(y_test,y_test_pred,average=\"micro\")\n",
        "y_cv_precision=precision_score(y_cv,y_cv_pred,average=\"micro\")\n",
        "\n",
        "y_test_recall=recall_score(y_test,y_test_pred,average=\"micro\")\n",
        "y_cv_recall=recall_score(y_cv,y_cv_pred,average=\"micro\")\n",
        "\n",
        "\n",
        "print(\"Acuuracy Score:\")\n",
        "print(f\"Test accuracy score is:{y_test_accuracy:.4f}\")\n",
        "print(f\"CV accuracy score is:{y_cv_accuracy:.4f}\")\n",
        "\n",
        "print(\"Precision Score:\")\n",
        "print(f\"Test Precision score is:{y_test_precision:.4f}\")\n",
        "print(f\"CV Precision score is:{y_cv_precision:.4f}\")\n",
        "\n",
        "print(\"Recall Score:\")\n",
        "print(f\"Test Recall score is:{y_test_recall:.4f}\")\n",
        "print(f\"CV Recall score is:{y_cv_recall:.4f}\")\n",
        "\n",
        "batch2=pd.DataFrame([[\"Naive Bayes\",y_test_accuracy,y_cv_accuracy,y_test_precision,y_cv_precision,y_test_recall,y_cv_recall]],columns=col)"
      ],
      "metadata": {
        "colab": {
          "base_uri": "https://localhost:8080/"
        },
        "id": "-KzbnzRFKQvf",
        "outputId": "473d6c2d-25a2-4afa-8536-5451273086db"
      },
      "execution_count": null,
      "outputs": [
        {
          "output_type": "stream",
          "name": "stdout",
          "text": [
            "Acuuracy Score:\n",
            "Test accuracy score is:0.9536\n",
            "CV accuracy score is:0.9493\n",
            "Precision Score:\n",
            "Test Precision score is:0.9536\n",
            "CV Precision score is:0.9493\n",
            "Recall Score:\n",
            "Test Recall score is:0.9536\n",
            "CV Recall score is:0.9493\n"
          ]
        }
      ]
    },
    {
      "cell_type": "code",
      "source": [
        "import matplotlib.pyplot as plt\n",
        "import seaborn as sns\n",
        "\n",
        "from sklearn.metrics import confusion_matrix\n",
        "cm=confusion_matrix(y_test,y_test_pred)\n",
        "sns.heatmap(cm,annot=True,fmt=\"d\")\n",
        "plt.title(\"Confusion-Matrix\")\n",
        "plt.xlabel(\"Actual values\")\n",
        "plt.ylabel(\"predicted Values\")"
      ],
      "metadata": {
        "colab": {
          "base_uri": "https://localhost:8080/",
          "height": 490
        },
        "id": "R0b445UXKT2k",
        "outputId": "dc0b4fa9-82fa-468b-c797-3fecda12f0cc"
      },
      "execution_count": null,
      "outputs": [
        {
          "output_type": "execute_result",
          "data": {
            "text/plain": [
              "Text(50.722222222222214, 0.5, 'predicted Values')"
            ]
          },
          "metadata": {},
          "execution_count": 31
        },
        {
          "output_type": "display_data",
          "data": {
            "text/plain": [
              "<Figure size 640x480 with 2 Axes>"
            ],
            "image/png": "[encoded data removed]"
          },
          "metadata": {}
        }
      ]
    },
    {
      "cell_type": "markdown",
      "source": [
        "## LOSS(L1)\n",
        "## LOGISTIC REGRESSION WITHOUT HYPERPARAMETER TUNING"
      ],
      "metadata": {
        "id": "9iSblYsuKz5H"
      }
    },
    {
      "cell_type": "code",
      "source": [
        "from sklearn.linear_model import LogisticRegression\n",
        "\n",
        "lor=LogisticRegression(penalty=\"l1\",solver=\"liblinear\")\n",
        "\n",
        "lor.fit(X_train,y_train)\n",
        "y_test_pred=lor.predict(X_test)\n",
        "y_cv_pred=lor.predict(X_cv)\n",
        "\n",
        "print(\"Test accuracy is:\",accuracy_score(y_test,y_test_pred))\n",
        "print(\"CV accuracy is:\",accuracy_score(y_cv,y_cv_pred))"
      ],
      "metadata": {
        "colab": {
          "base_uri": "https://localhost:8080/"
        },
        "id": "22canJS2KvVy",
        "outputId": "37715296-c590-49ed-cf94-3ed93dbb5f7e"
      },
      "execution_count": null,
      "outputs": [
        {
          "output_type": "stream",
          "name": "stdout",
          "text": [
            "Test accuracy is: 1.0\n",
            "CV accuracy is: 1.0\n"
          ]
        }
      ]
    },
    {
      "cell_type": "markdown",
      "source": [
        "## HYPERPARAMETER TUNING TO FIND OPTIMAL-C"
      ],
      "metadata": {
        "id": "O2rmC_RsLGTu"
      }
    },
    {
      "cell_type": "code",
      "source": [
        "C=[10000,1000,100,10,1,0.1,0.01,0.0001,0.00001]\n",
        "\n",
        "train_accuracy=[]\n",
        "cv_accuracy=[]\n",
        "\n",
        "for i in C:\n",
        "  clf=LogisticRegression(C=i,penalty=\"l1\",solver=\"liblinear\")\n",
        "  clf.fit(X_train,y_train)\n",
        "  y_train_pred=clf.predict(X_train)\n",
        "  y_cv_pred=clf.predict(X_cv)\n",
        "\n",
        "  train_accuracy.append(accuracy_score(y_train,y_train_pred))\n",
        "  cv_accuracy.append(accuracy_score(y_cv,y_cv_pred))\n",
        "\n",
        "optimal_C=C[cv_accuracy.index(max(cv_accuracy))]\n",
        "\n",
        "print(\"optimal_c is:\",optimal_C)\n",
        "\n",
        "log_C=[math.log(x) for x in C]\n",
        "plt.plot(log_C,train_accuracy,label=\"Train accuracy\")\n",
        "plt.plot(log_C,cv_accuracy,label=\"CV accuracy\")\n",
        "plt.title(\"Accuracy vs Hyperparameter(C)\")\n",
        "plt.xlabel(\"log_C\")\n",
        "plt.plot(\"Accuracy\")\n",
        "plt.legend()"
      ],
      "metadata": {
        "colab": {
          "base_uri": "https://localhost:8080/",
          "height": 508
        },
        "id": "KzXwh0n3LECv",
        "outputId": "5a8f50e7-0cc8-4f70-faac-b691fd8dc8f9"
      },
      "execution_count": null,
      "outputs": [
        {
          "output_type": "stream",
          "name": "stdout",
          "text": [
            "optimal_c is: 10000\n"
          ]
        },
        {
          "output_type": "execute_result",
          "data": {
            "text/plain": [
              "<matplotlib.legend.Legend at 0x7898c4604ed0>"
            ]
          },
          "metadata": {},
          "execution_count": 33
        },
        {
          "output_type": "display_data",
          "data": {
            "text/plain": [
              "<Figure size 640x480 with 1 Axes>"
            ],
            "image/png": "[encoded data removed]"
          },
          "metadata": {}
        }
      ]
    },
    {
      "cell_type": "markdown",
      "source": [
        "## LOGISTIC REGRESSION BY USING USING HYPERPARAMETER TUNING"
      ],
      "metadata": {
        "id": "uJMyoouOLVVP"
      }
    },
    {
      "cell_type": "code",
      "source": [
        "from sklearn.linear_model import LogisticRegression\n",
        "\n",
        "lor=LogisticRegression(C=optimal_C,penalty=\"l1\",solver=\"liblinear\")\n",
        "\n",
        "lor.fit(X_train,y_train)\n",
        "y_test_pred=lor.predict(X_test)\n",
        "y_cv_pred=lor.predict(X_cv)\n",
        "\n",
        "y_test_accuracy=accuracy_score(y_test,y_test_pred)\n",
        "y_cv_accuracy=accuracy_score(y_cv,y_cv_pred)\n",
        "\n",
        "y_test_precision=precision_score(y_test,y_test_pred,average=\"macro\")\n",
        "y_cv_precision=precision_score(y_cv,y_cv_pred,average=\"macro\")\n",
        "\n",
        "y_test_recall=recall_score(y_test,y_test_pred,average=\"macro\")\n",
        "y_cv_recall=recall_score(y_cv,y_cv_pred,average=\"macro\")\n",
        "\n",
        "print(\"Acuuracy Score:\")\n",
        "print(f\"Test accuracy score is:{y_test_accuracy:.4f}\")\n",
        "print(f\"CV accuracy score is:{y_cv_accuracy:.4f}\")\n",
        "\n",
        "print(\"Precision Score:\")\n",
        "print(f\"Test Precision score is:{y_test_precision:.4f}\")\n",
        "print(f\"CV Precision score is:{y_cv_precision:.4f}\")\n",
        "\n",
        "print(\"Recall Score:\")\n",
        "print(f\"Test Recall score is:{y_test_recall:.4f}\")\n",
        "print(f\"CV Recall score is:{y_cv_recall:.4f}\")\n",
        "\n",
        "batch3=pd.DataFrame([[\"Logistic Regression-L1\",y_test_accuracy,y_cv_accuracy,y_test_precision,y_cv_precision,y_test_recall,y_cv_recall]],columns=col)"
      ],
      "metadata": {
        "colab": {
          "base_uri": "https://localhost:8080/"
        },
        "id": "l5V2gn-sLQ8p",
        "outputId": "0ebd669e-d4ae-4929-f976-a52f907e5c8e"
      },
      "execution_count": null,
      "outputs": [
        {
          "output_type": "stream",
          "name": "stdout",
          "text": [
            "Acuuracy Score:\n",
            "Test accuracy score is:1.0000\n",
            "CV accuracy score is:1.0000\n",
            "Precision Score:\n",
            "Test Precision score is:1.0000\n",
            "CV Precision score is:1.0000\n",
            "Recall Score:\n",
            "Test Recall score is:1.0000\n",
            "CV Recall score is:1.0000\n"
          ]
        }
      ]
    },
    {
      "cell_type": "markdown",
      "source": [
        "## CONFUSION MATRIX FOR(L1)"
      ],
      "metadata": {
        "id": "77oAx97dLib2"
      }
    },
    {
      "cell_type": "code",
      "source": [
        "import matplotlib.pyplot as plt\n",
        "import seaborn as sns\n",
        "\n",
        "from sklearn.metrics import confusion_matrix\n",
        "cm=confusion_matrix(y_test,y_test_pred)\n",
        "sns.heatmap(cm,annot=True,fmt=\"d\")\n",
        "plt.title(\"Confusion-Matrix\")\n",
        "plt.xlabel(\"Actual values\")\n",
        "plt.ylabel(\"predicted Values\")"
      ],
      "metadata": {
        "colab": {
          "base_uri": "https://localhost:8080/",
          "height": 490
        },
        "id": "PsEmPtb2Llza",
        "outputId": "232e177b-65a7-4535-ab65-cc4795f4a6e2"
      },
      "execution_count": null,
      "outputs": [
        {
          "output_type": "execute_result",
          "data": {
            "text/plain": [
              "Text(50.722222222222214, 0.5, 'predicted Values')"
            ]
          },
          "metadata": {},
          "execution_count": 35
        },
        {
          "output_type": "display_data",
          "data": {
            "text/plain": [
              "<Figure size 640x480 with 2 Axes>"
            ],
            "image/png": "[encoded data removed]"
          },
          "metadata": {}
        }
      ]
    },
    {
      "cell_type": "markdown",
      "source": [
        "## LOGISTIC REGRESSION WITHOUT HYPERPARAMETER TUNING(L2)"
      ],
      "metadata": {
        "id": "zc2gyok4Lv-x"
      }
    },
    {
      "cell_type": "code",
      "source": [
        "from sklearn.linear_model import LogisticRegression\n",
        "\n",
        "lor=LogisticRegression(max_iter=500,solver=\"saga\")\n",
        "\n",
        "lor.fit(X_train,y_train)\n",
        "y_test_pred=lor.predict(X_test)\n",
        "y_cv_pred=lor.predict(X_cv)\n",
        "\n",
        "print(\"Test accuracy is:\",accuracy_score(y_test,y_test_pred))\n",
        "print(\"CV accuracy is:\",accuracy_score(y_cv,y_cv_pred))"
      ],
      "metadata": {
        "colab": {
          "base_uri": "https://localhost:8080/"
        },
        "id": "985Zg6QXLsRX",
        "outputId": "b8ee5da8-413e-40c1-b941-5f6c1c528ae8"
      },
      "execution_count": null,
      "outputs": [
        {
          "output_type": "stream",
          "name": "stdout",
          "text": [
            "Test accuracy is: 1.0\n",
            "CV accuracy is: 1.0\n"
          ]
        },
        {
          "output_type": "stream",
          "name": "stderr",
          "text": [
            "/usr/local/lib/python3.11/dist-packages/sklearn/linear_model/_sag.py:348: ConvergenceWarning: The max_iter was reached which means the coef_ did not converge\n",
            "  warnings.warn(\n"
          ]
        }
      ]
    },
    {
      "cell_type": "markdown",
      "source": [
        "## HYPERPARAMETER TUNING TO FIND OPTIMAL-C"
      ],
      "metadata": {
        "id": "vJBk-w3kMAt0"
      }
    },
    {
      "cell_type": "code",
      "source": [
        "import warnings\n",
        "\n",
        "# Suppress specific warnings\n",
        "warnings.filterwarnings(\"ignore\", category=UserWarning)\n",
        "\n",
        "# Suppress all warnings (not recommended)\n",
        "warnings.filterwarnings(\"ignore\")\n",
        "\n",
        "C=[10000,1000,100,10,1,0.1,0.01,0.0001,0.00001]\n",
        "\n",
        "train_accuracy=[]\n",
        "cv_accuracy=[]\n",
        "\n",
        "for i in C:\n",
        "  clf=LogisticRegression(C=i,max_iter=1000,solver=\"saga\",penalty=\"elasticnet\",l1_ratio=0.5)\n",
        "  clf.fit(X_train,y_train)\n",
        "  y_train_pred=clf.predict(X_train)\n",
        "  y_cv_pred=clf.predict(X_cv)\n",
        "\n",
        "  train_accuracy.append(accuracy_score(y_train,y_train_pred))\n",
        "  cv_accuracy.append(accuracy_score(y_cv,y_cv_pred))\n",
        "\n",
        "optimal_C=C[cv_accuracy.index(max(cv_accuracy))]\n",
        "\n",
        "print(\"optimal_c is:\",optimal_C)\n",
        "\n",
        "log_C=[math.log(x) for x in C]\n",
        "plt.plot(log_C,train_accuracy,label=\"Train accuracy\")\n",
        "plt.plot(log_C,cv_accuracy,label=\"CV accuracy\")\n",
        "plt.title(\"Accuracy vs Hyperparameter(C)\")\n",
        "plt.xlabel(\"log_C\")\n",
        "plt.plot(\"Accuracy\")\n",
        "plt.legend()\n"
      ],
      "metadata": {
        "colab": {
          "base_uri": "https://localhost:8080/",
          "height": 508
        },
        "id": "PJV6ZSMgL9hJ",
        "outputId": "9595e909-0c1f-4c06-8327-ad0c32f7aba7"
      },
      "execution_count": null,
      "outputs": [
        {
          "output_type": "stream",
          "name": "stdout",
          "text": [
            "optimal_c is: 10000\n"
          ]
        },
        {
          "output_type": "execute_result",
          "data": {
            "text/plain": [
              "<matplotlib.legend.Legend at 0x7898c4711c50>"
            ]
          },
          "metadata": {},
          "execution_count": 37
        },
        {
          "output_type": "display_data",
          "data": {
            "text/plain": [
              "<Figure size 640x480 with 1 Axes>"
            ],
            "image/png": "[encoded data removed]"
          },
          "metadata": {}
        }
      ]
    },
    {
      "cell_type": "markdown",
      "source": [
        "## LOGISTIC REGRESSION BY USING HYPERPARAMETER OPTIMAL-C"
      ],
      "metadata": {
        "id": "d6x-4AXfMQ4e"
      }
    },
    {
      "cell_type": "code",
      "source": [
        "from sklearn.linear_model import LogisticRegression\n",
        "\n",
        "lor=LogisticRegression(C=optimal_C,solver=\"saga\",max_iter=500)\n",
        "\n",
        "lor.fit(X_train,y_train)\n",
        "y_test_pred=lor.predict(X_test)\n",
        "y_cv_pred=lor.predict(X_cv)\n",
        "\n",
        "y_test_accuracy=accuracy_score(y_test,y_test_pred)\n",
        "y_cv_accuracy=accuracy_score(y_cv,y_cv_pred)\n",
        "\n",
        "y_test_precision=precision_score(y_test,y_test_pred,average=\"macro\")\n",
        "y_cv_precision=precision_score(y_cv,y_cv_pred,average=\"macro\")\n",
        "\n",
        "y_test_recall=recall_score(y_test,y_test_pred,average=\"macro\")\n",
        "y_cv_recall=recall_score(y_cv,y_cv_pred,average=\"macro\")\n",
        "\n",
        "print(\"Acuuracy Score:\")\n",
        "print(f\"Test accuracy score is:{y_test_accuracy:.4f}\")\n",
        "print(f\"CV accuracy score is:{y_cv_accuracy:.4f}\")\n",
        "\n",
        "print(\"Precision Score:\")\n",
        "print(f\"Test Precision score is:{y_test_precision:.4f}\")\n",
        "print(f\"CV Precision score is:{y_cv_precision:.4f}\")\n",
        "\n",
        "print(\"Recall Score:\")\n",
        "print(f\"Test Recall score is:{y_test_recall:.4f}\")\n",
        "print(f\"CV Recall score is:{y_cv_recall:.4f}\")\n",
        "\n",
        "batch4=pd.DataFrame([[\"Logistic Regression-L2\",y_test_accuracy,y_cv_accuracy,y_test_precision,y_cv_precision,y_test_recall,y_cv_recall]],columns=col)"
      ],
      "metadata": {
        "colab": {
          "base_uri": "https://localhost:8080/"
        },
        "id": "lOZOEtYRMaE1",
        "outputId": "f30490c6-57d1-4134-a06b-69d2aaf30005"
      },
      "execution_count": null,
      "outputs": [
        {
          "output_type": "stream",
          "name": "stdout",
          "text": [
            "Acuuracy Score:\n",
            "Test accuracy score is:1.0000\n",
            "CV accuracy score is:1.0000\n",
            "Precision Score:\n",
            "Test Precision score is:1.0000\n",
            "CV Precision score is:1.0000\n",
            "Recall Score:\n",
            "Test Recall score is:1.0000\n",
            "CV Recall score is:1.0000\n"
          ]
        }
      ]
    },
    {
      "cell_type": "markdown",
      "source": [
        "## ELASTICNET(L1 & L2)\n",
        "## CONFUSION MATRIX"
      ],
      "metadata": {
        "id": "wR14clFLMc6i"
      }
    },
    {
      "cell_type": "code",
      "source": [
        "import matplotlib.pyplot as plt\n",
        "import seaborn as sns\n",
        "\n",
        "from sklearn.metrics import confusion_matrix\n",
        "cm=confusion_matrix(y_test,y_test_pred)\n",
        "sns.heatmap(cm,annot=True,fmt=\"d\")\n",
        "plt.title(\"Confusion-Matrix\")\n",
        "plt.xlabel(\"Actual values\")\n",
        "plt.ylabel(\"predicted Values\")"
      ],
      "metadata": {
        "colab": {
          "base_uri": "https://localhost:8080/",
          "height": 490
        },
        "id": "lNacG9l5MlDd",
        "outputId": "a7270006-f67e-41b3-dd74-81b44071a36c"
      },
      "execution_count": null,
      "outputs": [
        {
          "output_type": "execute_result",
          "data": {
            "text/plain": [
              "Text(50.722222222222214, 0.5, 'predicted Values')"
            ]
          },
          "metadata": {},
          "execution_count": 39
        },
        {
          "output_type": "display_data",
          "data": {
            "text/plain": [
              "<Figure size 640x480 with 2 Axes>"
            ],
            "image/png": "[encoded data removed]"
          },
          "metadata": {}
        }
      ]
    },
    {
      "cell_type": "markdown",
      "source": [
        "## ELASTICNET(L1 & L2)"
      ],
      "metadata": {
        "id": "W3cZ_Gs_NwdL"
      }
    },
    {
      "cell_type": "code",
      "source": [
        "from sklearn.linear_model import LogisticRegression\n",
        "\n",
        "lor=LogisticRegression(max_iter=500,solver=\"saga\",penalty=\"elasticnet\",l1_ratio=0.5)\n",
        "\n",
        "lor.fit(X_train,y_train)\n",
        "y_test_pred=lor.predict(X_test)\n",
        "y_cv_pred=lor.predict(X_cv)\n",
        "\n",
        "print(\"Test accuracy is:\",accuracy_score(y_test,y_test_pred))\n",
        "print(\"CV accuracy is:\",accuracy_score(y_cv,y_cv_pred))"
      ],
      "metadata": {
        "colab": {
          "base_uri": "https://localhost:8080/"
        },
        "id": "TjHScBD-Mowz",
        "outputId": "b1646a75-f8eb-4901-ef0b-d0eb87f5a917"
      },
      "execution_count": null,
      "outputs": [
        {
          "output_type": "stream",
          "name": "stdout",
          "text": [
            "Test accuracy is: 1.0\n",
            "CV accuracy is: 1.0\n"
          ]
        }
      ]
    },
    {
      "cell_type": "markdown",
      "source": [
        "## HYPERPARAMETER TUNING TO FIND OPTIMAL-C"
      ],
      "metadata": {
        "id": "6Zr_8_R_Mq-j"
      }
    },
    {
      "cell_type": "code",
      "source": [
        "C=[10000,1000,100,10,1,0.1,0.01,0.0001,0.00001]\n",
        "\n",
        "train_accuracy=[]\n",
        "cv_accuracy=[]\n",
        "\n",
        "for i in C:\n",
        "  clf=LogisticRegression(C=i,max_iter=1000,solver=\"saga\",penalty=\"elasticnet\",l1_ratio=0.5)\n",
        "  clf.fit(X_train,y_train)\n",
        "  y_train_pred=clf.predict(X_train)\n",
        "  y_cv_pred=clf.predict(X_cv)\n",
        "\n",
        "  train_accuracy.append(accuracy_score(y_train,y_train_pred))\n",
        "  cv_accuracy.append(accuracy_score(y_cv,y_cv_pred))\n",
        "\n",
        "optimal_C=C[cv_accuracy.index(max(cv_accuracy))]\n",
        "\n",
        "print(\"optimal_c is:\",optimal_C)\n",
        "\n",
        "log_C=[math.log(x) for x in C]\n",
        "plt.plot(log_C,train_accuracy,label=\"Train accuracy\")\n",
        "plt.plot(log_C,cv_accuracy,label=\"CV accuracy\")\n",
        "plt.title(\"Accuracy vs Hyperparameter(C)\")\n",
        "plt.xlabel(\"log_C\")\n",
        "plt.plot(\"Accuracy\")\n",
        "plt.legend()"
      ],
      "metadata": {
        "colab": {
          "base_uri": "https://localhost:8080/",
          "height": 508
        },
        "id": "8knC_uxXMx1n",
        "outputId": "84f238c2-93a0-4821-a1a2-9de2d09e1ee0"
      },
      "execution_count": null,
      "outputs": [
        {
          "output_type": "stream",
          "name": "stdout",
          "text": [
            "optimal_c is: 10000\n"
          ]
        },
        {
          "output_type": "execute_result",
          "data": {
            "text/plain": [
              "<matplotlib.legend.Legend at 0x7898c46c9c50>"
            ]
          },
          "metadata": {},
          "execution_count": 41
        },
        {
          "output_type": "display_data",
          "data": {
            "text/plain": [
              "<Figure size 640x480 with 1 Axes>"
            ],
            "image/png": "[encoded data removed]"
          },
          "metadata": {}
        }
      ]
    },
    {
      "cell_type": "markdown",
      "source": [
        "## LOGISTIC REGRESSION BY USING HYPERPARAMETER TUNING OPTIMAL-C"
      ],
      "metadata": {
        "id": "YlrTOYbKM3el"
      }
    },
    {
      "cell_type": "code",
      "source": [
        "from sklearn.linear_model import LogisticRegression\n",
        "\n",
        "lor=LogisticRegression(C=optimal_C,solver=\"saga\",max_iter=500,penalty=\"elasticnet\",l1_ratio=0.5)\n",
        "\n",
        "lor.fit(X_train,y_train)\n",
        "y_test_pred=lor.predict(X_test)\n",
        "y_cv_pred=lor.predict(X_cv)\n",
        "\n",
        "y_test_accuracy=accuracy_score(y_test,y_test_pred)\n",
        "y_cv_accuracy=accuracy_score(y_cv,y_cv_pred)\n",
        "\n",
        "y_test_precision=precision_score(y_test,y_test_pred,average=\"macro\")\n",
        "y_cv_precision=precision_score(y_cv,y_cv_pred,average=\"macro\")\n",
        "\n",
        "y_test_recall=recall_score(y_test,y_test_pred,average=\"macro\")\n",
        "y_cv_recall=recall_score(y_cv,y_cv_pred,average=\"macro\")\n",
        "\n",
        "print(\"Acuuracy Score:\")\n",
        "print(f\"Test accuracy score is:{y_test_accuracy:.4f}\")\n",
        "print(f\"CV accuracy score is:{y_cv_accuracy:.4f}\")\n",
        "\n",
        "print(\"Precision Score:\")\n",
        "print(f\"Test Precision score is:{y_test_precision:.4f}\")\n",
        "print(f\"CV Precision score is:{y_cv_precision:.4f}\")\n",
        "\n",
        "print(\"Recall Score:\")\n",
        "print(f\"Test Recall score is:{y_test_recall:.4f}\")\n",
        "print(f\"CV Recall score is:{y_cv_recall:.4f}\")\n",
        "\n",
        "batch5=pd.DataFrame([[\"Logistic Regression-L1&l2\",y_test_accuracy,y_cv_accuracy,y_test_precision,y_cv_precision,y_test_recall,y_cv_recall]],columns=col)"
      ],
      "metadata": {
        "colab": {
          "base_uri": "https://localhost:8080/"
        },
        "id": "KaEvLjwKM__D",
        "outputId": "c36306d4-2648-420c-d27f-6865031211bd"
      },
      "execution_count": null,
      "outputs": [
        {
          "output_type": "stream",
          "name": "stdout",
          "text": [
            "Acuuracy Score:\n",
            "Test accuracy score is:1.0000\n",
            "CV accuracy score is:1.0000\n",
            "Precision Score:\n",
            "Test Precision score is:1.0000\n",
            "CV Precision score is:1.0000\n",
            "Recall Score:\n",
            "Test Recall score is:1.0000\n",
            "CV Recall score is:1.0000\n"
          ]
        }
      ]
    },
    {
      "cell_type": "markdown",
      "source": [
        "## CONFUSION MATRIX"
      ],
      "metadata": {
        "id": "vx6KeTrSNEQT"
      }
    },
    {
      "cell_type": "code",
      "source": [
        "import matplotlib.pyplot as plt\n",
        "import seaborn as sns\n",
        "\n",
        "from sklearn.metrics import confusion_matrix\n",
        "cm=confusion_matrix(y_test,y_test_pred)\n",
        "sns.heatmap(cm,annot=True,fmt=\"d\")\n",
        "plt.title(\"Confusion-Matrix\")\n",
        "plt.xlabel(\"Actual values\")\n",
        "plt.ylabel(\"predicted Values\")"
      ],
      "metadata": {
        "colab": {
          "base_uri": "https://localhost:8080/",
          "height": 490
        },
        "id": "Rc4BrkLyNGPH",
        "outputId": "9f3c1599-ecd9-4056-8fde-de43112e7cf5"
      },
      "execution_count": null,
      "outputs": [
        {
          "output_type": "execute_result",
          "data": {
            "text/plain": [
              "Text(50.722222222222214, 0.5, 'predicted Values')"
            ]
          },
          "metadata": {},
          "execution_count": 43
        },
        {
          "output_type": "display_data",
          "data": {
            "text/plain": [
              "<Figure size 640x480 with 2 Axes>"
            ],
            "image/png": "[encoded data removed]"
          },
          "metadata": {}
        }
      ]
    },
    {
      "cell_type": "markdown",
      "source": [
        "## Linear SVM by using Optimal-C"
      ],
      "metadata": {
        "id": "tu5oUYFIpJDB"
      }
    },
    {
      "cell_type": "code",
      "source": [
        "from sklearn.svm import LinearSVC\n",
        "\n",
        "linear_svc=LinearSVC(C=optimal_C,random_state=40)\n",
        "\n",
        "linear_svc.fit(X_train,y_train)\n",
        "y_test_pred=linear_svc.predict(X_test)\n",
        "y_cv_pred=linear_svc.predict(X_cv)\n",
        "\n",
        "y_test_accuracy=accuracy_score(y_test,y_test_pred)\n",
        "y_cv_accuracy=accuracy_score(y_cv,y_cv_pred)\n",
        "\n",
        "y_test_precision=precision_score(y_test,y_test_pred,average=\"macro\")\n",
        "y_cv_precision=precision_score(y_cv,y_cv_pred,average=\"macro\")\n",
        "\n",
        "y_test_recall=recall_score(y_test,y_test_pred,average=\"macro\")\n",
        "y_cv_recall=recall_score(y_cv,y_cv_pred,average=\"macro\")\n",
        "\n",
        "print(\"Acuuracy Score:\")\n",
        "print(f\"Test accuracy score is:{y_test_accuracy:.4f}\")\n",
        "print(f\"CV accuracy score is:{y_cv_accuracy:.4f}\")\n",
        "\n",
        "print(\"Precision Score:\")\n",
        "print(f\"Test Precision score is:{y_test_precision:.4f}\")\n",
        "print(f\"CV Precision score is:{y_cv_precision:.4f}\")\n",
        "\n",
        "print(\"Recall Score:\")\n",
        "print(f\"Test Recall score is:{y_test_recall:.4f}\")\n",
        "print(f\"CV Recall score is:{y_cv_recall:.4f}\")\n",
        "\n",
        "batch6=pd.DataFrame([[\"Linear SVM (kernal=Linear)\",y_test_accuracy,y_cv_accuracy,y_test_precision,y_cv_precision,y_test_recall,y_cv_recall]],columns=col)"
      ],
      "metadata": {
        "colab": {
          "base_uri": "https://localhost:8080/"
        },
        "id": "HCZ5sIzjpG01",
        "outputId": "cf650f4d-649e-4b70-eb98-cb8713a948aa"
      },
      "execution_count": null,
      "outputs": [
        {
          "output_type": "stream",
          "name": "stdout",
          "text": [
            "Acuuracy Score:\n",
            "Test accuracy score is:1.0000\n",
            "CV accuracy score is:1.0000\n",
            "Precision Score:\n",
            "Test Precision score is:1.0000\n",
            "CV Precision score is:1.0000\n",
            "Recall Score:\n",
            "Test Recall score is:1.0000\n",
            "CV Recall score is:1.0000\n"
          ]
        }
      ]
    },
    {
      "cell_type": "markdown",
      "source": [
        "## Kernal = RBF\n",
        "## Linear SVM without Hyperparameter Tuning"
      ],
      "metadata": {
        "id": "vDfTd2oVpgHL"
      }
    },
    {
      "cell_type": "code",
      "source": [
        "from sklearn.svm import SVC\n",
        "\n",
        "linear_svc=SVC(kernel=\"rbf\",random_state=42)\n",
        "\n",
        "linear_svc.fit(X_train,y_train)\n",
        "y_test_pred=linear_svc.predict(X_test)\n",
        "y_cv_pred=linear_svc.predict(X_cv)\n",
        "\n",
        "print(\"Accuracy Score is:\",accuracy_score(y_test,y_test_pred))\n",
        "print(\"CV score is:\",accuracy_score(y_cv,y_cv_pred))"
      ],
      "metadata": {
        "colab": {
          "base_uri": "https://localhost:8080/"
        },
        "id": "gxNTYFy1pYj5",
        "outputId": "ebcc1f76-889b-40cf-92d6-a61dfc595684"
      },
      "execution_count": null,
      "outputs": [
        {
          "output_type": "stream",
          "name": "stdout",
          "text": [
            "Accuracy Score is: 0.42388888888888887\n",
            "CV score is: 0.41986111111111113\n"
          ]
        }
      ]
    },
    {
      "cell_type": "markdown",
      "source": [
        "## Hyperparameter Tuning to find Optimal-C"
      ],
      "metadata": {
        "id": "sE3iA0aOp169"
      }
    },
    {
      "cell_type": "code",
      "source": [
        "C=[10000,1000,100,10,1,0.1,0.001,0.0001,0.00001]\n",
        "\n",
        "train_accuracy=[]\n",
        "cv_accuracy=[]\n",
        "\n",
        "for i in C:\n",
        "  clf=SVC(kernel=\"rbf\",random_state=42)\n",
        "  clf.fit(X_train,y_train)\n",
        "  y_train_pred=clf.predict(X_train)\n",
        "  y_cv_pred=clf.predict(X_cv)\n",
        "\n",
        "  train_accuracy.append(accuracy_score(y_train,y_train_pred))\n",
        "  cv_accuracy.append(accuracy_score(y_cv,y_cv_pred))\n",
        "\n",
        "optimal_C=C[cv_accuracy.index(max(cv_accuracy))]\n",
        "\n",
        "print(\"Optimal-C is:\",optimal_C)\n",
        "\n",
        "log_C=[math.log(x) for x in C]\n",
        "plt.plot(log_C,train_accuracy,label=\"Train accuracy\")\n",
        "plt.plot(log_C,cv_accuracy,label=\"CV accuracy\")\n",
        "plt.title(\"Accuracy vs Hyperparameter(C)\")\n",
        "plt.xlabel(\"log_C\")\n",
        "plt.plot(\"Accuracy\")\n",
        "plt.legend()"
      ],
      "metadata": {
        "colab": {
          "base_uri": "https://localhost:8080/",
          "height": 508
        },
        "id": "ypfWw2VZpxru",
        "outputId": "893ce42f-44da-4d3d-c6f7-a6860885ba6d"
      },
      "execution_count": null,
      "outputs": [
        {
          "output_type": "stream",
          "name": "stdout",
          "text": [
            "Optimal-C is: 10000\n"
          ]
        },
        {
          "output_type": "execute_result",
          "data": {
            "text/plain": [
              "<matplotlib.legend.Legend at 0x7898c432da90>"
            ]
          },
          "metadata": {},
          "execution_count": 46
        },
        {
          "output_type": "display_data",
          "data": {
            "text/plain": [
              "<Figure size 640x480 with 1 Axes>"
            ],
            "image/png": "[encoded data removed]"
          },
          "metadata": {}
        }
      ]
    },
    {
      "cell_type": "markdown",
      "source": [
        "## LInear SVM by using Optimal-C"
      ],
      "metadata": {
        "id": "tXbDNLFDp-J4"
      }
    },
    {
      "cell_type": "code",
      "source": [
        "from sklearn.svm import SVC\n",
        "\n",
        "linear_svc=SVC(C=optimal_C,random_state=40)\n",
        "\n",
        "linear_svc.fit(X_train,y_train)\n",
        "y_test_pred=linear_svc.predict(X_test)\n",
        "y_cv_pred=linear_svc.predict(X_cv)\n",
        "\n",
        "y_test_accuracy=accuracy_score(y_test,y_test_pred)\n",
        "y_cv_accuracy=accuracy_score(y_cv,y_cv_pred)\n",
        "\n",
        "y_test_precision=precision_score(y_test,y_test_pred,average=\"macro\")\n",
        "y_cv_precision=precision_score(y_cv,y_cv_pred,average=\"macro\")\n",
        "\n",
        "y_test_recall=recall_score(y_test,y_test_pred,average=\"macro\")\n",
        "y_cv_recall=recall_score(y_cv,y_cv_pred,average=\"macro\")\n",
        "\n",
        "print(\"Acuuracy Score:\")\n",
        "print(f\"Test accuracy score is:{y_test_accuracy:.4f}\")\n",
        "print(f\"CV accuracy score is:{y_cv_accuracy:.4f}\")\n",
        "\n",
        "print(\"Precision Score:\")\n",
        "print(f\"Test Precision score is:{y_test_precision:.4f}\")\n",
        "print(f\"CV Precision score is:{y_cv_precision:.4f}\")\n",
        "\n",
        "print(\"Recall Score:\")\n",
        "print(f\"Test Recall score is:{y_test_recall:.4f}\")\n",
        "print(f\"CV Recall score is:{y_cv_recall:.4f}\")\n",
        "\n",
        "batch7=pd.DataFrame([[\"Linear SVM (kernal=RBF)\",y_test_accuracy,y_cv_accuracy,y_test_precision,y_cv_precision,y_test_recall,y_cv_recall]],columns=col)"
      ],
      "metadata": {
        "colab": {
          "base_uri": "https://localhost:8080/"
        },
        "id": "LjvNLULCqDlD",
        "outputId": "01963734-52aa-4e36-9272-9e73a43bf51c"
      },
      "execution_count": null,
      "outputs": [
        {
          "output_type": "stream",
          "name": "stdout",
          "text": [
            "Acuuracy Score:\n",
            "Test accuracy score is:1.0000\n",
            "CV accuracy score is:1.0000\n",
            "Precision Score:\n",
            "Test Precision score is:1.0000\n",
            "CV Precision score is:1.0000\n",
            "Recall Score:\n",
            "Test Recall score is:1.0000\n",
            "CV Recall score is:1.0000\n"
          ]
        }
      ]
    },
    {
      "cell_type": "markdown",
      "source": [
        "## Dession Tree\n",
        "## Without Hyperparameter Tuning(GridSearch)"
      ],
      "metadata": {
        "id": "Wlm2qKF906Ko"
      }
    },
    {
      "cell_type": "code",
      "source": [
        "from sklearn.tree import DecisionTreeClassifier\n",
        "from sklearn.metrics import roc_auc_score\n",
        "from sklearn.model_selection import GridSearchCV\n",
        "\n",
        "\n",
        "dept = [1, 5, 10, 50, 100, 500, 1000]\n",
        "min_samples =  [5, 10, 100, 500]\n",
        "\n",
        "\n",
        "param_grid={'min_samples_split':min_samples , 'max_depth':dept}\n",
        "clf = DecisionTreeClassifier()\n",
        "\n",
        "model = GridSearchCV(clf,param_grid,scoring='roc_auc',n_jobs=-1,cv=3)\n",
        "model.fit(X_train, y_train)\n",
        "\n",
        "print(\"optimal min_samples_split\",model.best_estimator_.min_samples_split)\n",
        "print(\"optimal max_depth\",model.best_estimator_.max_depth)"
      ],
      "metadata": {
        "colab": {
          "base_uri": "https://localhost:8080/"
        },
        "id": "Ui8aOYny08y2",
        "outputId": "7d8e92bb-1c99-44bc-c306-bb998b6a7a5d"
      },
      "execution_count": null,
      "outputs": [
        {
          "output_type": "stream",
          "name": "stdout",
          "text": [
            "optimal min_samples_split 5\n",
            "optimal max_depth 1\n"
          ]
        }
      ]
    },
    {
      "cell_type": "markdown",
      "source": [
        "## By Using Hyperparameter Tuning"
      ],
      "metadata": {
        "id": "uMh_rvyklK85"
      }
    },
    {
      "cell_type": "code",
      "source": [
        "clf = DecisionTreeClassifier(max_depth = 1,min_samples_split = 5)\n",
        "clf.fit(X_train,y_train)\n",
        "# Predict on the test set and cross-validation set\n",
        "y_train_pred=clf.predict(X_train)\n",
        "y_test_pred = clf.predict(X_test)\n",
        "y_cv_pred = clf.predict(X_cv)\n",
        "\n",
        "# Evaluate the model\n",
        "train_accuracy_dt= accuracy_score(y_train,y_train_pred)\n",
        "test_accuracy_dt = accuracy_score(y_test, y_test_pred)\n",
        "cv_accuracy_dt = accuracy_score(y_cv, y_cv_pred)\n",
        "\n",
        "train_precision_dt= precision_score(y_train,y_train_pred, average='micro')\n",
        "test_precision_dt = precision_score(y_test, y_test_pred, average='micro')\n",
        "cv_precision_dt = precision_score(y_cv, y_cv_pred, average='micro')\n",
        "\n",
        "train_recall_dt= recall_score(y_train,y_train_pred, average='micro')\n",
        "test_recall_dt = recall_score(y_test, y_test_pred, average='micro')\n",
        "cv_recall_dt = recall_score(y_cv, y_cv_pred, average='micro')\n",
        "\n",
        "batch8=pd.DataFrame([[\"Dession Tree(GridSearch)\",y_test_accuracy,y_cv_accuracy,y_test_precision,y_cv_precision,y_test_recall,y_cv_recall]],columns=col)"
      ],
      "metadata": {
        "id": "bEtRzT38lOkb"
      },
      "execution_count": null,
      "outputs": []
    },
    {
      "cell_type": "markdown",
      "source": [
        "## Dession Tree(RandomSearch)\n",
        "## Without Hyperparameter Tuning"
      ],
      "metadata": {
        "id": "nAyvLc6nlYhV"
      }
    },
    {
      "cell_type": "code",
      "source": [
        "from sklearn.model_selection import RandomizedSearchCV\n",
        "from sklearn.tree import DecisionTreeClassifier\n",
        "from sklearn.metrics import roc_auc_score\n",
        "\n",
        "\n",
        "dept = [1, 5, 10, 50, 100, 500, 1000]\n",
        "min_samples =  [5, 10, 100, 500]\n",
        "\n",
        "\n",
        "param_grid={'min_samples_split':min_samples , 'max_depth':dept}\n",
        "clf = DecisionTreeClassifier()\n",
        "\n",
        "model = GridSearchCV(clf,param_grid,scoring='roc_auc',n_jobs=-1,cv=3)\n",
        "model.fit(X_train, y_train)\n",
        "\n",
        "print(\"optimal min_samples_split\",model.best_estimator_.min_samples_split)\n",
        "print(\"optimal max_depth\",model.best_estimator_.max_depth)"
      ],
      "metadata": {
        "colab": {
          "base_uri": "https://localhost:8080/"
        },
        "id": "bZ4k9fRgld3d",
        "outputId": "895ba25a-7077-4cdf-e339-d21b4faed950"
      },
      "execution_count": null,
      "outputs": [
        {
          "output_type": "stream",
          "name": "stdout",
          "text": [
            "optimal min_samples_split 5\n",
            "optimal max_depth 1\n"
          ]
        }
      ]
    },
    {
      "cell_type": "markdown",
      "source": [
        "## Dession Tree(RandomSearch)\n",
        "## By Using Hyperparameter Tuning"
      ],
      "metadata": {
        "id": "l-CmcbttlmUt"
      }
    },
    {
      "cell_type": "code",
      "source": [
        "clf = DecisionTreeClassifier(max_depth = 1,min_samples_split = 5)\n",
        "clf.fit(X_train,y_train)\n",
        "\n",
        "import pickle\n",
        "\n",
        "clf = DecisionTreeClassifier(max_depth = 1,min_samples_split = 5)\n",
        "clf.fit(X_train,y_train)\n",
        "\n",
        "import pickle\n",
        "\n",
        "# Save the model\n",
        "with open('model.pkl', 'wb') as f:\n",
        "    pickle.dump(clf, f)\n",
        "# Predict on the test set and cross-validation set\n",
        "y_train_pred=clf.predict(X_train)\n",
        "y_test_pred = clf.predict(X_test)\n",
        "y_cv_pred = clf.predict(X_cv)\n",
        "\n",
        "# Evaluate the model\n",
        "train_accuracy_dt= accuracy_score(y_train,y_train_pred)\n",
        "test_accuracy_dt = accuracy_score(y_test, y_test_pred)\n",
        "cv_accuracy_dt = accuracy_score(y_cv, y_cv_pred)\n",
        "\n",
        "train_precision_dt= precision_score(y_train,y_train_pred, average='micro')\n",
        "test_precision_dt = precision_score(y_test, y_test_pred, average='micro')\n",
        "cv_precision_dt = precision_score(y_cv, y_cv_pred, average='micro')\n",
        "\n",
        "train_recall_dt= recall_score(y_train,y_train_pred, average='micro')\n",
        "test_recall_dt = recall_score(y_test, y_test_pred, average='micro')\n",
        "cv_recall_dt = recall_score(y_cv, y_cv_pred, average='micro')\n",
        "\n",
        "batch9=pd.DataFrame([[\"Dession Tree(RandomSearch)\",test_accuracy_dt,cv_accuracy_dt,test_precision_dt,cv_precision_dt,test_recall_dt,cv_recall_dt]],columns=col)\n",
        "y_test_pred = clf.predict(X_test)\n",
        "y_cv_pred = clf.predict(X_cv)\n",
        "\n",
        "# Evaluate the model\n",
        "train_accuracy_dt= accuracy_score(y_train,y_train_pred)\n",
        "test_accuracy_dt = accuracy_score(y_test, y_test_pred)\n",
        "cv_accuracy_dt = accuracy_score(y_cv, y_cv_pred)\n",
        "\n",
        "train_precision_dt= precision_score(y_train,y_train_pred, average='micro')\n",
        "test_precision_dt = precision_score(y_test, y_test_pred, average='micro')\n",
        "cv_precision_dt = precision_score(y_cv, y_cv_pred, average='micro')\n",
        "\n",
        "train_recall_dt= recall_score(y_train,y_train_pred, average='micro')\n",
        "test_recall_dt = recall_score(y_test, y_test_pred, average='micro')\n",
        "cv_recall_dt = recall_score(y_cv, y_cv_pred, average='micro')\n",
        "\n",
        "batch9=pd.DataFrame([[\"Dession Tree(RandomSearch)\",y_test_accuracy,y_cv_accuracy,y_test_precision,y_cv_precision,y_test_recall,y_cv_recall]],columns=col)"
      ],
      "metadata": {
        "id": "6-LhO8x2lp7q"
      },
      "execution_count": null,
      "outputs": []
    },
    {
      "cell_type": "markdown",
      "source": [
        "## Random Forest(GridSearch)\n",
        "## Without Hyperparameter"
      ],
      "metadata": {
        "id": "Hu23xnMzlzXU"
      }
    },
    {
      "cell_type": "code",
      "source": [
        "from sklearn.ensemble import RandomForestClassifier\n",
        "from sklearn.metrics import roc_auc_score\n",
        "from sklearn.model_selection import GridSearchCV\n",
        "\n",
        "\n",
        "dept = [1, 5, 10, 50, 100, 500, 1000]\n",
        "min_samples =  [5, 10, 100, 500]\n",
        "\n",
        "\n",
        "param_grid={'min_samples_split':min_samples , 'max_depth':dept}\n",
        "clf = DecisionTreeClassifier()\n",
        "\n",
        "model = GridSearchCV(clf,param_grid,scoring='roc_auc',n_jobs=-1,cv=3)\n",
        "model.fit(X_train, y_train)\n",
        "\n",
        "print(\"optimal min_samples_split\",model.best_estimator_.min_samples_split)\n",
        "print(\"optimal max_depth\",model.best_estimator_.max_depth)"
      ],
      "metadata": {
        "colab": {
          "base_uri": "https://localhost:8080/"
        },
        "id": "aOIHLvR5l2uq",
        "outputId": "5473d310-ac64-4dc3-f88e-90b8c874b48b"
      },
      "execution_count": null,
      "outputs": [
        {
          "output_type": "stream",
          "name": "stdout",
          "text": [
            "optimal min_samples_split 5\n",
            "optimal max_depth 1\n"
          ]
        }
      ]
    },
    {
      "cell_type": "markdown",
      "source": [
        "## By Using Hyperparameter(GridSearch)"
      ],
      "metadata": {
        "id": "jrxbw7aZl-RQ"
      }
    },
    {
      "cell_type": "code",
      "source": [
        "clf = RandomForestClassifier(max_depth = 1,min_samples_split = 5)\n",
        "clf.fit(X_train,y_train)\n",
        "# Predict on the test set and cross-validation set\n",
        "y_train_pred=clf.predict(X_train)\n",
        "y_test_pred = clf.predict(X_test)\n",
        "y_cv_pred = clf.predict(X_cv)\n",
        "\n",
        "# Evaluate the model\n",
        "train_accuracy_dt= accuracy_score(y_train,y_train_pred)\n",
        "test_accuracy_dt = accuracy_score(y_test, y_test_pred)\n",
        "cv_accuracy_dt = accuracy_score(y_cv, y_cv_pred)\n",
        "\n",
        "train_precision_dt= precision_score(y_train,y_train_pred, average='micro')\n",
        "test_precision_dt = precision_score(y_test, y_test_pred, average='micro')\n",
        "cv_precision_dt = precision_score(y_cv, y_cv_pred, average='micro')\n",
        "\n",
        "train_recall_dt= recall_score(y_train,y_train_pred, average='micro')\n",
        "test_recall_dt = recall_score(y_test, y_test_pred, average='micro')\n",
        "cv_recall_dt = recall_score(y_cv, y_cv_pred, average='micro')\n",
        "\n",
        "batch10=pd.DataFrame([[\"Random Forest(GridSearch)\",y_test_accuracy,y_cv_accuracy,y_test_precision,y_cv_precision,y_test_recall,y_cv_recall]],columns=col)"
      ],
      "metadata": {
        "id": "c8GQZC_ql_M-"
      },
      "execution_count": null,
      "outputs": []
    },
    {
      "cell_type": "markdown",
      "source": [
        "## RandomForest(RandomSearch)\n",
        "## Without Hyperparameter Tuning"
      ],
      "metadata": {
        "id": "G3J1f9MPmJu6"
      }
    },
    {
      "cell_type": "code",
      "source": [
        "from sklearn.model_selection import RandomizedSearchCV\n",
        "from sklearn.tree import DecisionTreeClassifier\n",
        "from sklearn.metrics import roc_auc_score\n",
        "\n",
        "\n",
        "dept = [1, 5, 10, 50, 100, 500, 1000]\n",
        "min_samples =  [5, 10, 100, 500]\n",
        "\n",
        "\n",
        "param_grid={'min_samples_split':min_samples , 'max_depth':dept}\n",
        "clf = DecisionTreeClassifier()\n",
        "\n",
        "model = GridSearchCV(clf,param_grid,scoring='roc_auc',n_jobs=-1,cv=3)\n",
        "model.fit(X_train, y_train)\n",
        "\n",
        "print(\"optimal min_samples_split\",model.best_estimator_.min_samples_split)\n",
        "print(\"optimal max_depth\",model.best_estimator_.max_depth)"
      ],
      "metadata": {
        "colab": {
          "base_uri": "https://localhost:8080/"
        },
        "id": "_96EFj7dmNKG",
        "outputId": "f6862c82-ae2c-4b18-db58-4cd26e9b0f3b"
      },
      "execution_count": null,
      "outputs": [
        {
          "output_type": "stream",
          "name": "stdout",
          "text": [
            "optimal min_samples_split 5\n",
            "optimal max_depth 1\n"
          ]
        }
      ]
    },
    {
      "cell_type": "markdown",
      "source": [
        "## By Using Hyperparameter Tuning(RandomSearch)"
      ],
      "metadata": {
        "id": "yAEjsHA9mTv5"
      }
    },
    {
      "cell_type": "code",
      "source": [
        "clf = RandomForestClassifier(max_depth = 1,min_samples_split = 5)\n",
        "clf.fit(X_train,y_train)\n",
        "# Predict on the test set and cross-validation set\n",
        "y_train_pred=clf.predict(X_train)\n",
        "y_test_pred = clf.predict(X_test)\n",
        "y_cv_pred = clf.predict(X_cv)\n",
        "\n",
        "# Evaluate the model\n",
        "train_accuracy_dt= accuracy_score(y_train,y_train_pred)\n",
        "test_accuracy_dt = accuracy_score(y_test, y_test_pred)\n",
        "cv_accuracy_dt = accuracy_score(y_cv, y_cv_pred)\n",
        "\n",
        "train_precision_dt= precision_score(y_train,y_train_pred, average='micro')\n",
        "test_precision_dt = precision_score(y_test, y_test_pred, average='micro')\n",
        "cv_precision_dt = precision_score(y_cv, y_cv_pred, average='micro')\n",
        "\n",
        "train_recall_dt= recall_score(y_train,y_train_pred, average='micro')\n",
        "test_recall_dt = recall_score(y_test, y_test_pred, average='micro')\n",
        "cv_recall_dt = recall_score(y_cv, y_cv_pred, average='micro')\n",
        "\n",
        "batch11=pd.DataFrame([[\"RandomForest(RandomSearch)\",y_test_accuracy,y_cv_accuracy,y_test_precision,y_cv_precision,y_test_recall,y_cv_recall]],columns=col)"
      ],
      "metadata": {
        "id": "Y5pJuSTBmXFl"
      },
      "execution_count": null,
      "outputs": []
    },
    {
      "cell_type": "markdown",
      "source": [
        "## Performance Tabel"
      ],
      "metadata": {
        "id": "Fw30Uv_GmfPQ"
      }
    },
    {
      "cell_type": "code",
      "source": [
        "results=pd.DataFrame()\n",
        "results=pd.concat([results,batch1,batch2,batch3,batch4,batch5,batch6,batch7,batch8,batch9,batch10,batch11],ignore_index=True)\n",
        "results"
      ],
      "metadata": {
        "colab": {
          "base_uri": "https://localhost:8080/",
          "height": 394
        },
        "id": "LjoANQ6wmiP4",
        "outputId": "789ba2a0-8b27-4898-843c-93065af8ce1f"
      },
      "execution_count": null,
      "outputs": [
        {
          "output_type": "execute_result",
          "data": {
            "text/plain": [
              "                         Model  Test Accuracy  CV Accuracy  Test Presision  \\\n",
              "0                          KNN       0.464444     0.459167        0.456946   \n",
              "1                  Naive Bayes       0.953611     0.949306        0.953611   \n",
              "2       Logistic Regression-L1       1.000000     1.000000        1.000000   \n",
              "3       Logistic Regression-L2       1.000000     1.000000        1.000000   \n",
              "4    Logistic Regression-L1&l2       1.000000     1.000000        1.000000   \n",
              "5   Linear SVM (kernal=Linear)       1.000000     1.000000        1.000000   \n",
              "6      Linear SVM (kernal=RBF)       1.000000     1.000000        1.000000   \n",
              "7     Dession Tree(GridSearch)       1.000000     1.000000        1.000000   \n",
              "8   Dession Tree(RandomSearch)       1.000000     1.000000        1.000000   \n",
              "9    Random Forest(GridSearch)       1.000000     1.000000        1.000000   \n",
              "10  RandomForest(RandomSearch)       1.000000     1.000000        1.000000   \n",
              "\n",
              "    CV Precision  Test Recall  CV Recall  \n",
              "0       0.450287     0.464444   0.459167  \n",
              "1       0.949306     0.953611   0.949306  \n",
              "2       1.000000     1.000000   1.000000  \n",
              "3       1.000000     1.000000   1.000000  \n",
              "4       1.000000     1.000000   1.000000  \n",
              "5       1.000000     1.000000   1.000000  \n",
              "6       1.000000     1.000000   1.000000  \n",
              "7       1.000000     1.000000   1.000000  \n",
              "8       1.000000     1.000000   1.000000  \n",
              "9       1.000000     1.000000   1.000000  \n",
              "10      1.000000     1.000000   1.000000  "
            ],
            "text/html": [
              "\n",
              "  <div id=\"df-ff51d5ad-1cbb-4ed8-a3b2-de12cc4c05d8\" class=\"colab-df-container\">\n",
              "    <div>\n",
              "<style scoped>\n",
              "    .dataframe tbody tr th:only-of-type {\n",
              "        vertical-align: middle;\n",
              "    }\n",
              "\n",
              "    .dataframe tbody tr th {\n",
              "        vertical-align: top;\n",
              "    }\n",
              "\n",
              "    .dataframe thead th {\n",
              "        text-align: right;\n",
              "    }\n",
              "</style>\n",
              "<table border=\"1\" class=\"dataframe\">\n",
              "  <thead>\n",
              "    <tr style=\"text-align: right;\">\n",
              "      <th></th>\n",
              "      <th>Model</th>\n",
              "      <th>Test Accuracy</th>\n",
              "      <th>CV Accuracy</th>\n",
              "      <th>Test Presision</th>\n",
              "      <th>CV Precision</th>\n",
              "      <th>Test Recall</th>\n",
              "      <th>CV Recall</th>\n",
              "    </tr>\n",
              "  </thead>\n",
              "  <tbody>\n",
              "    <tr>\n",
              "      <th>0</th>\n",
              "      <td>KNN</td>\n",
              "      <td>0.464444</td>\n",
              "      <td>0.459167</td>\n",
              "      <td>0.456946</td>\n",
              "      <td>0.450287</td>\n",
              "      <td>0.464444</td>\n",
              "      <td>0.459167</td>\n",
              "    </tr>\n",
              "    <tr>\n",
              "      <th>1</th>\n",
              "      <td>Naive Bayes</td>\n",
              "      <td>0.953611</td>\n",
              "      <td>0.949306</td>\n",
              "      <td>0.953611</td>\n",
              "      <td>0.949306</td>\n",
              "      <td>0.953611</td>\n",
              "      <td>0.949306</td>\n",
              "    </tr>\n",
              "    <tr>\n",
              "      <th>2</th>\n",
              "      <td>Logistic Regression-L1</td>\n",
              "      <td>1.000000</td>\n",
              "      <td>1.000000</td>\n",
              "      <td>1.000000</td>\n",
              "      <td>1.000000</td>\n",
              "      <td>1.000000</td>\n",
              "      <td>1.000000</td>\n",
              "    </tr>\n",
              "    <tr>\n",
              "      <th>3</th>\n",
              "      <td>Logistic Regression-L2</td>\n",
              "      <td>1.000000</td>\n",
              "      <td>1.000000</td>\n",
              "      <td>1.000000</td>\n",
              "      <td>1.000000</td>\n",
              "      <td>1.000000</td>\n",
              "      <td>1.000000</td>\n",
              "    </tr>\n",
              "    <tr>\n",
              "      <th>4</th>\n",
              "      <td>Logistic Regression-L1&amp;l2</td>\n",
              "      <td>1.000000</td>\n",
              "      <td>1.000000</td>\n",
              "      <td>1.000000</td>\n",
              "      <td>1.000000</td>\n",
              "      <td>1.000000</td>\n",
              "      <td>1.000000</td>\n",
              "    </tr>\n",
              "    <tr>\n",
              "      <th>5</th>\n",
              "      <td>Linear SVM (kernal=Linear)</td>\n",
              "      <td>1.000000</td>\n",
              "      <td>1.000000</td>\n",
              "      <td>1.000000</td>\n",
              "      <td>1.000000</td>\n",
              "      <td>1.000000</td>\n",
              "      <td>1.000000</td>\n",
              "    </tr>\n",
              "    <tr>\n",
              "      <th>6</th>\n",
              "      <td>Linear SVM (kernal=RBF)</td>\n",
              "      <td>1.000000</td>\n",
              "      <td>1.000000</td>\n",
              "      <td>1.000000</td>\n",
              "      <td>1.000000</td>\n",
              "      <td>1.000000</td>\n",
              "      <td>1.000000</td>\n",
              "    </tr>\n",
              "    <tr>\n",
              "      <th>7</th>\n",
              "      <td>Dession Tree(GridSearch)</td>\n",
              "      <td>1.000000</td>\n",
              "      <td>1.000000</td>\n",
              "      <td>1.000000</td>\n",
              "      <td>1.000000</td>\n",
              "      <td>1.000000</td>\n",
              "      <td>1.000000</td>\n",
              "    </tr>\n",
              "    <tr>\n",
              "      <th>8</th>\n",
              "      <td>Dession Tree(RandomSearch)</td>\n",
              "      <td>1.000000</td>\n",
              "      <td>1.000000</td>\n",
              "      <td>1.000000</td>\n",
              "      <td>1.000000</td>\n",
              "      <td>1.000000</td>\n",
              "      <td>1.000000</td>\n",
              "    </tr>\n",
              "    <tr>\n",
              "      <th>9</th>\n",
              "      <td>Random Forest(GridSearch)</td>\n",
              "      <td>1.000000</td>\n",
              "      <td>1.000000</td>\n",
              "      <td>1.000000</td>\n",
              "      <td>1.000000</td>\n",
              "      <td>1.000000</td>\n",
              "      <td>1.000000</td>\n",
              "    </tr>\n",
              "    <tr>\n",
              "      <th>10</th>\n",
              "      <td>RandomForest(RandomSearch)</td>\n",
              "      <td>1.000000</td>\n",
              "      <td>1.000000</td>\n",
              "      <td>1.000000</td>\n",
              "      <td>1.000000</td>\n",
              "      <td>1.000000</td>\n",
              "      <td>1.000000</td>\n",
              "    </tr>\n",
              "  </tbody>\n",
              "</table>\n",
              "</div>\n",
              "    <div class=\"colab-df-buttons\">\n",
              "\n",
              "  <div class=\"colab-df-container\">\n",
              "    <button class=\"colab-df-convert\" onclick=\"convertToInteractive('df-ff51d5ad-1cbb-4ed8-a3b2-de12cc4c05d8')\"\n",
              "            title=\"Convert this dataframe to an interactive table.\"\n",
              "            style=\"display:none;\">\n",
              "\n",
              "  <svg xmlns=\"http://www.w3.org/2000/svg\" height=\"24px\" viewBox=\"0 -960 960 960\">\n",
              "    <path d=\"M120-120v-720h720v720H120Zm60-500h600v-160H180v160Zm220 220h160v-160H400v160Zm0 220h160v-160H400v160ZM180-400h160v-160H180v160Zm440 0h160v-160H620v160ZM180-180h160v-160H180v160Zm440 0h160v-160H620v160Z\"/>\n",
              "  </svg>\n",
              "    </button>\n",
              "\n",
              "  <style>\n",
              "    .colab-df-container {\n",
              "      display:flex;\n",
              "      gap: 12px;\n",
              "    }\n",
              "\n",
              "    .colab-df-convert {\n",
              "      background-color: #E8F0FE;\n",
              "      border: none;\n",
              "      border-radius: 50%;\n",
              "      cursor: pointer;\n",
              "      display: none;\n",
              "      fill: #1967D2;\n",
              "      height: 32px;\n",
              "      padding: 0 0 0 0;\n",
              "      width: 32px;\n",
              "    }\n",
              "\n",
              "    .colab-df-convert:hover {\n",
              "      background-color: #E2EBFA;\n",
              "      box-shadow: 0px 1px 2px rgba(60, 64, 67, 0.3), 0px 1px 3px 1px rgba(60, 64, 67, 0.15);\n",
              "      fill: #174EA6;\n",
              "    }\n",
              "\n",
              "    .colab-df-buttons div {\n",
              "      margin-bottom: 4px;\n",
              "    }\n",
              "\n",
              "    [theme=dark] .colab-df-convert {\n",
              "      background-color: #3B4455;\n",
              "      fill: #D2E3FC;\n",
              "    }\n",
              "\n",
              "    [theme=dark] .colab-df-convert:hover {\n",
              "      background-color: #434B5C;\n",
              "      box-shadow: 0px 1px 3px 1px rgba(0, 0, 0, 0.15);\n",
              "      filter: drop-shadow(0px 1px 2px rgba(0, 0, 0, 0.3));\n",
              "      fill: #FFFFFF;\n",
              "    }\n",
              "  </style>\n",
              "\n",
              "    <script>\n",
              "      const buttonEl =\n",
              "        document.querySelector('#df-ff51d5ad-1cbb-4ed8-a3b2-de12cc4c05d8 button.colab-df-convert');\n",
              "      buttonEl.style.display =\n",
              "        google.colab.kernel.accessAllowed ? 'block' : 'none';\n",
              "\n",
              "      async function convertToInteractive(key) {\n",
              "        const element = document.querySelector('#df-ff51d5ad-1cbb-4ed8-a3b2-de12cc4c05d8');\n",
              "        const dataTable =\n",
              "          await google.colab.kernel.invokeFunction('convertToInteractive',\n",
              "                                                    [key], {});\n",
              "        if (!dataTable) return;\n",
              "\n",
              "        const docLinkHtml = 'Like what you see? Visit the ' +\n",
              "          '<a target=\"_blank\" href=https://colab.research.google.com/notebooks/data_table.ipynb>data table notebook</a>'\n",
              "          + ' to learn more about interactive tables.';\n",
              "        element.innerHTML = '';\n",
              "        dataTable['output_type'] = 'display_data';\n",
              "        await google.colab.output.renderOutput(dataTable, element);\n",
              "        const docLink = document.createElement('div');\n",
              "        docLink.innerHTML = docLinkHtml;\n",
              "        element.appendChild(docLink);\n",
              "      }\n",
              "    </script>\n",
              "  </div>\n",
              "\n",
              "\n",
              "<div id=\"df-092f8757-ab4a-4319-9f03-3656f37504d2\">\n",
              "  <button class=\"colab-df-quickchart\" onclick=\"quickchart('df-092f8757-ab4a-4319-9f03-3656f37504d2')\"\n",
              "            title=\"Suggest charts\"\n",
              "            style=\"display:none;\">\n",
              "\n",
              "<svg xmlns=\"http://www.w3.org/2000/svg\" height=\"24px\"viewBox=\"0 0 24 24\"\n",
              "     width=\"24px\">\n",
              "    <g>\n",
              "        <path d=\"M19 3H5c-1.1 0-2 .9-2 2v14c0 1.1.9 2 2 2h14c1.1 0 2-.9 2-2V5c0-1.1-.9-2-2-2zM9 17H7v-7h2v7zm4 0h-2V7h2v10zm4 0h-2v-4h2v4z\"/>\n",
              "    </g>\n",
              "</svg>\n",
              "  </button>\n",
              "\n",
              "<style>\n",
              "  .colab-df-quickchart {\n",
              "      --bg-color: #E8F0FE;\n",
              "      --fill-color: #1967D2;\n",
              "      --hover-bg-color: #E2EBFA;\n",
              "      --hover-fill-color: #174EA6;\n",
              "      --disabled-fill-color: #AAA;\n",
              "      --disabled-bg-color: #DDD;\n",
              "  }\n",
              "\n",
              "  [theme=dark] .colab-df-quickchart {\n",
              "      --bg-color: #3B4455;\n",
              "      --fill-color: #D2E3FC;\n",
              "      --hover-bg-color: #434B5C;\n",
              "      --hover-fill-color: #FFFFFF;\n",
              "      --disabled-bg-color: #3B4455;\n",
              "      --disabled-fill-color: #666;\n",
              "  }\n",
              "\n",
              "  .colab-df-quickchart {\n",
              "    background-color: var(--bg-color);\n",
              "    border: none;\n",
              "    border-radius: 50%;\n",
              "    cursor: pointer;\n",
              "    display: none;\n",
              "    fill: var(--fill-color);\n",
              "    height: 32px;\n",
              "    padding: 0;\n",
              "    width: 32px;\n",
              "  }\n",
              "\n",
              "  .colab-df-quickchart:hover {\n",
              "    background-color: var(--hover-bg-color);\n",
              "    box-shadow: 0 1px 2px rgba(60, 64, 67, 0.3), 0 1px 3px 1px rgba(60, 64, 67, 0.15);\n",
              "    fill: var(--button-hover-fill-color);\n",
              "  }\n",
              "\n",
              "  .colab-df-quickchart-complete:disabled,\n",
              "  .colab-df-quickchart-complete:disabled:hover {\n",
              "    background-color: var(--disabled-bg-color);\n",
              "    fill: var(--disabled-fill-color);\n",
              "    box-shadow: none;\n",
              "  }\n",
              "\n",
              "  .colab-df-spinner {\n",
              "    border: 2px solid var(--fill-color);\n",
              "    border-color: transparent;\n",
              "    border-bottom-color: var(--fill-color);\n",
              "    animation:\n",
              "      spin 1s steps(1) infinite;\n",
              "  }\n",
              "\n",
              "  @keyframes spin {\n",
              "    0% {\n",
              "      border-color: transparent;\n",
              "      border-bottom-color: var(--fill-color);\n",
              "      border-left-color: var(--fill-color);\n",
              "    }\n",
              "    20% {\n",
              "      border-color: transparent;\n",
              "      border-left-color: var(--fill-color);\n",
              "      border-top-color: var(--fill-color);\n",
              "    }\n",
              "    30% {\n",
              "      border-color: transparent;\n",
              "      border-left-color: var(--fill-color);\n",
              "      border-top-color: var(--fill-color);\n",
              "      border-right-color: var(--fill-color);\n",
              "    }\n",
              "    40% {\n",
              "      border-color: transparent;\n",
              "      border-right-color: var(--fill-color);\n",
              "      border-top-color: var(--fill-color);\n",
              "    }\n",
              "    60% {\n",
              "      border-color: transparent;\n",
              "      border-right-color: var(--fill-color);\n",
              "    }\n",
              "    80% {\n",
              "      border-color: transparent;\n",
              "      border-right-color: var(--fill-color);\n",
              "      border-bottom-color: var(--fill-color);\n",
              "    }\n",
              "    90% {\n",
              "      border-color: transparent;\n",
              "      border-bottom-color: var(--fill-color);\n",
              "    }\n",
              "  }\n",
              "</style>\n",
              "\n",
              "  <script>\n",
              "    async function quickchart(key) {\n",
              "      const quickchartButtonEl =\n",
              "        document.querySelector('#' + key + ' button');\n",
              "      quickchartButtonEl.disabled = true;  // To prevent multiple clicks.\n",
              "      quickchartButtonEl.classList.add('colab-df-spinner');\n",
              "      try {\n",
              "        const charts = await google.colab.kernel.invokeFunction(\n",
              "            'suggestCharts', [key], {});\n",
              "      } catch (error) {\n",
              "        console.error('Error during call to suggestCharts:', error);\n",
              "      }\n",
              "      quickchartButtonEl.classList.remove('colab-df-spinner');\n",
              "      quickchartButtonEl.classList.add('colab-df-quickchart-complete');\n",
              "    }\n",
              "    (() => {\n",
              "      let quickchartButtonEl =\n",
              "        document.querySelector('#df-092f8757-ab4a-4319-9f03-3656f37504d2 button');\n",
              "      quickchartButtonEl.style.display =\n",
              "        google.colab.kernel.accessAllowed ? 'block' : 'none';\n",
              "    })();\n",
              "  </script>\n",
              "</div>\n",
              "\n",
              "  <div id=\"id_30e44a1f-a180-4b4b-a9fd-7b6f3bce744a\">\n",
              "    <style>\n",
              "      .colab-df-generate {\n",
              "        background-color: #E8F0FE;\n",
              "        border: none;\n",
              "        border-radius: 50%;\n",
              "        cursor: pointer;\n",
              "        display: none;\n",
              "        fill: #1967D2;\n",
              "        height: 32px;\n",
              "        padding: 0 0 0 0;\n",
              "        width: 32px;\n",
              "      }\n",
              "\n",
              "      .colab-df-generate:hover {\n",
              "        background-color: #E2EBFA;\n",
              "        box-shadow: 0px 1px 2px rgba(60, 64, 67, 0.3), 0px 1px 3px 1px rgba(60, 64, 67, 0.15);\n",
              "        fill: #174EA6;\n",
              "      }\n",
              "\n",
              "      [theme=dark] .colab-df-generate {\n",
              "        background-color: #3B4455;\n",
              "        fill: #D2E3FC;\n",
              "      }\n",
              "\n",
              "      [theme=dark] .colab-df-generate:hover {\n",
              "        background-color: #434B5C;\n",
              "        box-shadow: 0px 1px 3px 1px rgba(0, 0, 0, 0.15);\n",
              "        filter: drop-shadow(0px 1px 2px rgba(0, 0, 0, 0.3));\n",
              "        fill: #FFFFFF;\n",
              "      }\n",
              "    </style>\n",
              "    <button class=\"colab-df-generate\" onclick=\"generateWithVariable('results')\"\n",
              "            title=\"Generate code using this dataframe.\"\n",
              "            style=\"display:none;\">\n",
              "\n",
              "  <svg xmlns=\"http://www.w3.org/2000/svg\" height=\"24px\"viewBox=\"0 0 24 24\"\n",
              "       width=\"24px\">\n",
              "    <path d=\"M7,19H8.4L18.45,9,17,7.55,7,17.6ZM5,21V16.75L18.45,3.32a2,2,0,0,1,2.83,0l1.4,1.43a1.91,1.91,0,0,1,.58,1.4,1.91,1.91,0,0,1-.58,1.4L9.25,21ZM18.45,9,17,7.55Zm-12,3A5.31,5.31,0,0,0,4.9,8.1,5.31,5.31,0,0,0,1,6.5,5.31,5.31,0,0,0,4.9,4.9,5.31,5.31,0,0,0,6.5,1,5.31,5.31,0,0,0,8.1,4.9,5.31,5.31,0,0,0,12,6.5,5.46,5.46,0,0,0,6.5,12Z\"/>\n",
              "  </svg>\n",
              "    </button>\n",
              "    <script>\n",
              "      (() => {\n",
              "      const buttonEl =\n",
              "        document.querySelector('#id_30e44a1f-a180-4b4b-a9fd-7b6f3bce744a button.colab-df-generate');\n",
              "      buttonEl.style.display =\n",
              "        google.colab.kernel.accessAllowed ? 'block' : 'none';\n",
              "\n",
              "      buttonEl.onclick = () => {\n",
              "        google.colab.notebook.generateWithVariable('results');\n",
              "      }\n",
              "      })();\n",
              "    </script>\n",
              "  </div>\n",
              "\n",
              "    </div>\n",
              "  </div>\n"
            ],
            "application/vnd.google.colaboratory.intrinsic+json": {
              "type": "dataframe",
              "variable_name": "results",
              "summary": "{\n  \"name\": \"results\",\n  \"rows\": 11,\n  \"fields\": [\n    {\n      \"column\": \"Model\",\n      \"properties\": {\n        \"dtype\": \"string\",\n        \"num_unique_values\": 11,\n        \"samples\": [\n          \"Linear SVM (kernal=Linear)\",\n          \"KNN\",\n          \"Random Forest(GridSearch)\"\n        ],\n        \"semantic_type\": \"\",\n        \"description\": \"\"\n      }\n    },\n    {\n      \"column\": \"Test Accuracy\",\n      \"properties\": {\n        \"dtype\": \"number\",\n        \"std\": 0.16068119668989578,\n        \"min\": 0.46444444444444444,\n        \"max\": 1.0,\n        \"num_unique_values\": 3,\n        \"samples\": [\n          0.46444444444444444,\n          0.9536111111111111,\n          1.0\n        ],\n        \"semantic_type\": \"\",\n        \"description\": \"\"\n      }\n    },\n    {\n      \"column\": \"CV Accuracy\",\n      \"properties\": {\n        \"dtype\": \"number\",\n        \"std\": 0.16225321738451715,\n        \"min\": 0.45916666666666667,\n        \"max\": 1.0,\n        \"num_unique_values\": 3,\n        \"samples\": [\n          0.45916666666666667,\n          0.9493055555555555,\n          1.0\n        ],\n        \"semantic_type\": \"\",\n        \"description\": \"\"\n      }\n    },\n    {\n      \"column\": \"Test Presision\",\n      \"properties\": {\n        \"dtype\": \"number\",\n        \"std\": 0.1629335969245919,\n        \"min\": 0.45694629207989523,\n        \"max\": 1.0,\n        \"num_unique_values\": 3,\n        \"samples\": [\n          0.45694629207989523,\n          0.9536111111111111,\n          1.0\n        ],\n        \"semantic_type\": \"\",\n        \"description\": \"\"\n      }\n    },\n    {\n      \"column\": \"CV Precision\",\n      \"properties\": {\n        \"dtype\": \"number\",\n        \"std\": 0.16491902797126157,\n        \"min\": 0.45028671208875615,\n        \"max\": 1.0,\n        \"num_unique_values\": 3,\n        \"samples\": [\n          0.45028671208875615,\n          0.9493055555555555,\n          1.0\n        ],\n        \"semantic_type\": \"\",\n        \"description\": \"\"\n      }\n    },\n    {\n      \"column\": \"Test Recall\",\n      \"properties\": {\n        \"dtype\": \"number\",\n        \"std\": 0.16068119668989578,\n        \"min\": 0.4644444444444444,\n        \"max\": 1.0,\n        \"num_unique_values\": 3,\n        \"samples\": [\n          0.4644444444444444,\n          0.9536111111111111,\n          1.0\n        ],\n        \"semantic_type\": \"\",\n        \"description\": \"\"\n      }\n    },\n    {\n      \"column\": \"CV Recall\",\n      \"properties\": {\n        \"dtype\": \"number\",\n        \"std\": 0.16225321738451715,\n        \"min\": 0.45916666666666667,\n        \"max\": 1.0,\n        \"num_unique_values\": 3,\n        \"samples\": [\n          0.45916666666666667,\n          0.9493055555555555,\n          1.0\n        ],\n        \"semantic_type\": \"\",\n        \"description\": \"\"\n      }\n    }\n  ]\n}"
            }
          },
          "metadata": {},
          "execution_count": 56
        }
      ]
    },
    {
      "cell_type": "code",
      "source": [],
      "metadata": {
        "id": "H37kHunFsJLP"
      },
      "execution_count": null,
      "outputs": []
    }
  ]
}